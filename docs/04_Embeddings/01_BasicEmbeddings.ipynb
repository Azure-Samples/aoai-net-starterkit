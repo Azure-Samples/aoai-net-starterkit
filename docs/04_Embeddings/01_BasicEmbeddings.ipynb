{
 "cells": [
  {
   "cell_type": "markdown",
   "metadata": {},
   "source": [
    "# 04 Embeddings | 01-BasicEmbeddings\n",
    "\n",
    "## Azure Environment\n",
    "\n",
    "You can create the necessary instance of Azure OpenAI and deploy an embedding model by executing one of the deployment options [mentioned here](../../create_env/src/AzureCLI/CreateEnv.azcli). To execute the sample code service specific information is needed ([Details and instructions here](../01_DemoEnvironment/01_Environment.ipynb)) \n",
    "\n",
    "## Step 1: Create OpenAIClient\n",
    "\n",
    "The OpenAIClient from Azure.AI.OpenAI is a .NET client library that acts as the centralized point for all .NET functionality that want to interact with a deployed Azure OpenAI Large Language Model. It provides methods to access the OpenAI REST APIs for various tasks such as text completion, text embedding, and chat completion, etc.. It also allows developers to specify the model, engine, and options for each request, such as temperature, frequency penalty, presence penalty, and stop sequences. \n",
    "\n",
    "The OpenAIClient can connect to any Azure OpenAI resource or to the non-Azure OpenAI inference endpoint, making it a versatile and powerful tool for .NET development with OpenAI."
   ]
  },
  {
   "cell_type": "code",
   "execution_count": null,
   "metadata": {
    "dotnet_interactive": {
     "language": "csharp"
    },
    "polyglot_notebook": {
     "kernelName": "csharp"
    }
   },
   "outputs": [],
   "source": [
    "#r \"nuget: Azure.AI.OpenAI, 1.0.0-beta.12\"\n",
    "#r \"nuget: DotNetEnv, 2.5.0\"\n",
    "\n",
    "using Azure; \n",
    "using Azure.AI.OpenAI;\n",
    "using DotNetEnv;\n",
    "using System.IO;\n",
    "\n",
    "//configuration file is created during environment creation\n",
    "//if you skipped the deployment just remove the code and provide values from your deployment\n",
    "static string _configurationFile = @\"../01_DemoEnvironment/conf/application.env\";\n",
    "Env.Load(_configurationFile);\n",
    "\n",
    "string oAiApiKey = Environment.GetEnvironmentVariable(\"SKIT_AOAI_APIKEY\") ?? \"SKIT_AOAI_APIKEY not found\";\n",
    "string oAiEndpoint = Environment.GetEnvironmentVariable(\"SKIT_AOAI_ENDPOINT\") ?? \"SKIT_AOAI_ENDPOINT not found\";\n",
    "string embeddingDeploymentName = Environment.GetEnvironmentVariable(\"SKIT_EMBEDDING_DEPLOYMENTNAME\") ?? \"SKIT_EMBEDDING_DEPLOYMENTNAME not found\";\n",
    "\n",
    "string assetsFolder = Path.Combine(Directory.GetCurrentDirectory(), \"..\", \"..\", \"assets\");\n",
    "\n",
    "AzureKeyCredential azureKeyCredential = new AzureKeyCredential(oAiApiKey);\n",
    "OpenAIClient openAIClient = new OpenAIClient(new Uri(oAiEndpoint), azureKeyCredential);\n",
    "Console.WriteLine($\"OpenAI Client created...\");\n"
   ]
  },
  {
   "cell_type": "markdown",
   "metadata": {},
   "source": [
    "Expected output:\n",
    "\n",
    "```\n",
    "Installed Packages\n",
    "    Azure.AI.OpenAI, 1.0.0-beta.12\n",
    "    DotNetEnv, 2.5.0\n",
    "\n",
    "OpenAI Client created...\n",
    "```"
   ]
  },
  {
   "cell_type": "markdown",
   "metadata": {},
   "source": [
    "## Step 2: Create Embeddings\n",
    "\n",
    "The following sample creates a vector representation (embedding) from input text which should be stored in a data base and a query to perform a semantic search.\n",
    "The sample uses the Azure OpenAI SDK.\n",
    "\n",
    "To calculate the embeddings/vector you have to call the method `GetEmbeddingsAsync()` on the instance of `OpenAIClient`. The method provides multiple return values where the embedding can be found in `modelResponse.Value.Data[0]`.\n",
    "\n",
    "In the example embeddings two embeddings/vectors are calculated using the deployed OpenAI model:\n",
    "- The file `Path.Combine(assetInterimFolder, \"acidocu_page_194.txt\");` provides text which was extracted from a [PDF file](../../assets/maintainer_demo/azure_aci_documentation.pdf). It contains textual information from page 194 from the PDF file. \n",
    "- A hard coded string `\"How to best integrate Source Control\"` will be also transformed into an embedding/vector representation.\n",
    "\n",
    "Both embeddings will be used in further samples to perform a vector based query."
   ]
  },
  {
   "cell_type": "code",
   "execution_count": null,
   "metadata": {
    "dotnet_interactive": {
     "language": "csharp"
    },
    "polyglot_notebook": {
     "kernelName": "csharp"
    }
   },
   "outputs": [],
   "source": [
    "\n",
    "string documentationPage = Path.Combine(assetsFolder,\"docs\", \"04_Embeddings\" , \"acidocu_page_194.txt\");\n",
    "\n",
    "string textToBeVecorized = File.ReadAllText(documentationPage);\n",
    "\n",
    "// Vectorize input text from file\n",
    "EmbeddingsOptions embeddingsOptions = new EmbeddingsOptions(embeddingDeploymentName, new List<string> { textToBeVecorized });\n",
    "var modelResponse = await openAIClient.GetEmbeddingsAsync( embeddingsOptions);\n",
    "float[] vectorDocumentation = modelResponse.Value.Data[0].Embedding.ToArray();\n",
    "\n",
    "Console.WriteLine($\"Vector from {documentationPage} created...\");\n",
    "\n",
    "// Vectorize question\n",
    "string question = \"How to best integrate Source Control?\";\n",
    "embeddingsOptions = new EmbeddingsOptions(embeddingDeploymentName, new List<string> { question });\n",
    "modelResponse = await openAIClient.GetEmbeddingsAsync(embeddingsOptions);\n",
    "float[] vectorQuery = modelResponse.Value.Data[0].Embedding.ToArray();\n",
    "\n",
    "Console.WriteLine($\"Vector from '{question}' created... Vector Length: {vectorQuery.Length}\");\n"
   ]
  },
  {
   "cell_type": "markdown",
   "metadata": {},
   "source": [
    "Expected output:\n",
    "\n",
    "```\n",
    "Vector from <path to your local>/OpenAI.StarterKit/docs/04_Embeddings/../../assets/maintainer_demo/interim_data/acidocu_page_194.txt created...\n",
    "Vector from 'How to best integrate Source Control?' created... Vector Length: 1536\n",
    "```"
   ]
  },
  {
   "cell_type": "markdown",
   "metadata": {},
   "source": [
    "## Next step\n",
    "\n",
    "The created embeddings/vectors can be used to perform additional processing on them like similarity search: [Demo Cosine Search](02_CosineSimilarity.ipynb)."
   ]
  }
 ],
 "metadata": {
  "kernelspec": {
   "display_name": ".NET (C#)",
   "language": "C#",
   "name": ".net-csharp"
  },
  "language_info": {
   "name": "polyglot-notebook"
  },
  "polyglot_notebook": {
   "kernelInfo": {
    "defaultKernelName": "csharp",
    "items": [
     {
      "aliases": [],
      "languageName": "csharp",
      "name": "csharp"
     }
    ]
   }
  }
 },
 "nbformat": 4,
 "nbformat_minor": 2
}
