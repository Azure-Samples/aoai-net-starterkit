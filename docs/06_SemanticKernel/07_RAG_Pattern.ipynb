{
 "cells": [
  {
   "cell_type": "markdown",
   "metadata": {},
   "source": [
    "# 07 Semantic Kernel | 07 RAG Pattern\n",
    "\n",
    "## RAG Pattern with Semantic Kernel\n",
    "\n",
    "\n",
    "\n",
    "## Azure Environment\n",
    "\n",
    "To execute the sample code Azure service specific information like endpoint, api key etc. is needed ([Details and instructions can be found here](../01_DemoEnvironment/01_Environment.ipynb)) \n",
    "\n",
    "## Step 1: Create Semantic Kernel instance\n",
    "\n",
    "An instance of Semantic Kernel can be created using the KernelBuilder object provided by the Semantic Kernel SDK. It acts as the centralized point for all .NET functionality that want to interact with Semantic Kernel functionality or concepts.\n",
    "\n",
    "It abstracts e.g., models from the OpenAI GPT family and can communicate with Azure OpenAI LLM instances as well as LLMs deployed on OpenAI. In the sample we use models deployed on Azure."
   ]
  },
  {
   "cell_type": "code",
   "execution_count": null,
   "metadata": {
    "dotnet_interactive": {
     "language": "csharp"
    },
    "polyglot_notebook": {
     "kernelName": "csharp"
    }
   },
   "outputs": [],
   "source": [
    "#r \"nuget: Microsoft.SemanticKernel, 1.3.0\"\n",
    "#r \"nuget: Microsoft.SemanticKernel.Core, 1.3.0\"\n",
    "#r \"nuget: Microsoft.SemanticKernel.Plugins.Memory, 1.3.0-alpha\"\n",
    "#r \"nuget: Microsoft.SemanticKernel.Connectors.Sqlite, 1.3.0-alpha\"\n",
    "#r \"nuget: DotNetEnv, 2.5.0\"\n",
    "\n",
    "using System;\n",
    "using System.IO;\n",
    "using System.Text;\n",
    "using System.Text.RegularExpressions;\n",
    "using System.Text.Json;\n",
    "using System.Text.Json.Serialization;\n",
    "using Microsoft.SemanticKernel;\n",
    "using Microsoft.SemanticKernel.Connectors.OpenAI;\n",
    "using Microsoft.SemanticKernel.Connectors.Sqlite;\n",
    "using Microsoft.SemanticKernel.Memory;\n",
    "using Microsoft.SemanticKernel.Plugins.Memory;\n",
    "\n",
    "#!import Models/Models.cs\n",
    "\n",
    "using DotNetEnv;\n",
    "using InteractiveKernel = Microsoft.DotNet.Interactive.Kernel;\n",
    "\n",
    "//#!import Models/Models.cs\n",
    "\n",
    "const string MemoryCollectionName = \"DemoCollection\";\n",
    "\n",
    "static string _configurationFile = @\"../01_DemoEnvironment/conf/application.env\";\n",
    "Env.Load(_configurationFile);\n",
    "\n",
    "string oAiApiKey = Environment.GetEnvironmentVariable(\"SKIT_AOAI_APIKEY\") ?? \"SKIT_AOAI_APIKEY not found\";\n",
    "string oAiEndpoint = Environment.GetEnvironmentVariable(\"SKIT_AOAI_ENDPOINT\") ?? \"SKIT_AOAI_ENDPOINT not found\";\n",
    "string chatCompletionDeploymentName = Environment.GetEnvironmentVariable(\"SKIT_CHATCOMPLETION_DEPLOYMENTNAME\") ?? \"SKIT_CHATCOMPLETION_DEPLOYMENTNAME not found\";\n",
    "string adaDeploymentName = Environment.GetEnvironmentVariable(\"SKIT_EMBEDDING_DEPLOYMENTNAME\") ?? \"SKIT_EMBEDDING_DEPLOYMENTNAME not found\";\n",
    "\n",
    "Console.WriteLine(oAiEndpoint);\n",
    "Console.WriteLine(oAiApiKey);\n",
    "Console.WriteLine(chatCompletionDeploymentName);\n",
    "Console.WriteLine(adaDeploymentName);\n",
    "\n",
    "#pragma warning disable CS8618,IDE0009,CA1051,CA1050,CA1707,CA2007,VSTHRD111,CS1591,RCS1110,CA5394,SKEXP0001,SKEXP0002,SKEXP0003,SKEXP0004,SKEXP0010,SKEXP0011,SKEXP0012,SKEXP0020,SKEXP0021,SKEXP0022,SKEXP0023,SKEXP0024,SKEXP0025,SKEXP0026,SKEXP0027,SKEXP0028,SKEXP0029,SKEXP0030,SKEXP0031,SKEXP0032,SKEXP0040,SKEXP0041,SKEXP0042,SKEXP0050,SKEXP0051,SKEXP0052,SKEXP0053,SKEXP0054,SKEXP0055,SKEXP0060,SKEXP0061,SKEXP0101,SKEXP0102\n",
    "var kernel = Kernel.CreateBuilder()\n",
    "    .AddAzureOpenAIChatCompletion(chatCompletionDeploymentName, oAiEndpoint, oAiApiKey)\n",
    "    .AddAzureOpenAITextEmbeddingGeneration(adaDeploymentName, oAiEndpoint, oAiApiKey)\n",
    "    .Build();\n"
   ]
  },
  {
   "cell_type": "markdown",
   "metadata": {},
   "source": [
    "#### Expected output\n",
    "\n",
    "```\n",
    "Installed Packages\n",
    "dotenv.net, 2.5.0\n",
    "Microsoft.SemanticKernel, 1.3.0\n",
    "Microsoft.SemanticKernel.Connectors.Sqlite, 1.3.0-alpha\n",
    "Microsoft.SemanticKernel.Core, 1.3.0\n",
    "Microsoft.SemanticKernel.Plugins.Memory, 1.3.0-alpha\n",
    "```"
   ]
  },
  {
   "cell_type": "markdown",
   "metadata": {},
   "source": [
    "## Step 2: Get an SK memory service to handle embeddings"
   ]
  },
  {
   "cell_type": "code",
   "execution_count": null,
   "metadata": {
    "dotnet_interactive": {
     "language": "csharp"
    },
    "polyglot_notebook": {
     "kernelName": "csharp"
    }
   },
   "outputs": [],
   "source": [
    "// Using a RAM stored Vector DB, but I can switch providers like Azure Search, DuckDB, SQLite, etc.\n",
    "#pragma warning disable CS8618,IDE0009,CA1051,CA1050,CA1707,CA2007,VSTHRD111,CS1591,RCS1110,CA5394,SKEXP0001,SKEXP0002,SKEXP0003,SKEXP0004,SKEXP0010,SKEXP0011,SKEXP0012,SKEXP0020,SKEXP0021,SKEXP0022,SKEXP0023,SKEXP0024,SKEXP0025,SKEXP0026,SKEXP0027,SKEXP0028,SKEXP0029,SKEXP0030,SKEXP0031,SKEXP0032,SKEXP0040,SKEXP0041,SKEXP0042,SKEXP0050,SKEXP0051,SKEXP0052,SKEXP0053,SKEXP0054,SKEXP0055,SKEXP0060,SKEXP0061,SKEXP0101,SKEXP0102\n",
    "var memoryStore = new Microsoft.SemanticKernel.Memory.VolatileMemoryStore();\n",
    "//var sqliteStore = await SqliteMemoryStore.ConnectAsync(\"./vectors.sqlite\");\n",
    "\n",
    "\n",
    "#pragma warning disable CS8618,IDE0009,CA1051,CA1050,CA1707,CA2007,VSTHRD111,CS1591,RCS1110,CA5394,SKEXP0001,SKEXP0002,SKEXP0003,SKEXP0004,SKEXP0010,SKEXP0011,SKEXP0012,SKEXP0020,SKEXP0021,SKEXP0022,SKEXP0023,SKEXP0024,SKEXP0025,SKEXP0026,SKEXP0027,SKEXP0028,SKEXP0029,SKEXP0030,SKEXP0031,SKEXP0032,SKEXP0040,SKEXP0041,SKEXP0042,SKEXP0050,SKEXP0051,SKEXP0052,SKEXP0053,SKEXP0054,SKEXP0055,SKEXP0060,SKEXP0061,SKEXP0101,SKEXP0102\n",
    "var embeddingGenerator = new AzureOpenAITextEmbeddingGenerationService(adaDeploymentName, oAiEndpoint, oAiApiKey);\n",
    "\n",
    "// The combination of the text embedding generator and the memory store makes up the 'SemanticTextMemory' object used to\n",
    "// store and retrieve memories.\n",
    "SemanticTextMemory textMemory = new(memoryStore, embeddingGenerator);\n"
   ]
  },
  {
   "cell_type": "markdown",
   "metadata": {},
   "source": [
    "## Step 3: Ingestion\n",
    "\n",
    "### Step 3.1: Read the data"
   ]
  },
  {
   "cell_type": "code",
   "execution_count": null,
   "metadata": {
    "dotnet_interactive": {
     "language": "csharp"
    },
    "polyglot_notebook": {
     "kernelName": "csharp"
    }
   },
   "outputs": [],
   "source": [
    "var data_contents = File.ReadAllText(\"data/rag_data.txt\");"
   ]
  },
  {
   "cell_type": "markdown",
   "metadata": {},
   "source": [
    "### Step 3.2: Break the text into chunks by paragraph"
   ]
  },
  {
   "cell_type": "code",
   "execution_count": null,
   "metadata": {
    "dotnet_interactive": {
     "language": "csharp"
    },
    "polyglot_notebook": {
     "kernelName": "csharp"
    }
   },
   "outputs": [],
   "source": [
    "// Keep a list of chunks\n",
    "var chunks = new List<Chunk>();\n",
    "\n",
    "// For each learning process the chunks\n",
    "var chunkId = 1000;\n",
    "foreach(var chunk in data_contents.Split(\"\\n\\n\"))\n",
    "{    \n",
    "    // Add the chunk to the list\n",
    "    chunks.Add(new Chunk(\"RAG-DATA-\"+chunkId.ToString(), chunk));\n",
    "    chunkId++;\n",
    "}"
   ]
  },
  {
   "cell_type": "markdown",
   "metadata": {},
   "source": [
    "### Step 3.2: Embed and save the text chunk and embedding as a SK Memory"
   ]
  },
  {
   "cell_type": "code",
   "execution_count": null,
   "metadata": {
    "dotnet_interactive": {
     "language": "csharp"
    },
    "polyglot_notebook": {
     "kernelName": "csharp"
    }
   },
   "outputs": [],
   "source": [
    "// Create an embedding generator to use for semantic memory.\n",
    "foreach(var chunk in chunks)\n",
    "{    \n",
    "    await textMemory.SaveInformationAsync(MemoryCollectionName, id: chunk.Id, text: chunk.Text);\n",
    "}"
   ]
  },
  {
   "cell_type": "markdown",
   "metadata": {},
   "source": [
    "## Step 4: Grounding\n",
    "\n",
    "### Step 4.1 Retrieve the memory based on a user's question, a relevance threshold and a limit"
   ]
  },
  {
   "cell_type": "code",
   "execution_count": null,
   "metadata": {
    "dotnet_interactive": {
     "language": "csharp"
    },
    "polyglot_notebook": {
     "kernelName": "csharp"
    }
   },
   "outputs": [],
   "source": [
    "//var query = await InteractiveKernel.GetInputAsync(\"What is your query?\");\n",
    "var question = \"What is the chemical composition of water?\";\n",
    "\n",
    "#pragma warning disable CS8618,IDE0009,CA1051,CA1050,CA1707,CA2007,VSTHRD111,CS1591,RCS1110,CA5394,SKEXP0001,SKEXP0002,SKEXP0003,SKEXP0004,SKEXP0010,SKEXP0011,SKEXP0012,SKEXP0020,SKEXP0021,SKEXP0022,SKEXP0023,SKEXP0024,SKEXP0025,SKEXP0026,SKEXP0027,SKEXP0028,SKEXP0029,SKEXP0030,SKEXP0031,SKEXP0032,SKEXP0040,SKEXP0041,SKEXP0042,SKEXP0050,SKEXP0051,SKEXP0052,SKEXP0053,SKEXP0054,SKEXP0055,SKEXP0060,SKEXP0061,SKEXP0101,SKEXP0102\n",
    "IAsyncEnumerable<MemoryQueryResult> queryResults =\n",
    "                textMemory.SearchAsync(MemoryCollectionName, question, limit: 3, minRelevanceScore: 0.77);"
   ]
  },
  {
   "cell_type": "markdown",
   "metadata": {},
   "source": [
    "### Step 4.2: Collect the text in the memories to augment the prompt"
   ]
  },
  {
   "cell_type": "code",
   "execution_count": null,
   "metadata": {
    "dotnet_interactive": {
     "language": "csharp"
    },
    "polyglot_notebook": {
     "kernelName": "csharp"
    }
   },
   "outputs": [],
   "source": [
    "// Keep the text for the recalled memories\n",
    "StringBuilder memoryText = new StringBuilder();\n",
    "\n",
    "#pragma warning disable CS8618,IDE0009,CA1051,CA1050,CA1707,CA2007,VSTHRD111,CS1591,RCS1110,CA5394,SKEXP0001,SKEXP0002,SKEXP0003,SKEXP0004,SKEXP0010,SKEXP0011,SKEXP0012,SKEXP0020,SKEXP0021,SKEXP0022,SKEXP0023,SKEXP0024,SKEXP0025,SKEXP0026,SKEXP0027,SKEXP0028,SKEXP0029,SKEXP0030,SKEXP0031,SKEXP0032,SKEXP0040,SKEXP0041,SKEXP0042,SKEXP0050,SKEXP0051,SKEXP0052,SKEXP0053,SKEXP0054,SKEXP0055,SKEXP0060,SKEXP0061,SKEXP0101,SKEXP0102\n",
    "await foreach (MemoryQueryResult r in queryResults)\n",
    "{\n",
    "    // Append the text\n",
    "    memoryText.Append(r.Metadata.Text+\"\\n\\n\");\n",
    "}\n",
    "\n",
    "// Final augmented text\n",
    "var promptContext = memoryText.ToString();\n",
    "Console.WriteLine($\"User:\\n{question}\\n\\nNearest results:\\n{promptContext}\")"
   ]
  },
  {
   "cell_type": "markdown",
   "metadata": {},
   "source": [
    "## Step 5: Process the Prompt and Completion\n",
    "\n",
    "- At this point the Prompt includes the original user question plus the text from the embeddings"
   ]
  },
  {
   "cell_type": "code",
   "execution_count": null,
   "metadata": {
    "dotnet_interactive": {
     "language": "csharp"
    },
    "polyglot_notebook": {
     "kernelName": "csharp"
    }
   },
   "outputs": [],
   "source": [
    "const string promptTemplate = \"{{$input}}\\n\\nText:\\n\\\"\\\"\\\"{{$context}}\\n\\\"\\\"\\\"Use only the provided text.\";\n",
    "var rag_question_func = kernel.CreateFunctionFromPrompt(promptTemplate, new OpenAIPromptExecutionSettings() { MaxTokens = 100, Temperature = 0.3 });\n",
    "var arguments = new KernelArguments()\n",
    "        {\n",
    "            [\"input\"] = question,\n",
    "            [\"context\"] = promptContext\n",
    "        };\n",
    "\n",
    "var result = await kernel.InvokeAsync(rag_question_func, arguments);\n",
    "Console.WriteLine(result);        "
   ]
  }
 ],
 "metadata": {
  "kernelspec": {
   "display_name": ".NET (C#)",
   "language": "C#",
   "name": ".net-csharp"
  },
  "language_info": {
   "name": "polyglot-notebook"
  },
  "polyglot_notebook": {
   "kernelInfo": {
    "defaultKernelName": "csharp",
    "items": [
     {
      "aliases": [],
      "languageName": "csharp",
      "name": "csharp"
     }
    ]
   }
  }
 },
 "nbformat": 4,
 "nbformat_minor": 2
}
