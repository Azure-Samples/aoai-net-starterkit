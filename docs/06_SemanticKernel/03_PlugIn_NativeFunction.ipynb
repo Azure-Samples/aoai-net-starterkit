{
 "cells": [
  {
   "cell_type": "markdown",
   "metadata": {},
   "source": [
    "# 06 SemanticKernel | 03 Plugin - Native function\n",
    "\n",
    "## Native function\n",
    "\n",
    "Semantic Kernel can import native c# functions and execute them similar to semantic functions (inline defined or imported from file). \n",
    "\n",
    "Additional information:\n",
    " \n",
    "- [Overview Native Function](./README.md)\n",
    "- [Semantic Inline Function](./01_PlugIn_SemanticFunction_Inline.ipynb)\n",
    "- [Semantic Function from file](./02_PlugIn_SemanticFunction_File.ipynb)"
   ]
  },
  {
   "cell_type": "markdown",
   "metadata": {},
   "source": [
    "## Azure Environment\n",
    "\n",
    "To execute the sample code Azure service specific information like endpoint, api key etc. is needed ([Details and instructions can be found here](../01_DemoEnvironment/01_Environment.ipynb)) \n",
    "\n",
    "## Step 1: Create Semantic Kernel instance\n",
    "\n",
    "An instance of Semantic Kernel can be created using the KernelBuilder object provided by the Semantic Kernel SDK. It acts as the centralized point for all .NET functionality that want to interact with Semantic Kernel functionality or concepts.\n",
    "\n",
    "It abstracts e.g., models from the OpenAI GPT family and can communicate with Azure OpenAI LLM instances as well as LLMs deployed on OpenAI. In the sample we use models deployed on Azure."
   ]
  },
  {
   "cell_type": "code",
   "execution_count": 5,
   "metadata": {
    "dotnet_interactive": {
     "language": "csharp"
    },
    "polyglot_notebook": {
     "kernelName": "csharp"
    }
   },
   "outputs": [
    {
     "data": {
      "text/html": [
       "<div><div></div><div></div><div><strong>Installed Packages</strong><ul><li><span>DotNetEnv, 2.5.0</span></li><li><span>Microsoft.SemanticKernel, 1.0.0-beta1</span></li></ul></div></div>"
      ]
     },
     "metadata": {},
     "output_type": "display_data"
    },
    {
     "name": "stdout",
     "output_type": "stream",
     "text": [
      "Semantic Kernel initialized...\r\n"
     ]
    }
   ],
   "source": [
    "#r \"nuget: Microsoft.SemanticKernel, 1.0.0-beta1\"\n",
    "#r \"nuget: DotNetEnv, 2.5.0\"\n",
    "\n",
    "using Azure; \n",
    "using DotNetEnv;\n",
    "using Microsoft.SemanticKernel;\n",
    "\n",
    "//configuration file is created during environment creation\n",
    "//if you skipped the deployment just remove the code and provide values from your deployment\n",
    "static string _configurationFile = @\"../01_DemoEnvironment/conf/application.env\";\n",
    "Env.Load(_configurationFile);\n",
    "\n",
    "string oAiApiKey = Environment.GetEnvironmentVariable(\"SKIT_AOAI_APIKEY\") ?? \"SKIT_AOAI_APIKEY not found\";\n",
    "string oAiEndpoint = Environment.GetEnvironmentVariable(\"SKIT_AOAI_ENDPOINT\") ?? \"SKIT_AOAI_ENDPOINT not found\";\n",
    "string chatCompletionDeploymentName = Environment.GetEnvironmentVariable(\"SKIT_CHATCOMPLETION_DEPLOYMENTNAME\") ?? \"SKIT_CHATCOMPLETION_DEPLOYMENTNAME not found\";\n",
    "\n",
    "IKernel kernel = new KernelBuilder()\n",
    "    .WithAzureChatCompletionService(\n",
    "        endpoint: oAiEndpoint, \n",
    "        apiKey: oAiApiKey,\n",
    "        deploymentName: chatCompletionDeploymentName)\n",
    "    .Build();\n",
    "\n",
    "Console.WriteLine($\"Semantic Kernel initialized...\");\n",
    "\n"
   ]
  },
  {
   "cell_type": "markdown",
   "metadata": {},
   "source": [
    "#### Expected output:\n",
    "\n",
    "```\n",
    "Installed Packages\n",
    "DotNetEnv, 2.5.0\n",
    "Microsoft.SemanticKernel, 1.0.0-beta1\n",
    "\n",
    "Semantic Kernel initialized...\n",
    "```"
   ]
  },
  {
   "cell_type": "markdown",
   "metadata": {},
   "source": [
    "## Step 2: Define & import native function\n",
    "\n",
    "A default c# function `RetrieveLocalFile()` is defined in class `NativeFunctions` and registered with Semantic Kernel using the kernel's `ImportFunctions()` function."
   ]
  },
  {
   "cell_type": "code",
   "execution_count": 6,
   "metadata": {
    "dotnet_interactive": {
     "language": "csharp"
    },
    "polyglot_notebook": {
     "kernelName": "csharp"
    }
   },
   "outputs": [
    {
     "name": "stdout",
     "output_type": "stream",
     "text": [
      "Inline function RetrieveLocalFile defined and imported...\r\n"
     ]
    }
   ],
   "source": [
    "\n",
    "using Microsoft.SemanticKernel.Orchestration;\n",
    "using System.ComponentModel;\n",
    "using System.IO;\n",
    "\n",
    "public class NativeFunctions {\n",
    "\n",
    "    [SKFunction, Description(\"Retrieve content from local file\")]\n",
    "    public async Task<string> RetrieveLocalFile(string fileName, int maxSize = 5000) \n",
    "    {\n",
    "        string content = await File.ReadAllTextAsync(fileName); \n",
    "        if (content.Length <= maxSize) return content;\n",
    "        return content.Substring(0, maxSize);\n",
    "\n",
    "    }\n",
    "}\n",
    "\n",
    "//Import native function\n",
    "string plugInName = \"NativeFunction\";\n",
    "string functionName = \"RetrieveLocalFile\";\n",
    "\n",
    "NativeFunctions nativeFunctions = new NativeFunctions();\n",
    "kernel.ImportFunctions(nativeFunctions, plugInName);\n",
    "\n",
    "Console.WriteLine($\"Inline function {functionName} defined and imported...\");\n"
   ]
  },
  {
   "cell_type": "markdown",
   "metadata": {},
   "source": [
    "#### Expected output:\n",
    "\n",
    "```\n",
    "Inline function RetrieveLocalFile defined and imported...\n",
    "```"
   ]
  },
  {
   "cell_type": "markdown",
   "metadata": {},
   "source": [
    "## Step 4: Execute native function\n",
    "\n",
    "Semantic Kernel doesn't make a difference if a function is a semantic function (defined inline or imported from directory) or if it is a native function. Therefore, calling the native function isn't different from calling semantic functions.\n",
    "\n",
    "The kernel function `RunAsync()` will be used to execute the native function."
   ]
  },
  {
   "cell_type": "code",
   "execution_count": 7,
   "metadata": {
    "dotnet_interactive": {
     "language": "csharp"
    },
    "polyglot_notebook": {
     "kernelName": "csharp"
    }
   },
   "outputs": [
    {
     "name": "stdout",
     "output_type": "stream",
     "text": [
      "Wiki article: Configure a GitHub Action to create a container in...\r\n"
     ]
    }
   ],
   "source": [
    "string assetsFolder = @\"../../assets\";\n",
    "string fileName = Path.Combine(assetsFolder,\"docs\",\"07_SemanticKernel\", \"aci_documentation.txt\");\n",
    "\n",
    "ContextVariables contextVariables = new ContextVariables();\n",
    "contextVariables.Add(\"fileName\", fileName);\n",
    "contextVariables.Add(\"maxSize\", \"5000\");\n",
    "\n",
    "ISKFunction skFunction = kernel.Functions.GetFunction(plugInName, functionName);\n",
    "\n",
    "KernelResult kernelResult = await kernel.RunAsync(contextVariables, skFunction);         \n",
    "\n",
    "string wikiArticle = kernelResult.GetValue<string>() ?? \"\";\n",
    "\n",
    "Console.WriteLine($\"Wiki article: {wikiArticle.Substring(0,50)}...\");\n"
   ]
  },
  {
   "cell_type": "markdown",
   "metadata": {},
   "source": [
    "#### Expected output:\n",
    "\n",
    "```\n",
    "Wiki article: Configure a GitHub Action to create a container in...\n",
    "```"
   ]
  },
  {
   "cell_type": "markdown",
   "metadata": {},
   "source": [
    "## Next steps\n",
    "\n",
    "Now that semantic functions and native functions have been defined, registered and executed next steps are:\n",
    "\n",
    "- [Explore Memories (Overview)](README.md)\n",
    "- [See Memories in action](./04_Memory.ipynb)\n",
    "\n"
   ]
  }
 ],
 "metadata": {
  "kernelspec": {
   "display_name": ".NET (C#)",
   "language": "C#",
   "name": ".net-csharp"
  },
  "language_info": {
   "name": "polyglot-notebook"
  },
  "polyglot_notebook": {
   "kernelInfo": {
    "defaultKernelName": "csharp",
    "items": [
     {
      "aliases": [],
      "languageName": "csharp",
      "name": "csharp"
     }
    ]
   }
  }
 },
 "nbformat": 4,
 "nbformat_minor": 2
}
