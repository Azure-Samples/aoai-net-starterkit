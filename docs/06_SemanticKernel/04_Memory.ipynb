{
 "cells": [
  {
   "cell_type": "markdown",
   "metadata": {},
   "source": [
    "# 06 SemanticKernel | 04 Memory\n",
    "\n",
    "## Memory\n",
    "\n",
    "With Memories Semantic Kernel provides an high level abstraction which allows storing and querying text information using Embeddings and Vector Databases.\n",
    "\n",
    "Additional information: \n",
    "- [Overview Memory](./README.md)\n",
    "- [What is Semantic Kernel](https://learn.microsoft.com/en-us/semantic-kernel/overview/)"
   ]
  },
  {
   "cell_type": "markdown",
   "metadata": {},
   "source": [
    "## Azure Environment\n",
    "\n",
    "To execute the sample code Azure service specific information like endpoint, api key etc. is needed ([Details and instructions can be found here](../01_DemoEnvironment/01_Environment.ipynb)) \n",
    "\n",
    "## Step 1: Create Memory Builder instance\n",
    "\n",
    "Similar to an instance of Semantic Kernel a Memory instance can be created using the MemoryBuilder object provided by the Semantic Kernel SDK. It acts as the centralized point for all .NET functionality that want to interact with memory related functions. It abstracts e.g., embedding models and can communicate with Vector Databases for storing and retrieving vectors.\n",
    "\n",
    "In the sample a volatile memory store is used (`VolatileMemoryStore()`) which can be used for development. For production scenarios external vector databases should be used. Here's a [list](https://learn.microsoft.com/en-us/semantic-kernel/memories/vector-db) of currently available Semantic Kernel connectors to vector databases."
   ]
  },
  {
   "cell_type": "code",
   "execution_count": null,
   "metadata": {
    "dotnet_interactive": {
     "language": "csharp"
    },
    "polyglot_notebook": {
     "kernelName": "csharp"
    }
   },
   "outputs": [],
   "source": [
    "#r \"nuget: Microsoft.SemanticKernel, 1.0.0-beta1\"\n",
    "#r \"nuget: DotNetEnv, 2.5.0\"\n",
    "\n",
    "using Azure; \n",
    "using DotNetEnv;\n",
    "using Microsoft.SemanticKernel;\n",
    "using Microsoft.SemanticKernel.Memory; \n",
    "using Microsoft.SemanticKernel.Plugins.Memory; \n",
    "using Microsoft.SemanticKernel.Connectors.AI.OpenAI;\n",
    "\n",
    "//configuration file is created during environment creation\n",
    "//if you skipped the deployment just remove the code and provide values from your deployment\n",
    "static string _configurationFile = @\"../01_DemoEnvironment/conf/application.env\";\n",
    "Env.Load(_configurationFile);\n",
    "\n",
    "string oAiApiKey = Environment.GetEnvironmentVariable(\"SKIT_AOAI_APIKEY\") ?? \"SKIT_AOAI_APIKEY not found\";\n",
    "string oAiEndpoint = Environment.GetEnvironmentVariable(\"SKIT_AOAI_ENDPOINT\") ?? \"SKIT_AOAI_ENDPOINT not found\";\n",
    "string embeddingDeploymentName = Environment.GetEnvironmentVariable(\"SKIT_EMBEDDING_DEPLOYMENTNAME\");\n",
    "\n",
    "ISemanticTextMemory memoryBuilder = new MemoryBuilder()\n",
    "    .WithAzureTextEmbeddingGenerationService(\n",
    "        endpoint: oAiEndpoint, \n",
    "        apiKey: oAiApiKey,\n",
    "        deploymentName: embeddingDeploymentName)\n",
    "    .WithMemoryStore(new VolatileMemoryStore())\n",
    "    .Build();\n",
    "\n",
    "Console.WriteLine($\"Memory Builder created...\");\n"
   ]
  },
  {
   "cell_type": "markdown",
   "metadata": {},
   "source": [
    "#### Expected output:\n",
    "\n",
    "```\n",
    "Installed Packages\n",
    "DotNetEnv, 2.5.0\n",
    "Microsoft.SemanticKernel, 1.0.0-beta1\n",
    "Memory Builder created.....\n",
    "```"
   ]
  },
  {
   "cell_type": "markdown",
   "metadata": {},
   "source": [
    "## Step 2: Define Knowledge\n",
    "\n",
    "A definition of arbitrary facts which will be stored and queried using Semantic Kernel Memories."
   ]
  },
  {
   "cell_type": "code",
   "execution_count": null,
   "metadata": {
    "dotnet_interactive": {
     "language": "csharp"
    },
    "polyglot_notebook": {
     "kernelName": "csharp"
    }
   },
   "outputs": [],
   "source": [
    "Dictionary<string,string> facts = new Dictionary<string,string>();\n",
    "\n",
    "facts.Add(\n",
    "    \"1; Azure Container Instances; https://docs.microsoft.com/en-us/azure/container-instances/\", \n",
    "        @\"Containers are becoming the preferred way to package, deploy, and manage cloud applications. \n",
    "        Azure Container Instances offers the fastest and simplest way to run a container in Azure, \n",
    "        without having to manage any virtual machines and without having to adopt a higher-level service.\n",
    "        Azure Container Instances is a great solution for any scenario that can operate in isolated containers, \n",
    "        including simple applications, task automation, and build jobs. For scenarios where you need full container orchestration, \n",
    "        including service discovery across multiple containers, automatic scaling, and coordinated application upgrades.\n",
    "        We recommend reading through the considerations and limitations and the FAQs \n",
    "        to understand the best practices when deploying container instances.\"\n",
    ");\n",
    "\n",
    "facts.Add(\n",
    "    \"1; Azure Machine Learning; https://docs.microsoft.com/en-us/azure/machine-learning/\", \n",
    "        @\"Azure Machine Learning is a cloud service for accelerating and managing the machine learning project lifecycle. \n",
    "        Machine learning professionals, data scientists, and engineers can use it in their day-to-day workflows: \n",
    "        Train and deploy models, and manage MLOps.\n",
    "        You can create a model in Azure Machine Learning or use a model built from an open-source platform, \n",
    "        such as Pytorch, TensorFlow, or scikit-learn. MLOps tools help you monitor, retrain, and redeploy models.\"\n",
    ");\n",
    "\n",
    "facts.Add(\n",
    "    \"2; Azure SQL Service; https://docs.microsoft.com/en-us/azure/azure-sql/\", \n",
    "        @\"Azure SQL is a family of managed, secure, and intelligent products that use the SQL Server database \n",
    "        engine in the Azure cloud. Azure SQL is built upon the familiar SQL Server engine, so you can migrate \n",
    "        applications with ease and continue to use the tools, languages, and resources you're familiar with. \n",
    "        Your skills and experience transfer to the cloud, so you can do even more with what you already have\"\n",
    ");\n",
    "\n",
    "Console.WriteLine($\"Facts loaded...\");\n"
   ]
  },
  {
   "cell_type": "markdown",
   "metadata": {},
   "source": [
    "#### Expected output:\n",
    "\n",
    "```\n",
    "Facts loaded...\n",
    "```"
   ]
  },
  {
   "cell_type": "markdown",
   "metadata": {},
   "source": [
    "## Step 4:Store facts\n",
    "\n",
    "The instance of `MemoryBuilder` provides an function `SaveReferenceAsync()` which can be used to store text information with additional attributes like description, externalId, externalSourceName etc. MemoryBuilder performs behind the scenes calls to the registered Embeddings LLM to convert the provided textual information into a vector representation and stores the vector in the provided vector database. "
   ]
  },
  {
   "cell_type": "code",
   "execution_count": null,
   "metadata": {
    "dotnet_interactive": {
     "language": "csharp"
    },
    "polyglot_notebook": {
     "kernelName": "csharp"
    }
   },
   "outputs": [],
   "source": [
    "string memoryCollectionName = \"SummarizedAzureDocs\";\n",
    "\n",
    "foreach (var fact in facts) {\n",
    "\n",
    "    await memoryBuilder.SaveReferenceAsync(\n",
    "        collection: memoryCollectionName,\n",
    "        description: fact.Key.Split(\";\")[1].Trim(),\n",
    "        text: fact.Value,\n",
    "        externalId: fact.Key.Split(\";\")[2].Trim(),\n",
    "        externalSourceName: \"Azure Documenation\"\n",
    "    );\n",
    "    \n",
    "    Console.WriteLine($\"Summarizations reference saved: '{fact.Key.Split(\";\")[1].Trim()}' ...\");\n",
    "}\n"
   ]
  },
  {
   "cell_type": "markdown",
   "metadata": {},
   "source": [
    "#### Expected output:\n",
    "\n",
    "```\n",
    "Summarizations reference saved: 'Azure Container Instances' ...\n",
    "Summarizations reference saved: 'Azure Machine Learning' ...\n",
    "Summarizations reference saved: 'Azure SQL Service' ...\n",
    "```"
   ]
  },
  {
   "cell_type": "markdown",
   "metadata": {},
   "source": [
    "### Step 5 - Query Memory\n",
    "\n",
    "Querying memories is similarly simple like storing information. The function `SearchAsync()` provided by the MemoryBuilder instance performs the necessary tasks to convert the query text into a vector representation using an Embedding LLM as well as communicating with the registered vector db to query content based on the query."
   ]
  },
  {
   "cell_type": "code",
   "execution_count": null,
   "metadata": {
    "dotnet_interactive": {
     "language": "csharp"
    },
    "polyglot_notebook": {
     "kernelName": "csharp"
    }
   },
   "outputs": [],
   "source": [
    "string[] queryPhrases = {\n",
    "    \"Data Storage\", \n",
    "    \"Kubernetes\",\n",
    "    \"Artificial Intelligence\"\n",
    "};\n",
    "\n",
    "foreach (string query in queryPhrases) {\n",
    "    \n",
    "    IAsyncEnumerable<MemoryQueryResult> memoryQueryResults = memoryBuilder.SearchAsync(\n",
    "                collection: memoryCollectionName, \n",
    "                query: query, \n",
    "                limit:1, \n",
    "                minRelevanceScore: 0.75);\n",
    "    \n",
    "    await foreach (MemoryQueryResult memoryQueryResult in memoryQueryResults)\n",
    "    {\n",
    "        Console.WriteLine($\"Query: {query}\");\n",
    "        Console.WriteLine($\"  Id:         : {memoryQueryResult.Metadata.Id}\");\n",
    "        Console.WriteLine($\"  Description : {memoryQueryResult.Metadata.Description}\");\n",
    "        Console.WriteLine($\"  Relevance   : {memoryQueryResult.Relevance}\");\n",
    "    }\n",
    "}\n"
   ]
  },
  {
   "cell_type": "markdown",
   "metadata": {},
   "source": [
    "Expected Outcome\n",
    "\n",
    "```\n",
    "Query: Data Storage\n",
    "  Id:         : https://docs.microsoft.com/en-us/azure/azure-sql/\n",
    "  Description : Azure SQL Service\n",
    "  Relevance   : 0.7799396182360798\n",
    "Query: Kubernetes\n",
    "  Id:         : https://docs.microsoft.com/en-us/azure/container-instances/\n",
    "  Description : Azure Container Instances\n",
    "  Relevance   : 0.8090541118690212\n",
    "Query: Artificial Intelligence\n",
    "  Id:         : https://docs.microsoft.com/en-us/azure/machine-learning/\n",
    "  Description : Azure Machine Learning\n",
    "  Relevance   : 0.7889358688189336\n",
    "```"
   ]
  },
  {
   "cell_type": "markdown",
   "metadata": {},
   "source": [
    "## Next steps\n",
    "\n",
    "- [Use Semantic Kernel Planner](./05_Planner.ipynb)\n",
    "\n"
   ]
  }
 ],
 "metadata": {
  "kernelspec": {
   "display_name": ".NET (C#)",
   "language": "C#",
   "name": ".net-csharp"
  },
  "language_info": {
   "name": "polyglot-notebook"
  },
  "polyglot_notebook": {
   "kernelInfo": {
    "defaultKernelName": "csharp",
    "items": [
     {
      "aliases": [],
      "languageName": "csharp",
      "name": "csharp"
     }
    ]
   }
  }
 },
 "nbformat": 4,
 "nbformat_minor": 2
}
