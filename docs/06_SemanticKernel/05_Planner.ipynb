{
 "cells": [
  {
   "cell_type": "markdown",
   "metadata": {},
   "source": [
    "# 06 SemanticKernel | 05 Planner\n",
    "\n",
    "## Planner\n",
    "\n",
    "With Planner Semantic Kernel provides concept where a call to a LLM from the GPT family is asked to create an execution plan for a given task based on functionality provided to Semantic Kernel by Plugins.\n",
    "\n",
    "Additional information: \n",
    "- [Overview Memory](./README.md)\n",
    "- [What is Semantic Kernel](https://learn.microsoft.com/en-us/semantic-kernel/overview/)\n",
    "- [Semantic Kernel Planner](https://learn.microsoft.com/en-us/semantic-kernel/ai-orchestration/planners/?tabs=Csharp)"
   ]
  },
  {
   "cell_type": "markdown",
   "metadata": {},
   "source": [
    "## Azure Environment\n",
    "\n",
    "To execute the sample code Azure service specific information like endpoint, api key etc. is needed ([Details and instructions can be found here](../01_DemoEnvironment/01_Environment.ipynb)) \n",
    "\n",
    "## Step 1: Create Semantic Kernel instance\n",
    "\n",
    "An instance of Semantic Kernel can be created using the KernelBuilder object provided by the Semantic Kernel SDK. It acts as the centralized point for all .NET functionality that want to interact with Semantic Kernel functionality or concepts.\n",
    "\n",
    "It abstracts e.g., models from the OpenAI GPT family and can communicate with Azure OpenAI LLM instances as well as LLMs deployed on OpenAI. In the sample we use models deployed on Azure."
   ]
  },
  {
   "cell_type": "code",
   "execution_count": null,
   "metadata": {
    "dotnet_interactive": {
     "language": "csharp"
    },
    "polyglot_notebook": {
     "kernelName": "csharp"
    }
   },
   "outputs": [],
   "source": [
    "#r \"nuget: Microsoft.SemanticKernel, 1.0.0-beta1\"\n",
    "#r \"nuget: DotNetEnv, 2.5.0\"\n",
    "\n",
    "using Azure; \n",
    "using DotNetEnv;\n",
    "using Microsoft.SemanticKernel;\n",
    "\n",
    "//configuration file is created during environment creation\n",
    "//if you skipped the deployment just remove the code and provide values from your deployment\n",
    "static string _configurationFile = @\"../01_DemoEnvironment/conf/application.env\";\n",
    "Env.Load(_configurationFile);\n",
    "\n",
    "string oAiApiKey = Environment.GetEnvironmentVariable(\"SKIT_AOAI_APIKEY\") ?? \"SKIT_AOAI_APIKEY not found\";\n",
    "string oAiEndpoint = Environment.GetEnvironmentVariable(\"SKIT_AOAI_ENDPOINT\") ?? \"SKIT_AOAI_ENDPOINT not found\";\n",
    "string chatCompletionDeploymentName = Environment.GetEnvironmentVariable(\"SKIT_CHATCOMPLETION_DEPLOYMENTNAME\") ?? \"SKIT_CHATCOMPLETION_DEPLOYMENTNAME not found\";\n",
    "\n",
    "IKernel kernel = new KernelBuilder()\n",
    "    .WithAzureChatCompletionService(\n",
    "        endpoint: oAiEndpoint, \n",
    "        apiKey: oAiApiKey,\n",
    "        deploymentName: chatCompletionDeploymentName)\n",
    "    .Build();\n",
    "\n",
    "Console.WriteLine($\"Semantic Kernel initialized...\");\n"
   ]
  },
  {
   "cell_type": "markdown",
   "metadata": {},
   "source": [
    "#### Expected output:\n",
    "\n",
    "```\n",
    "Installed Packages\n",
    "DotNetEnv, 2.5.0\n",
    "Microsoft.SemanticKernel, 1.0.0-beta1\n",
    "\n",
    "Semantic Kernel initialized...\n",
    "```"
   ]
  },
  {
   "cell_type": "markdown",
   "metadata": {},
   "source": [
    "## Step 2: Function definition (native & semantic from file)\n",
    "\n",
    "Two functions are defined and will be registered with Semantic Kernel. One function (native function) retrieves content from a local file. The second function (file based semantic function) performs a summarization of provided text."
   ]
  },
  {
   "cell_type": "code",
   "execution_count": null,
   "metadata": {
    "dotnet_interactive": {
     "language": "csharp"
    },
    "polyglot_notebook": {
     "kernelName": "csharp"
    }
   },
   "outputs": [],
   "source": [
    "using Microsoft.SemanticKernel.Orchestration;\n",
    "using System.ComponentModel;\n",
    "using System.IO;\n",
    "\n",
    "public class NativeFunctions {\n",
    "\n",
    "    [SKFunction, Description(\"Retrieve content from local file\")]\n",
    "    public async Task<string> RetrieveLocalFile(string fileName, int maxSize = 5000) \n",
    "    {\n",
    "        string content = await File.ReadAllTextAsync(fileName); \n",
    "        if (content.Length <= maxSize) return content;\n",
    "        return content.Substring(0, maxSize);\n",
    "\n",
    "    }\n",
    "}\n",
    "\n",
    "//Import native function\n",
    "string plugInName = \"NativeFunction\";\n",
    "string functionName = \"RetrieveLocalFile\";\n",
    "\n",
    "NativeFunctions nativeFunctions = new NativeFunctions();\n",
    "kernel.ImportFunctions(nativeFunctions, plugInName);\n",
    "\n",
    "Console.WriteLine($\"Inline function {functionName} defined and imported...\");\n",
    "\n",
    "string pluginsDirectory = Path.Combine(Directory.GetCurrentDirectory(), \"PluginLibrary\");\n",
    "plugInName = \"CreateSummary\";\n",
    "kernel.ImportSemanticFunctionsFromDirectory(pluginsDirectory, plugInName);\n",
    "\n",
    "Console.WriteLine($\"Semantic functions imported from directory '{pluginsDirectory}'...\");"
   ]
  },
  {
   "cell_type": "markdown",
   "metadata": {},
   "source": [
    "#### Expected output:\n",
    "\n",
    "```\n",
    "Inline function RetrieveLocalFile defined and imported...\n",
    "Semantic functions imported from directory 'c:\\Sourcen\\GitHubProjects\\OpenAI.StarterKit\\docs\\07_SemanticKernel\\PluginLibrary'...\n",
    "```"
   ]
  },
  {
   "cell_type": "markdown",
   "metadata": {},
   "source": [
    "## Step 4: Create & execute Planner\n",
    "\n",
    "An ask *\"Read content from a local file and summarize the content\"* is defined and a new `SequentialPlanner` instance is created. \n",
    "`SequentialPlanner` provides a function `CreatePlanAsync()` which takes the defined ask, creates based on registered functions (by using the LLM registered with Semantic Kernel) an execution Plan. This plan includes all functions which should be called including sequence and parameters. To execute the plan the kernel function `RunAsync()` is called."
   ]
  },
  {
   "cell_type": "code",
   "execution_count": null,
   "metadata": {
    "dotnet_interactive": {
     "language": "csharp"
    },
    "polyglot_notebook": {
     "kernelName": "csharp"
    }
   },
   "outputs": [],
   "source": [
    "using Microsoft.SemanticKernel.Planners;\n",
    "using Microsoft.SemanticKernel.Orchestration;\n",
    "\n",
    "string actionDefinition = \"Read content from a local file and summarize the content.\";\n",
    "\n",
    "SequentialPlanner sequentialPlanner = new SequentialPlanner(kernel);      \n",
    "\n",
    "string assetsFolder = @\"../../assets\";\n",
    "string fileName = Path.Combine(assetsFolder,\"docs\",\"07_SemanticKernel\", \"aci_documentation.txt\");\n",
    "\n",
    "ContextVariables contextVariables = new ContextVariables();\n",
    "contextVariables.Add(\"fileName\", fileName);\n",
    "\n",
    "var customPlan = await sequentialPlanner.CreatePlanAsync(actionDefinition);\n",
    "\n",
    "KernelResult kernelResult = await kernel.RunAsync(contextVariables, customPlan);\n",
    "\n",
    "Console.WriteLine($\"Summarization: {kernelResult.GetValue<string>()}\");\n"
   ]
  },
  {
   "cell_type": "markdown",
   "metadata": {},
   "source": [
    "#### Expected output:\n",
    "\n",
    "```\n",
    "Summarization: To configure a GitHub Action to create ...\n",
    "```"
   ]
  },
  {
   "cell_type": "markdown",
   "metadata": {},
   "source": [
    "## Next steps\n",
    "\n",
    "- [Add logging functionality to Semantic Kernel ](./06_Logs.ipynb)\n",
    "\n"
   ]
  }
 ],
 "metadata": {
  "kernelspec": {
   "display_name": ".NET (C#)",
   "language": "C#",
   "name": ".net-csharp"
  },
  "language_info": {
   "name": "polyglot-notebook"
  },
  "polyglot_notebook": {
   "kernelInfo": {
    "defaultKernelName": "csharp",
    "items": [
     {
      "aliases": [],
      "languageName": "csharp",
      "name": "csharp"
     }
    ]
   }
  }
 },
 "nbformat": 4,
 "nbformat_minor": 2
}
