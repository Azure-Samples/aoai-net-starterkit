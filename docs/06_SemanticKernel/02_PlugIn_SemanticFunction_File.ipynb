{
 "cells": [
  {
   "cell_type": "markdown",
   "metadata": {},
   "source": [
    "# 06 SemanticKernel | 02 Plugin - Semantic Function - File Definition\n",
    "\n",
    "## Semantic function as part of a Skill (external definition)\n",
    "\n",
    "In [this notebook](./01-Semantic-PlugIn-Inline.ipynb) a semantic function was defined inline as part of the code. Changing prompts means also re-compiling the application. To de-couple prompts from application code Semantic Kernel provides functionality to import prompts and supporting prompt configuration files from a directory structure. \n",
    "\n",
    "Per semantic function two files need to be provided:\n",
    "\n",
    "- skprompt.txt (prompt definition)\n",
    "- config.json (LLM call properties)\n",
    "\n",
    "Additional information: \n",
    "- [Overview Semantic Function](./README.md)\n",
    "- [Serializing semantic functions](https://learn.microsoft.com/en-us/semantic-kernel/ai-orchestration/plugins/semantic-functions/serializing-semantic-functions?tabs=Csharp)"
   ]
  },
  {
   "cell_type": "markdown",
   "metadata": {},
   "source": [
    "## Azure Environment\n",
    "\n",
    "To execute the sample code Azure service specific information like endpoint, api key etc. is needed ([Details and instructions can be found here](../01_DemoEnvironment/01_Environment.ipynb)) \n",
    "\n",
    "## Step 1: Create Semantic Kernel instance\n",
    "\n",
    "An instance of Semantic Kernel can be created using the KernelBuilder object provided by the Semantic Kernel SDK. It acts as the centralized point for all .NET functionality that want to interact with Semantic Kernel functionality or concepts.\n",
    "\n",
    "It abstracts e.g., models from the OpenAI GPT family and can communicate with Azure OpenAI LLM instances as well as LLMs deployed on OpenAI. In the sample we use models deployed on Azure."
   ]
  },
  {
   "cell_type": "code",
   "execution_count": null,
   "metadata": {
    "dotnet_interactive": {
     "language": "csharp"
    },
    "polyglot_notebook": {
     "kernelName": "csharp"
    }
   },
   "outputs": [],
   "source": [
    "#r \"nuget: Microsoft.SemanticKernel, 1.0.0-beta1\"\n",
    "#r \"nuget: DotNetEnv, 2.5.0\"\n",
    "\n",
    "using Azure; \n",
    "using DotNetEnv;\n",
    "using Microsoft.SemanticKernel;\n",
    "\n",
    "//configuration file is created during environment creation\n",
    "//if you skipped the deployment just remove the code and provide values from your deployment\n",
    "static string _configurationFile = @\"../01_DemoEnvironment/conf/application.env\";\n",
    "Env.Load(_configurationFile);\n",
    "\n",
    "string oAiApiKey = Environment.GetEnvironmentVariable(\"SKIT_AOAI_APIKEY\") ?? \"SKIT_AOAI_APIKEY not found\";\n",
    "string oAiEndpoint = Environment.GetEnvironmentVariable(\"SKIT_AOAI_ENDPOINT\") ?? \"SKIT_AOAI_ENDPOINT not found\";\n",
    "string chatCompletionDeploymentName = Environment.GetEnvironmentVariable(\"SKIT_CHATCOMPLETION_DEPLOYMENTNAME\") ?? \"SKIT_CHATCOMPLETION_DEPLOYMENTNAME not found\";\n",
    "\n",
    "IKernel kernel = new KernelBuilder()\n",
    "    .WithAzureChatCompletionService(\n",
    "        endpoint: oAiEndpoint, \n",
    "        apiKey: oAiApiKey,\n",
    "        deploymentName: chatCompletionDeploymentName)\n",
    "    .Build();\n",
    "\n",
    "Console.WriteLine($\"Semantic Kernel initialized...\");\n",
    "\n"
   ]
  },
  {
   "cell_type": "markdown",
   "metadata": {},
   "source": [
    "#### Expected output:\n",
    "\n",
    "```\n",
    "Installed Packages\n",
    "DotNetEnv, 2.5.0\n",
    "Microsoft.SemanticKernel, 1.0.0-beta1\n",
    "\n",
    "Semantic Kernel initialized...\n",
    "```"
   ]
  },
  {
   "cell_type": "markdown",
   "metadata": {},
   "source": [
    "## Step 2: Import Semantic Functions\n",
    "\n",
    "The kernel function `ImportSemanticFunctionsFromDirectory()` can be used to make Semantic Kernel aware of external function definitions. Each external function is defined in two files: \n",
    "\n",
    "  - [*skprompt.txt*](./PluginLibrary/CreateSummary/SimpleSummary/skprompt.txt): contains the prompt definition\n",
    "  - [*config.json*](./PluginLibrary/CreateSummary/SimpleSummary/config.json): contains parameter to be used when calling the LLM  \n"
   ]
  },
  {
   "cell_type": "code",
   "execution_count": null,
   "metadata": {
    "dotnet_interactive": {
     "language": "csharp"
    },
    "polyglot_notebook": {
     "kernelName": "csharp"
    }
   },
   "outputs": [],
   "source": [
    "using System.IO; \n",
    "\n",
    "string pluginsDirectory = Path.Combine(Directory.GetCurrentDirectory(), \"PluginLibrary\");\n",
    "\n",
    "string plugInName = \"CreateSummary\";\n",
    "kernel.ImportSemanticFunctionsFromDirectory(pluginsDirectory, plugInName);\n",
    "\n",
    "Console.WriteLine($\"Semantic functions imported from directory '{pluginsDirectory}'...\");\n"
   ]
  },
  {
   "cell_type": "markdown",
   "metadata": {},
   "source": [
    "#### Expected output:\n",
    "\n",
    "```\n",
    "Semantic functions imported from directory 'xxxx\\docs\\07_SemanticKernel\\PluginLibrary'...\n",
    "```"
   ]
  },
  {
   "cell_type": "markdown",
   "metadata": {},
   "source": [
    "## Step 4: Execute Skill from Plugin\n",
    "\n",
    "Just like with semantic functions defined inline the kernel function `RunAsync()` is used to execute the external semantic function."
   ]
  },
  {
   "cell_type": "code",
   "execution_count": null,
   "metadata": {
    "dotnet_interactive": {
     "language": "csharp"
    },
    "polyglot_notebook": {
     "kernelName": "csharp"
    }
   },
   "outputs": [],
   "source": [
    "using Microsoft.SemanticKernel.Orchestration;\n",
    "\n",
    "//Read text from file which should be summarized\n",
    "string assetsFolder = @\"../../assets\";\n",
    "string input = await File.ReadAllTextAsync(Path.Combine(assetsFolder,\"docs\",\"06_SemanticKernel\", \"aci_documentation.txt\"));\n",
    "\n",
    "//Define function which need to be called\n",
    "string functionName = \"SimpleSummary\";\n",
    "\n",
    "//Call Function\n",
    "ISKFunction skFunction = kernel.Functions.GetFunction(plugInName, functionName);\n",
    "KernelResult result = await kernel.RunAsync(input, skFunction); \n",
    "\n",
    "Console.WriteLine($\"Summary: {result.GetValue<string>().Substring(0,50)}...\");\n"
   ]
  },
  {
   "cell_type": "markdown",
   "metadata": {},
   "source": [
    "#### Expected output:\n",
    "\n",
    "```\n",
    "Summary: This article explains how to use the Deploy to Azu...\n",
    "```"
   ]
  },
  {
   "cell_type": "markdown",
   "metadata": {},
   "source": [
    "## Next steps\n",
    "\n",
    "Now that semantic functions have been defined, registered and executed from [inline](./01-Semantic-PlugIn-Inline.ipynb) and external (this Notebook) next steps are:\n",
    "\n",
    "- [Define, register and execute a native (c#) function](./03_PlugIn_NativeFunction.ipynb)\n",
    "\n"
   ]
  }
 ],
 "metadata": {
  "kernelspec": {
   "display_name": ".NET (C#)",
   "language": "C#",
   "name": ".net-csharp"
  },
  "language_info": {
   "name": "polyglot-notebook"
  },
  "polyglot_notebook": {
   "kernelInfo": {
    "defaultKernelName": "csharp",
    "items": [
     {
      "aliases": [],
      "languageName": "csharp",
      "name": "csharp"
     }
    ]
   }
  }
 },
 "nbformat": 4,
 "nbformat_minor": 2
}
