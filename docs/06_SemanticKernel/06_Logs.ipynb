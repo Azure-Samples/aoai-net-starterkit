{
 "cells": [
  {
   "cell_type": "markdown",
   "metadata": {},
   "source": [
    "# 06 Semantic Kernel | 06 Using Logs\n",
    "\n",
    "## Intro - Using LoggerFactory\n",
    "\n",
    "The logging mechanism in this sample makes use of the [ILogger](https://learn.microsoft.com/en-us/dotnet/api/microsoft.extensions.logging.ilogger?view=dotnet-plat-ext-7.0) interface from the [Microsoft.Extensions.Logging](https://learn.microsoft.com/en-us/dotnet/api/microsoft.extensions.logging?view=dotnet-plat-ext-7.0) namespace. The [KernelBuilder.WithLoggerFactory(ILoggerFactory)](https://learn.microsoft.com/en-us/dotnet/api/microsoft.semantickernel.kernelbuilder.withloggerfactory?view=semantic-kernel-dotnet#microsoft-semantickernel-kernelbuilder-withloggerfactory(microsoft-extensions-logging-iloggerfactory)) method expects an [ILoggerFactory](https://learn.microsoft.com/en-us/dotnet/api/microsoft.extensions.logging.iloggerfactory?view=dotnet-plat-ext-7.0) parameter that allows the Semantic Kernel to generate a logger to facilitate a more accurate logging and streamlined control over log filtering across various classes."
   ]
  },
  {
   "cell_type": "markdown",
   "metadata": {},
   "source": [
    "## Step 1: Import nuget packages"
   ]
  },
  {
   "cell_type": "code",
   "execution_count": null,
   "metadata": {
    "dotnet_interactive": {
     "language": "csharp"
    },
    "polyglot_notebook": {
     "kernelName": "csharp"
    }
   },
   "outputs": [],
   "source": [
    "#r \"nuget: Microsoft.SemanticKernel, 1.0.0-beta1\"\n",
    "#r \"nuget: DotNetEnv, 2.5.0\"\n",
    "#r \"nuget: Microsoft.Extensions.Logging, 6.0.0\"\n",
    "#r \"nuget: Microsoft.Extensions.Logging.Console, 6.0.0\"\n",
    "#r \"nuget: Microsoft.Extensions.Logging.Debug, 6.0.0\"\n",
    "\n",
    "using Azure; \n",
    "using DotNetEnv;\n",
    "using Microsoft.SemanticKernel;"
   ]
  },
  {
   "cell_type": "markdown",
   "metadata": {},
   "source": [
    "#### Expected output\n",
    "\n",
    "```\n",
    "Installed Packages\n",
    "DotNetEnv, 2.5.0\n",
    "Microsoft.Extensions.Logging, 6.0.0\n",
    "Microsoft.Extensions.Logging.Console, 6.0.0\n",
    "Microsoft.Extensions.Logging.Debug, 6.0.0\n",
    "Microsoft.SemanticKernel, 1.0.0-beta1\n",
    "```"
   ]
  },
  {
   "cell_type": "markdown",
   "metadata": {},
   "source": [
    "## Step 2 (optional): Create a logger and a logger provider\n",
    "\n",
    "The main use here is to showcase the ability to use logger with the semantic kernel. The shallow implementation provided is to enable writing to the console within a Polyglot notebook."
   ]
  },
  {
   "cell_type": "code",
   "execution_count": null,
   "metadata": {
    "dotnet_interactive": {
     "language": "csharp"
    },
    "polyglot_notebook": {
     "kernelName": "csharp"
    }
   },
   "outputs": [],
   "source": [
    "using Microsoft.Extensions.Logging;\n",
    "\n",
    "public class CustomConsoleLogger : ILogger\n",
    "{\n",
    "\n",
    "    private readonly string _name;\n",
    "    public CustomConsoleLogger(string name)\n",
    "    {\n",
    "        _name = name;\n",
    "    }\n",
    "\n",
    "    public IDisposable? BeginScope<TState>(TState state) where TState : notnull\n",
    "    {\n",
    "        return null; \n",
    "    }\n",
    "\n",
    "    public bool IsEnabled(LogLevel logLevel)\n",
    "    {\n",
    "        return true; \n",
    "    }\n",
    "\n",
    "    public void Log<TState>(LogLevel logLevel, EventId eventId, TState state, Exception? exception, Func<TState, Exception?, string> formatter)\n",
    "    {\n",
    "        if (!IsEnabled(logLevel)) return; \n",
    "\n",
    "        var logMessage = formatter(state, exception);\n",
    "        Console.WriteLine($\"{logLevel}: {_name} - {logMessage}\");\n",
    "    }\n",
    "}\n",
    "\n",
    "public class ConsoleLoggerProvider : ILoggerProvider\n",
    "{\n",
    "    public void Dispose()\n",
    "    {\n",
    "        // Dispose resources if any\n",
    "    }\n",
    "\n",
    "    public ILogger CreateLogger(string categoryName)\n",
    "    {\n",
    "        return new CustomConsoleLogger(categoryName);\n",
    "    }\n",
    "}\n",
    "\n",
    "Console.WriteLine($\"Custom console logger created...\");"
   ]
  },
  {
   "cell_type": "markdown",
   "metadata": {},
   "source": [
    "Extected output: \n",
    "\n",
    "```\n",
    "Custom console logger created...\n",
    "```"
   ]
  },
  {
   "cell_type": "markdown",
   "metadata": {},
   "source": [
    "## Step 3: Create a Logger"
   ]
  },
  {
   "cell_type": "code",
   "execution_count": null,
   "metadata": {
    "dotnet_interactive": {
     "language": "csharp"
    },
    "polyglot_notebook": {
     "kernelName": "csharp"
    }
   },
   "outputs": [],
   "source": [
    "var loggerFactory = LoggerFactory\n",
    "    .Create(builder => {\n",
    "        builder.SetMinimumLevel(LogLevel.Trace)\n",
    "            .AddFilter(\"Microsoft\", LogLevel.Trace)\n",
    "            .AddFilter(\"OpenAI.StarterKit\", LogLevel.Trace)\n",
    "            .AddProvider(new ConsoleLoggerProvider()); \n",
    "        }\n",
    "    );\n",
    "\n",
    "Console.WriteLine($\"Custom Logger 'ConsoleLoggerProvider' created...\");"
   ]
  },
  {
   "cell_type": "markdown",
   "metadata": {},
   "source": [
    "Expected output:\n",
    "```\n",
    "Custom Logger 'ConsoleLoggerProvider' created...\n",
    "```"
   ]
  },
  {
   "cell_type": "markdown",
   "metadata": {},
   "source": [
    "## Step 4: Creating the Semantic Kernel\n",
    "\n",
    "An instance of Semantic Kernel can be created using the KernelBuilder object provided by the Semantic Kernel SDK. It acts as the centralized point for all .NET functionality that want to interact with Semantic Kernel functionality or concepts.\n",
    "\n",
    "It abstracts e.g., models from the OpenAI GPT family and can communicate with Azure OpenAI LLM instances as well as LLMs deployed on OpenAI. In the sample we use models deployed on Azure."
   ]
  },
  {
   "cell_type": "code",
   "execution_count": null,
   "metadata": {
    "dotnet_interactive": {
     "language": "csharp"
    },
    "polyglot_notebook": {
     "kernelName": "csharp"
    }
   },
   "outputs": [],
   "source": [
    "static string _configurationFile = @\"../01_DemoEnvironment/conf/application.env\";\n",
    "Env.Load(_configurationFile);\n",
    "\n",
    "string oAiApiKey = Environment.GetEnvironmentVariable(\"SKIT_AOAI_APIKEY\") ?? \"SKIT_AOAI_APIKEY not found\";\n",
    "string oAiEndpoint = Environment.GetEnvironmentVariable(\"SKIT_AOAI_ENDPOINT\") ?? \"SKIT_AOAI_ENDPOINT not found\";\n",
    "string chatCompletionDeploymentName = Environment.GetEnvironmentVariable(\"SKIT_CHATCOMPLETION_DEPLOYMENTNAME\") ?? \"SKIT_CHATCOMPLETION_DEPLOYMENTNAME not found\";\n",
    "\n",
    "IKernel kernel = new KernelBuilder()\n",
    "    .WithLoggerFactory(loggerFactory)\n",
    "    .WithAzureChatCompletionService(\n",
    "        endpoint: oAiEndpoint, \n",
    "        apiKey: oAiApiKey,\n",
    "        deploymentName: chatCompletionDeploymentName)\n",
    "    .Build();\n",
    "\n",
    "Console.WriteLine($\"Semantic Kernel initialized...\");"
   ]
  },
  {
   "cell_type": "markdown",
   "metadata": {},
   "source": [
    "Expected output: \n",
    "\n",
    "```\n",
    "Semantic Kernel initialized...\n",
    "```"
   ]
  },
  {
   "cell_type": "markdown",
   "metadata": {},
   "source": [
    "## Step 4: Get logger instance from Semantic Kernel"
   ]
  },
  {
   "cell_type": "code",
   "execution_count": null,
   "metadata": {
    "dotnet_interactive": {
     "language": "csharp"
    },
    "polyglot_notebook": {
     "kernelName": "csharp"
    }
   },
   "outputs": [],
   "source": [
    "var logger = kernel.LoggerFactory.CreateLogger(\"OpenAI.StarterKit\");\n",
    "\n",
    "logger.LogInformation(\"Logger instance retreived from Semantic Kernel...\");"
   ]
  },
  {
   "cell_type": "markdown",
   "metadata": {},
   "source": [
    "Expected output: \n",
    "\n",
    "```\n",
    "Information: OpenAI.StarterKit - Logger instance retreived from Semantic Kernel...\n",
    "```"
   ]
  },
  {
   "cell_type": "markdown",
   "metadata": {},
   "source": [
    "## Step 5: Import functions"
   ]
  },
  {
   "cell_type": "code",
   "execution_count": null,
   "metadata": {
    "dotnet_interactive": {
     "language": "csharp"
    },
    "polyglot_notebook": {
     "kernelName": "csharp"
    }
   },
   "outputs": [],
   "source": [
    "using System.IO; \n",
    "\n",
    "string pluginsDirectory = Path.Combine(Directory.GetCurrentDirectory(), \"PluginLibrary\");\n",
    "\n",
    "string plugInName = \"CreateSummary\";\n",
    "string functionName = \"SimpleSummary\";\n",
    "kernel.ImportSemanticFunctionsFromDirectory(pluginsDirectory, plugInName);\n",
    "\n",
    "logger.LogInformation($\"Semantic functions imported from directory '{pluginsDirectory}'...\");"
   ]
  },
  {
   "cell_type": "markdown",
   "metadata": {},
   "source": [
    "Expected output:\n",
    "\n",
    "Note, few of the log messages were created by a semantic kernel.\n",
    "\n",
    "```\n",
    "Installed Packages\n",
    "DotNetEnv, 2.5.0\n",
    "Microsoft.Extensions.Logging, 6.0.0\n",
    "Microsoft.Extensions.Logging.Console, 6.0.0\n",
    "Microsoft.Extensions.Logging.Debug, 6.0.0\n",
    "Microsoft.SemanticKernel, 1.0.0-beta1\n",
    "\n",
    "Semantic Kernel initialized...\n",
    "Trace: Microsoft.SemanticKernel.IKernel - Config SimpleSummary: {\n",
    "  \"schema\": 1,\n",
    "  \"description\": \"Creates a short summary of provided text\",\n",
    "  \"input\": {\n",
    "    \"parameters\": []\n",
    "  },\n",
    "  \"models\": [\n",
    "    {\n",
    "      \"service_id\": null,\n",
    "      \"model_id\": null,\n",
    "      \"max_tokens\": 100,\n",
    "      \"temperature\": 0.1,\n",
    "      \"top_p\": 0.0,\n",
    "      \"presence_penalty\": 0.0,\n",
    "      \"frequency_penalty\": 0.0\n",
    "    }\n",
    "  ],\n",
    "  \"type\": \"completion\",\n",
    "  \"completion\": {\n",
    "    \"service_id\": null,\n",
    "    \"model_id\": null,\n",
    "    \"max_tokens\": 100,\n",
    "    \"temperature\": 0.1,\n",
    "    \"top_p\": 0.0,\n",
    "    \"presence_penalty\": 0.0,\n",
    "  \"default_services\": []\n",
    "}\n",
    "Trace: Microsoft.SemanticKernel.IKernel - Registering function CreateSummary.SimpleSummary loaded from c:\\Sourcen\\GitHubProjects\\OpenAI.StarterKit\\docs\\07_SemanticKernel\\PluginLibrary\\CreateSummary\\SimpleSummary\n",
    "Information: OpenAI.StarterKit - Semantic functions imported from directory 'XXXX\\docs\\07_SemanticKernel\\PluginLibrary'...\n",
    "Output is truncated. View as a scrollable element or open in a text editor. Adjust cell output settings...\n",
    "\n",
    "Custom console logger created...\n",
    "Custom Logger 'ConsoleLoggerProvider' created...\n",
    "Information: OpenAI.StarterKit - Logger instance retreived from Semantic Kernel......\n",
    "```"
   ]
  },
  {
   "cell_type": "markdown",
   "metadata": {},
   "source": [
    "## Step 6: Execute functions"
   ]
  },
  {
   "cell_type": "code",
   "execution_count": null,
   "metadata": {
    "dotnet_interactive": {
     "language": "csharp"
    },
    "polyglot_notebook": {
     "kernelName": "csharp"
    }
   },
   "outputs": [],
   "source": [
    "using System.IO;\n",
    "\n",
    "//Read text which should be summarized from file\n",
    "string assetsFolder = @\"../../assets\";\n",
    "string input = await File.ReadAllTextAsync(Path.Combine(assetsFolder,\"docs\",\"06_SemanticKernel\", \"aci_documentation.txt\"));\n",
    "\n",
    "ISKFunction sKFunction = kernel.Functions.GetFunction(plugInName, functionName);\n",
    "var kernelResult = await kernel.RunAsync(input, sKFunction);\n",
    "\n",
    "Console.WriteLine($\"Summary: {kernelResult.GetValue<string>().Substring(0,50)}...\");"
   ]
  },
  {
   "cell_type": "markdown",
   "metadata": {},
   "source": [
    "#### Expected output\n",
    "\n",
    "Note, few of the log messages were created by a semantic kernel core modules.\n",
    "\n",
    "```\n",
    "Trace: Microsoft.SemanticKernel.TemplateEngine.Basic.BasicPromptTemplateEngine - Rendering string template: You are an AI assistant that creates short and accurate summaries of provided text.\n",
    "The summary must not be more than 2 short sentences. Stop responding after you've created the two sentences. Reply in full sentences and avoid bullet points.\n",
    "\n",
    "---\n",
    "User: {{$input}}\n",
    "Assistant: \n",
    "---\n",
    "Trace: Microsoft.SemanticKernel.TemplateEngine.Basic.BasicPromptTemplateEngine - Extracting blocks from template: You are an AI assistant that creates short and accurate summaries of provided text.\n",
    "The summary must not be more than 2 short sentences. Stop responding after you've created the two sentences. Reply in full sentences and avoid bullet points.\n",
    "\n",
    "---\n",
    "User: {{$input}}\n",
    "Assistant: \n",
    "---\n",
    "Trace: Microsoft.SemanticKernel.TemplateEngine.Basic.BasicPromptTemplateEngine - Rendering list of 3 blocks\n",
    "Trace: Microsoft.SemanticKernel.TemplateEngine.Basic.BasicPromptTemplateEngine - Rendered prompt: You are an AI assistant that creates short and accurate summaries of provided text.\n",
    "The summary must not be more than 2 short sentences. Stop responding after you've created the two sentences. Reply in full sentences and avoid bullet points.\n",
    "\n",
    "---\n",
    "User: Configure a GitHub Action to create a container instance Article • 05/03/2023 GitHub Actions is a suite of features in GitHub to automate your software development workflows in the same place you store code and collaborate on pull requests and issues. Use the Deploy to Azure Container Instances GitHub Actions to automate deployment of a single container to Azure Container Instances. The action allows you to set properties for a container instance similar to those in the az container create command. This article shows how to set up a workflow in a GitHub repo that performs the following actions: Build an image from a Dockerfile Push the image to an Azure container registry Deploy the container image to an Azure container instance This article shows two ways to set up the workflow: Configure GitHub workflow - Create a workflow in a GitHub repo using the Deploy to Azure Container Instances action and other actions. Use CLI extension - Use the az container app up command in the Deploy to Azure extension in the Azure CLI. This command streamlines creation of the GitHub workflow and deployment steps. ） Important The GitHub Actions for Azure Container Instances is currently in preview. Previews are made available to you on the condition that you agree to the supplemental terms of use . Some aspects of this feature may change prior to general availability (GA). Prerequisites GitHub account - Create an account on https://github.com if you don't already have one. Azure CLI - You can use the Azure Cloud Shell or a local installation of the Azure CLI to complete the Azure CLI steps. If you need to install or upgrade, see Install\n",
    "Azure CLI. Azure container registry - If you don't have one, create an Azure container registry in the Basic tier using the Azure CLI, Azure portal, or other methods. Take note of the resource group used for the deployment, which is used for the GitHub workflow. Set up repo For the examples in this article, use GitHub to fork the following repository: https://github.com/Azure-Samples/acr-build-helloworld-node This repo contains a Dockerfile and source files to create a container image of a small web app. Ensure Actions is enabled for your repository. Navigate to your forked repository and select Settings > Actions. In Actions permissions, ensure that Allow all actions is selected. Configure GitHub workflow Create credentials for Azure authentication Service principal In the GitHub workflow, you need to supply Azure credentials to authenticate to the Azure CLI. The following example creates a service principal with the Contributor role scoped to the resource group for your container registry. First, get the resource ID of your resource group. Substitute the name of your group in the following az group show command: Azure CLI groupId=$(az group show \\ --name <resource-group-name> \\ --query id --output tsv) Use az ad sp create-for-rbac to create the service principal:\n",
    "Assistant: \n",
    "---\n",
    "Information: Microsoft.SemanticKernel.Connectors.AI.OpenAI.ChatCompletion.AzureChatCompletion - Action: GetCompletionsAsync. Azure OpenAI Deployment Name: yd-gpt35-turbo.\n",
    "Information: Microsoft.SemanticKernel.Connectors.AI.OpenAI.ChatCompletion.AzureChatCompletion - Prompt tokens: 631. Completion tokens: 45. Total tokens: 676.\n",
    "Summary: This article explains how to use the Deploy to Azu...\n",
    "```"
   ]
  }
 ],
 "metadata": {
  "kernelspec": {
   "display_name": ".NET (C#)",
   "language": "C#",
   "name": ".net-csharp"
  },
  "language_info": {
   "name": "polyglot-notebook"
  },
  "polyglot_notebook": {
   "kernelInfo": {
    "defaultKernelName": "csharp",
    "items": [
     {
      "aliases": [],
      "languageName": "csharp",
      "name": "csharp"
     }
    ]
   }
  }
 },
 "nbformat": 4,
 "nbformat_minor": 2
}
