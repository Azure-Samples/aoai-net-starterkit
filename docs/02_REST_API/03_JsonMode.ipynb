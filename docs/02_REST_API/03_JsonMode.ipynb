{
 "cells": [
  {
   "cell_type": "markdown",
   "metadata": {},
   "source": [
    "# 02 REST API | 03 Json Mode\n",
    "\n",
    "## Azure Environment\n",
    "\n",
    "To execute the sample code Azure service specific information like endpoint, api key etc. is needed ([Details and instructions can be found here](../01_DemoEnvironment/01_Environment.ipynb))\n",
    "\n",
    "## JSON mode\n",
    "\n",
    "Azure OpenAI JSON mode is a feature that instructs models from the Azure OpenAI GPT family to return results in JSON format, providing a structured and easily parsable output. This allows developers to seamlessly integrate OpenAI's language models into their applications, facilitating efficient handling and utilization of the generated content to exchange data with other systems or call native functions.\n",
    "\n",
    "\n",
    "### Further information\n",
    "\n",
    "[What is JSON mode](https://learn.microsoft.com/en-us/azure/ai-services/openai/how-to/json-mode)"
   ]
  },
  {
   "cell_type": "markdown",
   "metadata": {},
   "source": [
    "## Step 1:  Setup Parameters"
   ]
  },
  {
   "cell_type": "code",
   "execution_count": null,
   "metadata": {
    "dotnet_interactive": {
     "language": "csharp"
    },
    "polyglot_notebook": {
     "kernelName": "csharp"
    },
    "vscode": {
     "languageId": "polyglot-notebook"
    }
   },
   "outputs": [],
   "source": [
    "#r \"nuget: DotNetEnv, 2.5.0\"\n",
    "#r \"nuget: System.Text.Json, 7.0.3\"\n",
    "#r \"nuget: Newtonsoft.Json, 13.0.1\"\n",
    "using DotNetEnv;\n",
    "\n",
    "using System.Net;\n",
    "using System.Net.Http;\n",
    "using System.Text.Json.Nodes;\n",
    "using System.Text.Json;\n",
    "\n",
    "static string _configurationFile = @\"../01_DemoEnvironment/conf/application.env\";\n",
    "Env.Load(_configurationFile);\n",
    "\n",
    "string apiBase = Environment.GetEnvironmentVariable(\"SKIT_AOAI1106_ENDPOINT\") ?? \"SKIT_AOAI1106_ENDPOINT not found\";\n",
    "string apiKey = Environment.GetEnvironmentVariable(\"SKIT_AOAI1106_APIKEY\") ?? \"SKIT_AOAI1106_APIKEY not found\";\n",
    "string deploymentName = Environment.GetEnvironmentVariable(\"SKIT_AOAI1106_DEPLOYMENTNAME\") ?? \"SKIT_AOAI1106_DEPLOYMENTNAME not found\";\n",
    "\n",
    "string apiVersion = \"2023-12-01-preview\"; //may change in the future"
   ]
  },
  {
   "cell_type": "markdown",
   "metadata": {},
   "source": [
    "Expected output\n",
    "```\n",
    "Installed Packages\n",
    "    DotNetEnv, 2.5.0\n",
    "    Newtonsoft.Json, 13.0.1\n",
    "    System.Text.Json, 7.0.3\n",
    "```"
   ]
  },
  {
   "cell_type": "markdown",
   "metadata": {},
   "source": [
    "## Step 2:  Create completions for chat messages with GPT models\n",
    "\n",
    "The code cell is using an instance of `HttpClient` to call the REST API of the deployed Azure OpenAI instance."
   ]
  },
  {
   "cell_type": "code",
   "execution_count": null,
   "metadata": {
    "dotnet_interactive": {
     "language": "csharp"
    },
    "polyglot_notebook": {
     "kernelName": "csharp"
    },
    "vscode": {
     "languageId": "polyglot-notebook"
    }
   },
   "outputs": [],
   "source": [
    "\n",
    "var requestPayload = new JsonObject\n",
    "{\n",
    "    { \"messages\", new JsonArray\n",
    "        {\n",
    "            new JsonObject\n",
    "            {\n",
    "                { \"role\", \"system\" },\n",
    "                { \"content\", \"You are an assistant who helps users to identify the most important keywords from unstructured text. You return results in valid JSON format. You return the recognized keywords as an array with the key 'keywords'\" }\n",
    "                \n",
    "            },\n",
    "            new JsonObject\n",
    "            {\n",
    "                { \"role\", \"user\" },\n",
    "                { \"content\", \"I need information regarding my order 4711 from last month. My customer number is AE-100-10?\" }\n",
    "            }\n",
    "        }\n",
    "    },\n",
    "    { \"response_format\", new JsonObject() {\n",
    "        { \"type\", \"json_object\" }\n",
    "    }},\n",
    "    { \"max_tokens\", 200 },\n",
    "    { \"temperature\", 0.7 },\n",
    "    { \"frequency_penalty\", 0 },\n",
    "    { \"presence_penalty\", 0 },\n",
    "    { \"top_p\", 0.95 },\n",
    "    { \"stop\", null }\n",
    "};\n",
    "\n",
    "string payload = JsonSerializer.Serialize(requestPayload, new JsonSerializerOptions\n",
    "{\n",
    "    WriteIndented = true // Optional: to make the JSON string more readable\n",
    "});\n",
    "\n",
    "        \n",
    "string endpoint = $\"{apiBase}openai/deployments/{deploymentName}/chat/completions?api-version={apiVersion}\";\n",
    "\n",
    "using (HttpClient httpClient = new HttpClient())\n",
    "{\n",
    "    httpClient.BaseAddress = new Uri(endpoint);\n",
    "    httpClient.DefaultRequestHeaders.Add(\"api-key\",apiKey);\n",
    "    httpClient.DefaultRequestHeaders.Accept.Add(new System.Net.Http.Headers.MediaTypeWithQualityHeaderValue(\"application/json\"));\n",
    "\n",
    "    var stringContent = new StringContent(payload, Encoding.UTF8, \"application/json\");\n",
    "\n",
    "    var response = await httpClient.PostAsync(endpoint, stringContent);\n",
    "\n",
    "    if (response.IsSuccessStatusCode)\n",
    "    {\n",
    "        using (var responseStream = await response.Content.ReadAsStreamAsync())\n",
    "        {\n",
    "            // Parse the JSON response using JsonDocument\n",
    "            using (var jsonDoc = await JsonDocument.ParseAsync(responseStream))\n",
    "            {\n",
    "                // Access the message content dynamically\n",
    "                var root = jsonDoc.RootElement;\n",
    "                var messageContent = root.GetProperty(\"choices\")[0].GetProperty(\"message\").GetProperty(\"content\").GetString();\n",
    "\n",
    "                // Output the message content\n",
    "                Console.WriteLine(\"Output: \" + messageContent);\n",
    "            }\n",
    "        }\n",
    "    }\n",
    "    else\n",
    "    {\n",
    "        Console.WriteLine($\"Error: {response}\");\n",
    "    }\n",
    "}"
   ]
  },
  {
   "cell_type": "markdown",
   "metadata": {},
   "source": [
    "Expected output:\n",
    "```\n",
    "Output: {\n",
    "  \"keywords\": [\"order 4711\", \"last month\", \"customer number\", \"AE-100-10\"]\n",
    "}\n",
    "```"
   ]
  },
  {
   "cell_type": "markdown",
   "metadata": {},
   "source": [
    "## Next Steps\n",
    "\n",
    "Explore how Azure OpenAI, as one of the first multi modal models, is able to process text and image data as input in the [next notebook](./04_MultiModalVision.ipynb)."
   ]
  }
 ],
 "metadata": {
  "kernelspec": {
   "display_name": ".NET (C#)",
   "language": "C#",
   "name": ".net-csharp"
  },
  "language_info": {
   "name": "python"
  },
  "orig_nbformat": 4,
  "polyglot_notebook": {
   "kernelInfo": {
    "defaultKernelName": "csharp",
    "items": [
     {
      "aliases": [],
      "name": "csharp"
     }
    ]
   }
  }
 },
 "nbformat": 4,
 "nbformat_minor": 2
}
