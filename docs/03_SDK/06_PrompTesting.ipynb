{
 "cells": [
  {
   "cell_type": "markdown",
   "metadata": {},
   "source": [
    "# 03 SDK | 06 Prompt Testing\n",
    "\n",
    "## Why Prompt Testing?\n",
    "\n",
    "Prompts can provide core capabilities to an application, testing them, therefore, is crucial. The ability to version control your prompts is outside the scope of this notebook. We will focus on an option to test your prompts locally. It is suggested to include prompt testing in your CI/CD pipeline.\n",
    "\n",
    "## Testing prompts - Testing a Classification Prompt\n",
    "\n",
    "A **Classification Prompt** is a prompt that is designed to classify a given input into one of the specified categories. The prompt is designed to generate a response that is most likely to be classified into the specified categories. In many cases the output should be in specific format, or include specific set of answers.\n",
    "\n",
    "In this sample, we will create a utility function that would call the OpenAI API endpoint. We will use a `csv` file to include all the prompts we wish to test and their expected labels.\n",
    "\n",
    "**Scenarios Table**\n",
    "| Scenario   | Prompt Text                                       |\n",
    "|------------|---------------------------------------------------|\n",
    "|  1 | \"You are and AI assistant designated to classify..A\"      |\n",
    "|  2 | \"You are and AI assistant designated to classify..B\"      |\n",
    "\n",
    "**Expected Output Table**\n",
    "\n",
    "| Scenario   | Prompt Text                                       | Label |\n",
    "|------------|---------------------------------------------------|-------|\n",
    "|  1 | \"I am in trouble and don't know what to do.\"      | Yes   |\n",
    "| 1 | \"Can you tell me more about your services?\"       | No    |\n",
    "| 2 | \"I need help immediately, can you help?\"          | Yes   |\n",
    "| 2 | \"What hours are you available?\"                   | No    |\n",
    "| 2 | \"I don't know. I'm not sure if I am able to get support.\" | Yes   |\n",
    "| 1 | \"Maybe I could contact some services. Could you share the contact details?\" | Yes   |\n",
    "\n",
    "This table is just an illustrative example where the `scenario` column indicates which system prompt needs to be tested.\n",
    "\n",
    "The output of this test would also be a table:\n",
    "\n",
    "| Scenario   | Number of Runs | Count Accurate | Count False Positive | Count False Negative | Accuracy % |\n",
    "|------------|----------------|----------------|----------------------|----------------------|------------|\n",
    "| Scenario 1 | 100            | 90             | 5                    | 5                    | 90%        |\n",
    "| Scenario 2 | 100            | 85             | 10                   | 5                    | 85%        |\n",
    "| Scenario 3 | 100            | 95             | 3                    | 2                    | 95%        |\n",
    "\n",
    "**This is a simple example. You can extend this to include more complex scenarios.**"
   ]
  },
  {
   "cell_type": "markdown",
   "metadata": {},
   "source": [
    "## Step 1: Create OpenAIClient\n",
    "\n",
    "The OpenAIClient from Azure.AI.OpenAI is a .NET client library that acts as the centralized point for all .NET functionality that want to interact with a deployed Azure OpenAI Large Language Model. It provides methods to access the OpenAI REST APIs for various tasks such as text completion, text embedding, and chat completion, etc.. It also allows developers to specify the model, engine, and options for each request, such as temperature, frequency penalty, presence penalty, and stop sequences. \n",
    "\n",
    "The OpenAIClient can connect to any Azure OpenAI resource or to the non-Azure OpenAI inference endpoint, making it a versatile and powerful tool for .NET development with OpenAI."
   ]
  },
  {
   "cell_type": "code",
   "execution_count": 6,
   "metadata": {
    "dotnet_interactive": {
     "language": "csharp"
    },
    "polyglot_notebook": {
     "kernelName": "csharp"
    },
    "vscode": {
     "languageId": "polyglot-notebook"
    }
   },
   "outputs": [
    {
     "data": {
      "text/html": [
       "<div><div></div><div></div><div><strong>Installed Packages</strong><ul><li><span>Azure.AI.OpenAI, 1.0.0-beta.12</span></li><li><span>CsvHelper, 27.1.1</span></li><li><span>DotNetEnv, 2.5.0</span></li></ul></div></div>"
      ]
     },
     "metadata": {},
     "output_type": "display_data"
    }
   ],
   "source": [
    "#r \"nuget: Azure.AI.OpenAI, 1.0.0-beta.12\"\n",
    "#r \"nuget: DotNetEnv, 2.5.0\"\n",
    "#r \"nuget: CsvHelper, 27.1.1\""
   ]
  },
  {
   "cell_type": "code",
   "execution_count": 7,
   "metadata": {
    "vscode": {
     "languageId": "polyglot-notebook"
    }
   },
   "outputs": [
    {
     "name": "stdout",
     "output_type": "stream",
     "text": [
      "OpenAI Client created...\n"
     ]
    }
   ],
   "source": [
    "using Azure; \n",
    "using Azure.AI.OpenAI;\n",
    "using DotNetEnv;\n",
    "using System.IO;\n",
    "using System.Text.Json; \n",
    "\n",
    "//configuration file is created during environment creation\n",
    "//if you skipped the deployment just remove the code and provide values from your deployment\n",
    "static string _configurationFile = @\"../01_DemoEnvironment/conf/application.env\";\n",
    "Env.Load(_configurationFile);\n",
    "\n",
    "\n",
    "string assetsFolder = Path.Combine(Directory.GetCurrentDirectory(), \"..\", \"..\", \"assets\");\n",
    "\n",
    "string oAiApiKey = Environment.GetEnvironmentVariable(\"SKIT_AOAI_APIKEY\") ?? \"SKIT_AOAI_APIKEY not found\";\n",
    "string oAiEndpoint = Environment.GetEnvironmentVariable(\"SKIT_AOAI_ENDPOINT\") ?? \"SKIT_AOAI_ENDPOINT not found\";\n",
    "string chatCompletionDeploymentName = Environment.GetEnvironmentVariable(\"SKIT_CHATCOMPLETION_DEPLOYMENTNAME\") ?? \"SKIT_CHATCOMPLETION_DEPLOYMENTNAME not found\";\n",
    "\n",
    "AzureKeyCredential azureKeyCredential = new AzureKeyCredential(oAiApiKey);\n",
    "OpenAIClient openAIClient = new OpenAIClient(new Uri(oAiEndpoint), azureKeyCredential);\n",
    "\n",
    "Console.WriteLine($\"OpenAI Client created...\");"
   ]
  },
  {
   "cell_type": "markdown",
   "metadata": {},
   "source": [
    "## Step 2: Create Supporting Functions\n",
    "\n",
    "We will create several methods:\n",
    "\n",
    "- Calling OpenAI client with system prompt and user prompt\n",
    "- Reading the CSV file into a list of prompts\n",
    "- Reading a CSV into a list of scenarios (system prompts)"
   ]
  },
  {
   "cell_type": "code",
   "execution_count": 3,
   "metadata": {
    "dotnet_interactive": {
     "language": "csharp"
    },
    "polyglot_notebook": {
     "kernelName": "csharp"
    },
    "vscode": {
     "languageId": "polyglot-notebook"
    }
   },
   "outputs": [],
   "source": [
    "public async Task<string> CallOpenAI(OpenAIClient client, string systemPrompt, string userPrompt)\n",
    "{\n",
    "    ChatCompletionsOptions simpleOption = new ChatCompletionsOptions();\n",
    "    simpleOption.Messages.Add(new ChatRequestSystemMessage(systemPrompt));\n",
    "    simpleOption.Messages.Add(new ChatRequestUserMessage( userPrompt));\n",
    "\n",
    "    //Request Properties\n",
    "    simpleOption.MaxTokens = 500;\n",
    "    simpleOption.Temperature = 0.0f;\n",
    "    simpleOption.NucleusSamplingFactor = 0.0f;\n",
    "    simpleOption.FrequencyPenalty = 0.7f;\n",
    "    simpleOption.PresencePenalty = 0.7f;\n",
    "    simpleOption.StopSequences.Add(\"\\n\"); \n",
    "    simpleOption.DeploymentName = chatCompletionDeploymentName;\n",
    "\n",
    "    Response<ChatCompletions> simpleResponse = await openAIClient.GetChatCompletionsAsync(simpleOption);\n",
    "    // Get the first choice from the response\n",
    "    ChatCompletions simpleCompletions = simpleResponse.Value;\n",
    "    return simpleResponse.Value.Choices[0].Message.Content;\n",
    "}"
   ]
  },
  {
   "cell_type": "markdown",
   "metadata": {},
   "source": [
    "### Testing the OpenAI calling function"
   ]
  },
  {
   "cell_type": "code",
   "execution_count": 4,
   "metadata": {
    "dotnet_interactive": {
     "language": "csharp"
    },
    "polyglot_notebook": {
     "kernelName": "csharp"
    },
    "vscode": {
     "languageId": "polyglot-notebook"
    }
   },
   "outputs": [
    {
     "name": "stdout",
     "output_type": "stream",
     "text": [
      "Response: The capital of Germany is Berlin. It's a vibrant city with a rich history and plenty of cultural attractions to explore.\n"
     ]
    }
   ],
   "source": [
    "string systemPrompt = \"The following is a conversation with an AI assistant. The assistant is helpful, creative, clever, and very friendly.\";\n",
    "string userPrompt = \"What is the capital of Germany?\";\n",
    "\n",
    "string response = await CallOpenAI(openAIClient, systemPrompt, userPrompt);\n",
    "Console.WriteLine($\"Response: {response}\");\n"
   ]
  },
  {
   "cell_type": "code",
   "execution_count": 10,
   "metadata": {
    "dotnet_interactive": {
     "language": "csharp"
    },
    "polyglot_notebook": {
     "kernelName": "csharp"
    },
    "vscode": {
     "languageId": "polyglot-notebook"
    }
   },
   "outputs": [],
   "source": [
    "using CsvHelper;\n",
    "using System.Globalization;\n",
    "using System.IO;\n",
    "using CsvHelper.Configuration.Attributes;\n",
    "using System.Collections.Generic;\n",
    "using System.Linq;\n",
    "\n",
    "// Define the ScenarioData class with CSV mapping attributes\n",
    "public class ScenarioData\n",
    "{\n",
    "    [Name(\"Scenario\")]\n",
    "    public string Scenario { get; set; }\n",
    "\n",
    "    [Name(\"Prompt Text\")]\n",
    "    public string PromptText { get; set; }\n",
    "\n",
    "    [Name(\"Label\")]\n",
    "    public string Label { get; set; }\n",
    "    [Ignore]\n",
    "    public string CalculatedLabel { get; set; }\n",
    "}\n",
    "\n",
    "public class Scenario\n",
    "{\n",
    "    [Name(\"Scenario ID\")]\n",
    "    public string Id { get; set; }\n",
    "\n",
    "    [Name(\"System Prompt\")]\n",
    "    public string SystemPrompt { get; set; }\n",
    "}\n",
    "\n",
    "// Function to read the CSV data\n",
    "public List<ScenarioData> ReadScenarioDataFromCsv(string filePath)\n",
    "{\n",
    "    using (var reader = new StreamReader(filePath))\n",
    "    using (var csv = new CsvReader(reader, CultureInfo.InvariantCulture))\n",
    "    {\n",
    "        var records = csv.GetRecords<ScenarioData>().ToList();\n",
    "        return records;\n",
    "    }\n",
    "}\n",
    "\n",
    "// Function to read the CSV scenarios\n",
    "\n",
    "public List<Scenario> ReadScenariosFromCsv(string filePath)\n",
    "{\n",
    "    using (var reader = new StreamReader(filePath))\n",
    "    using (var csv = new CsvReader(reader, CultureInfo.InvariantCulture))\n",
    "    {\n",
    "        var records = csv.GetRecords<Scenario>().ToList();\n",
    "        return records;\n",
    "    }\n",
    "}\n",
    "\n"
   ]
  },
  {
   "cell_type": "markdown",
   "metadata": {},
   "source": [
    "### Test reading the CSV file"
   ]
  },
  {
   "cell_type": "code",
   "execution_count": 11,
   "metadata": {
    "dotnet_interactive": {
     "language": "csharp"
    },
    "polyglot_notebook": {
     "kernelName": "csharp"
    },
    "vscode": {
     "languageId": "polyglot-notebook"
    }
   },
   "outputs": [
    {
     "name": "stdout",
     "output_type": "stream",
     "text": [
      "Scenario: 1, Prompt Text: Can you provide the contact number for support?, Label:  Yes\n",
      "Scenario: 1, Prompt Text: I need the email address for assistance, can you help?, Label:  Yes\n",
      "Scenario: 1, Prompt Text: Where can I find contact details for help?, Label:  Yes\n",
      "Scenario: 1, Prompt Text: Could you give me the phone number for emergency services?, Label:  Yes\n",
      "Scenario: 1, Prompt Text: Is there a direct line I can call for immediate help?, Label:  Yes\n",
      "Scenario: 1, Prompt Text: How do I contact your office for more information?, Label:  Yes\n",
      "Scenario: 1, Prompt Text: Please provide the contact information for customer support., Label:  Yes\n",
      "Scenario: 1, Prompt Text: I'm looking to speak to someone; do you have a contact list?, Label:  Yes\n",
      "Scenario: 1, Prompt Text: Can you direct me to someone I can talk to about my issues?, Label:  Yes\n",
      "Scenario: 1, Prompt Text: Who should I contact if I need urgent assistance?, Label:  Yes\n",
      "Scenario: 1, Prompt Text: I think I left my phone at the office, Label:  No\n",
      "Scenario: 1, Prompt Text: I need to get a new phone, Label:  No\n",
      "Scenario: 1, Prompt Text: I was thinking on getting new coat, do you have any?, Label:  No\n",
      "Scenario ID: 1, System Prompt: You are an AI assistant programmed to interact with individuals who might be in distressing situations, such as experiencing domestic violence. Your primary function is to accurately determine whether the individual you are interacting with is seeking help or contact information. You must respond to all queries with either 'Yes' or 'No' nothing else! NEVER respond with anything other than 'Yes' or 'No'. Operational Guidelines: Detecting Requests for Help: Interpret the user's input to decide if it indicates a request for help, assistance, or information related to their distress. Look for direct and indirect signals, including expressions of uncertainty about obtaining support or questions about contacting services. Non-Intervention Policy: Do not attempt to provide advice, counseling, or any other form of direct intervention. Your responses should strictly indicate whether the user's query suggests that they require help. Handling Ambiguity: When the input is ambiguous but pertains to the user's safety or potential need for help, err on the side of caution and respond with 'Yes'. Privacy and Sensitivity: Prioritize privacy and handle all interactions with the utmost sensitivity. Ensure that your responses do not disclose the user's situation or escalate risk. Example Interactions: User: 'I am in trouble and don't know what to do.' Response: 'Yes' User: 'Can you tell me more about your services?' Response: 'No' User: 'I need help immediately, can you help?' Response: 'Yes' User: 'What hours are you available?' Response: 'No'\n"
     ]
    }
   ],
   "source": [
    "// string filePath = \"path_to_your_csv_file.csv\";\n",
    "string filePath = Path.Combine(assetsFolder,\"docs\", \"03_SDK\" , \"scenariosPrompts.csv\");\n",
    "\n",
    "List<ScenarioData> scenarios = ReadScenarioDataFromCsv(filePath);\n",
    "\n",
    "foreach (var record in scenarios)\n",
    "{\n",
    "    Console.WriteLine($\"Scenario: {record.Scenario}, Prompt Text: {record.PromptText}, Label: {record.Label}\");\n",
    "}\n",
    "\n",
    "filePath = Path.Combine(assetsFolder,\"docs\", \"03_SDK\" , \"systemPrompts.csv\");\n",
    "\n",
    "List<Scenario> systemPrompts = ReadScenariosFromCsv(filePath);\n",
    "\n",
    "foreach (var record in systemPrompts)\n",
    "{\n",
    "    Console.WriteLine($\"Scenario ID: {record.Id}, System Prompt: {record.SystemPrompt}\");\n",
    "}"
   ]
  },
  {
   "cell_type": "markdown",
   "metadata": {},
   "source": [
    "## Step 3: Putting it all together\n",
    "\n",
    "The variable `systemPrompts` and `scenarios` are the list of prompts, the label and scenarios respectively."
   ]
  },
  {
   "cell_type": "code",
   "execution_count": 20,
   "metadata": {
    "dotnet_interactive": {
     "language": "csharp"
    },
    "polyglot_notebook": {
     "kernelName": "csharp"
    },
    "vscode": {
     "languageId": "polyglot-notebook"
    }
   },
   "outputs": [],
   "source": [
    "public async Task<List<ScenarioData>>  inferLabels(List<ScenarioData> scenarios, List<Scenario> systemPrompts)\n",
    "{\n",
    "    foreach (var userPrompt in scenarios)\n",
    "    {\n",
    "        // find the proper system prompt from the systemPrompts list\n",
    "        var systemPrompt = systemPrompts.FirstOrDefault(x => x.Id == userPrompt.Scenario);\n",
    "        if (systemPrompt != null)\n",
    "        {\n",
    "            string response = await CallOpenAI(openAIClient, systemPrompt.SystemPrompt, userPrompt.PromptText);\n",
    "            // Console.WriteLine($\"Response: {response}\");\n",
    "            userPrompt.CalculatedLabel = response;\n",
    "        }\n",
    "        else\n",
    "        {\n",
    "            Console.WriteLine($\"System prompt not found for scenario: {userPrompt.Scenario}\");\n",
    "        }\n",
    "    }\n",
    "    return scenarios;\n",
    "}"
   ]
  },
  {
   "cell_type": "code",
   "execution_count": 23,
   "metadata": {
    "dotnet_interactive": {
     "language": "csharp"
    },
    "polyglot_notebook": {
     "kernelName": "csharp"
    },
    "vscode": {
     "languageId": "polyglot-notebook"
    }
   },
   "outputs": [],
   "source": [
    "public class EvaluationResult\n",
    "{\n",
    "    public int Total { get; set; }\n",
    "    public int AccurateCount { get; set; }\n",
    "    public int FalsePositives { get; set; }\n",
    "    public int FalseNegatives { get; set; }\n",
    "    public double Accuracy => (double)AccurateCount / Total;\n",
    "}\n",
    "\n",
    "public EvaluationResult EvaluatePredictions(List<ScenarioData> scenarios)\n",
    "{\n",
    "    var result = new EvaluationResult();\n",
    "    result.Total = scenarios.Count;\n",
    "    \n",
    "    foreach (var scenario in scenarios)\n",
    "    {\n",
    "        // Trim and case-insensitive comparison\n",
    "        var actualLabel = scenario.Label.Trim();\n",
    "        var calculatedLabel = scenario.CalculatedLabel.Trim();\n",
    "\n",
    "        if (string.Equals(actualLabel, calculatedLabel, StringComparison.OrdinalIgnoreCase))\n",
    "        {\n",
    "            result.AccurateCount++;\n",
    "        }\n",
    "        else\n",
    "        {\n",
    "            // Consider edge cases for incorrect labeling\n",
    "            if (string.Equals(actualLabel, \"Yes\", StringComparison.OrdinalIgnoreCase) &&\n",
    "                string.Equals(calculatedLabel, \"No\", StringComparison.OrdinalIgnoreCase))\n",
    "            {\n",
    "                result.FalseNegatives++;\n",
    "            }\n",
    "            else if (string.Equals(actualLabel, \"No\", StringComparison.OrdinalIgnoreCase) &&\n",
    "                     string.Equals(calculatedLabel, \"Yes\", StringComparison.OrdinalIgnoreCase))\n",
    "            {\n",
    "                result.FalsePositives++;\n",
    "            }\n",
    "        }\n",
    "    }\n",
    "\n",
    "    return result;\n",
    "}\n"
   ]
  },
  {
   "cell_type": "markdown",
   "metadata": {},
   "source": [
    "### Running the test\n",
    "\n",
    "Provided are couple of csv file with generated prompts and expected labels. You can use these files to test the function. When using a 1/0 (Yes/No) classification this could be used as is. If you have a multi-class classification, you can modify the function to include the expected label."
   ]
  },
  {
   "cell_type": "code",
   "execution_count": 24,
   "metadata": {
    "dotnet_interactive": {
     "language": "csharp"
    },
    "polyglot_notebook": {
     "kernelName": "csharp"
    },
    "vscode": {
     "languageId": "polyglot-notebook"
    }
   },
   "outputs": [
    {
     "name": "stdout",
     "output_type": "stream",
     "text": [
      "Total runs: 13 Accuracy: 84.62%\n",
      "False Positives: 0\n",
      "False Negatives: 2\n"
     ]
    }
   ],
   "source": [
    "string filePath = Path.Combine(assetsFolder,\"docs\", \"03_SDK\" , \"scenariosPrompts.csv\");\n",
    "\n",
    "List<ScenarioData> scenarios = ReadScenarioDataFromCsv(filePath);\n",
    "filePath = Path.Combine(assetsFolder,\"docs\", \"03_SDK\" , \"systemPrompts.csv\");\n",
    "\n",
    "List<Scenario> systemPrompts = ReadScenariosFromCsv(filePath);\n",
    "\n",
    "var withLabels = await inferLabels(scenarios, systemPrompts);\n",
    "\n",
    "// Assuming `scenarios` is your List<ScenarioData> populated with labels and responses\n",
    "var evaluationResult = EvaluatePredictions(withLabels);\n",
    "Console.WriteLine($\"Total runs: {evaluationResult.Total} Accuracy: {evaluationResult.Accuracy:P2}\");\n",
    "Console.WriteLine($\"False Positives: {evaluationResult.FalsePositives}\");\n",
    "Console.WriteLine($\"False Negatives: {evaluationResult.FalseNegatives}\");\n"
   ]
  }
 ],
 "metadata": {
  "language_info": {
   "name": "python"
  }
 },
 "nbformat": 4,
 "nbformat_minor": 2
}
