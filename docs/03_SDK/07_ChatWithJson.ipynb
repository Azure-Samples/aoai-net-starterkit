{
 "cells": [
  {
   "cell_type": "markdown",
   "metadata": {},
   "source": [
    "# 03 SDK | 07 Chat with Json\n",
    "\n",
    "## Use case\n",
    "\n",
    "Your data is represented by medium to large JSON objects, you want to enable your customers to interact with your data in a conversational manner. You want to enable your customers to ask questions about your data and get responses in a conversational manner. There are few options to implement this:\n",
    "\n",
    "- **Incorporating a Full-Text Search Engine**:\n",
    "   - **Elasticsearch or Azure Cognitive Search**: Index the JSON file content using Elasticsearch or Azure Cognitive Search.\n",
    "   - **ASP.NET Core Web API**: Build a web API to accept natural language queries, process them, and query the search engine for relevant results.\n",
    "\n",
    "- **Building a Custom Solution with Language Models**:\n",
    "   - **OpenAI API or Azure OpenAI Service**: Integrate a pre-trained language model to understand user queries\n",
    "   - **ASP.NET Core Web API**: Create an API to handle user inputs, query the JSON data, and return responses.\n",
    "\n",
    "This notebook, focuses on the second option, while we will not create a full-fledged solution here, the outline of the solution is provided.\n",
    "\n",
    "## Solution Approach\n",
    "\n",
    "In order to be extract dynamic content from `json` objects, we would first need to have the schema and the user query. A prompt to LLM with the schema and the user query would return the response. The response would be parsed to extract the relevant information.\n",
    "\n",
    "**Potential Prompt**:\n",
    "\n",
    "```text\n",
    "You are given a schema of a JSON dataset and a natural language query. Your task is to convert the natural language query into a structured JSON format that specifies the operation, path, field, and filters needed to execute the query on the JSON dataset.\n",
    "\n",
    "Schema:\n",
    "{\n",
    "  \"address\": {\n",
    "    \"city\": \"string\",\n",
    "    \"country\": \"string\",\n",
    "    \"postalCode\": \"string\",\n",
    "    \"state\": \"string\",\n",
    "    \"street\": \"string\"\n",
    "  },\n",
    "  \"contactDetails\": {\n",
    "    \"phone\": \"string\"\n",
    "  },\n",
    "  \"currency\": \"string\",\n",
    "  \"customerId\": \"string\",\n",
    "  \"financials\": {\n",
    "    \"12MonthsSales\": \"number\",\n",
    "    \"add\": \"number\",\n",
    "    \"cei\": \"number\",\n",
    "    \"creditMemos\": \"number\",\n",
    "    \"dso\": \"number\",\n",
    "    \"dueInvoices\": \"number\",\n",
    "    \"finScore\": \"number\",\n",
    "    \"monthlyFinancials\": [\n",
    "      {\n",
    "        \"add\": \"number\",\n",
    "        \"cei\": \"number\",\n",
    "        \"dso\": \"number\",\n",
    "        \"invoices\": \"number\",\n",
    "        \"month\": \"number\",\n",
    "        \"openAR\": \"number\",\n",
    "        \"payments\": \"number\",\n",
    "        \"year\": \"number\"\n",
    "      }\n",
    "    ],\n",
    "    \"overDueInvoices\": \"number\",\n",
    "    \"totalSales\": \"number\"\n",
    "  },\n",
    "  \"firstInvoiceDate\": \"string\",\n",
    "  \"foreignId\": \"string\",\n",
    "  \"name\": \"string\",\n",
    "  \"sectorNaicsDescription\": \"string\",\n",
    "  \"sectorNaicsId\": \"string\",\n",
    "  \"taxId\": \"string\",\n",
    "  \"verifiedName\": \"string\"\n",
    "}\n",
    "\n",
    "Convert the following natural language query into a structured JSON format:\n",
    "\n",
    "Example Query: \"I need the total for all invoices in year 2021.\"\n",
    "Example Output:\n",
    "{\n",
    "  \"operation\": \"sum\",\n",
    "  \"path\": \"financials.monthlyFinancials\",\n",
    "  \"field\": \"invoices\",\n",
    "  \"filters\": [\n",
    "    {\n",
    "      \"field\": \"year\",\n",
    "      \"operator\": \"==\",\n",
    "      \"value\": 2021\n",
    "    }\n",
    "  ]\n",
    "}\n",
    "\n",
    "Query: \"Calculate the average sales for the year 2020.\"\n",
    "Output:\n",
    "{\n",
    "  \"operation\": \"average\",\n",
    "  \"path\": \"financials.monthlyFinancials\",\n",
    "  \"field\": \"invoices\",\n",
    "  \"filters\": [\n",
    "    {\n",
    "      \"field\": \"year\",\n",
    "      \"operator\": \"==\",\n",
    "      \"value\": 2020\n",
    "    }\n",
    "  ]\n",
    "}\n",
    "\n",
    "Query: \"{User Query}\"\n",
    "Output:\n",
    "```\n",
    "\n",
    "## Prerequisites"
   ]
  },
  {
   "cell_type": "code",
   "execution_count": null,
   "metadata": {
    "vscode": {
     "languageId": "polyglot-notebook"
    }
   },
   "outputs": [],
   "source": [
    "#r \"nuget: Azure.AI.OpenAI, 1.0.0-beta.12\"\n",
    "#r \"nuget: DotNetEnv, 2.5.0\"\n",
    "#r \"nuget: System.Text.Json\"\n",
    "#r \"nuget: System.Linq\""
   ]
  },
  {
   "cell_type": "markdown",
   "metadata": {},
   "source": [
    "### Instantiate OpenAI API"
   ]
  },
  {
   "cell_type": "code",
   "execution_count": null,
   "metadata": {
    "vscode": {
     "languageId": "polyglot-notebook"
    }
   },
   "outputs": [],
   "source": [
    "using Azure; \n",
    "using Azure.AI.OpenAI;\n",
    "using DotNetEnv;\n",
    "using System.IO;\n",
    "using System.Text.Json; \n",
    "\n",
    "static string _configurationFile = @\"../01_DemoEnvironment/conf/application.env\";\n",
    "Env.Load(_configurationFile);\n",
    "\n",
    "\n",
    "string assetsFolder = Path.Combine(Directory.GetCurrentDirectory(), \"..\", \"..\", \"assets\");\n",
    "\n",
    "string oAiApiKey = Environment.GetEnvironmentVariable(\"SKIT_AOAI_APIKEY\") ?? \"SKIT_AOAI_APIKEY not found\";\n",
    "string oAiEndpoint = Environment.GetEnvironmentVariable(\"SKIT_AOAI_ENDPOINT\") ?? \"SKIT_AOAI_ENDPOINT not found\";\n",
    "string chatCompletionDeploymentName = Environment.GetEnvironmentVariable(\"SKIT_CHATCOMPLETION_DEPLOYMENTNAME\") ?? \"SKIT_CHATCOMPLETION_DEPLOYMENTNAME not found\";\n",
    "\n",
    "AzureKeyCredential azureKeyCredential = new AzureKeyCredential(oAiApiKey);\n",
    "OpenAIClient openAIClient = new OpenAIClient(new Uri(oAiEndpoint), azureKeyCredential);\n",
    "\n",
    "Console.WriteLine($\"OpenAI Client created...\");"
   ]
  },
  {
   "cell_type": "markdown",
   "metadata": {},
   "source": [
    "### Json Schema, Object, and Query"
   ]
  },
  {
   "cell_type": "code",
   "execution_count": null,
   "metadata": {
    "vscode": {
     "languageId": "polyglot-notebook"
    }
   },
   "outputs": [],
   "source": [
    "string userQuery = \"looking for the total invoices amount for the year 2021\";\n",
    "string jsonSchema = File.ReadAllText(Path.Combine(assetsFolder,\"docs\", \"03_SDK\", \"sampleSchema.json\"));\n",
    "\n",
    "string jsonObject = File.ReadAllText(Path.Combine(assetsFolder,\"docs\", \"03_SDK\", \"sampleObject.json\"));"
   ]
  },
  {
   "cell_type": "markdown",
   "metadata": {},
   "source": [
    "### Prompt to extract intent and entities"
   ]
  },
  {
   "cell_type": "code",
   "execution_count": null,
   "metadata": {
    "vscode": {
     "languageId": "polyglot-notebook"
    }
   },
   "outputs": [],
   "source": [
    "var prompt = $@\"\n",
    "You are given a schema of a JSON dataset and a natural language query. Your task is to convert the natural language query into a structured JSON format that specifies the operation, path, field, and filters needed to execute the query on the JSON dataset.\n",
    "\n",
    "Schema:\n",
    "{jsonSchema}\n",
    "\n",
    "Convert the following natural language query into a structured JSON format:\n",
    "\n",
    "Example Query: \"\"I need the total for all invoices in year 2021.\"\"\n",
    "Example Output:\n",
    "{{\n",
    "  \"\"operation\"\": \"\"sum\"\",\n",
    "  \"\"path\"\": \"\"financials.monthlyFinancials\"\",\n",
    "  \"\"field\"\": \"\"invoices\"\",\n",
    "  \"\"filters\"\": [\n",
    "    {{\n",
    "      \"\"field\"\": \"\"year\"\",\n",
    "      \"\"operator\"\": \"\"==\"\",\n",
    "      \"\"value\"\": 2021\n",
    "    }}\n",
    "  ]\n",
    "}}\n",
    "\n",
    "Example Query: \"\"Calculate the average sales for the year 2020.\"\"\n",
    "Example Output:\n",
    "{{\n",
    "  \"\"operation\"\": \"\"average\"\",\n",
    "  \"\"path\"\": \"\"financials.monthlyFinancials\"\",\n",
    "  \"\"field\"\": \"\"invoices\"\",\n",
    "  \"\"filters\"\": [\n",
    "    {{\n",
    "      \"\"field\"\": \"\"year\"\",\n",
    "      \"\"operator\"\": \"\"==\"\",\n",
    "      \"\"value\"\": 2020\n",
    "    }}\n",
    "  ]\n",
    "}}\n",
    "\n",
    "\";"
   ]
  },
  {
   "cell_type": "markdown",
   "metadata": {},
   "source": [
    "### Method to extract intent using a call to OpenAI API"
   ]
  },
  {
   "cell_type": "code",
   "execution_count": null,
   "metadata": {
    "vscode": {
     "languageId": "polyglot-notebook"
    }
   },
   "outputs": [],
   "source": [
    "public async Task<string> GetStructuredQueryAsync(string userQuery)\n",
    "{\n",
    "    string sys_prompt = prompt;\n",
    "    ChatCompletionsOptions simpleOption = new ChatCompletionsOptions()\n",
    "    {\n",
    "    //Request Properties\n",
    "    ResponseFormat = ChatCompletionsResponseFormat.JsonObject,\n",
    "    MaxTokens = 500,\n",
    "    Temperature = 0.7f,\n",
    "    NucleusSamplingFactor = 0.0f,\n",
    "    FrequencyPenalty = 0.0f,\n",
    "    PresencePenalty = 0.0f,\n",
    "    DeploymentName = chatCompletionDeploymentName\n",
    "    };\n",
    "\n",
    "    simpleOption.Messages.Add(new ChatRequestSystemMessage(sys_prompt));\n",
    "    var userMessage = $\"Query: {userQuery}. Output:\";\n",
    "    simpleOption.Messages.Add(new ChatRequestUserMessage( userMessage));\n",
    "\n",
    "    Response<ChatCompletions> simpleResponse = await openAIClient.GetChatCompletionsAsync(simpleOption);\n",
    "\n",
    "    // Get the first choice from the response\n",
    "    ChatCompletions simpleCompletions = simpleResponse.Value;\n",
    "\n",
    "    return simpleCompletions.Choices[0].Message.Content;\n",
    "\n",
    "}"
   ]
  },
  {
   "cell_type": "markdown",
   "metadata": {},
   "source": [
    "### Test intent extraction"
   ]
  },
  {
   "cell_type": "code",
   "execution_count": null,
   "metadata": {
    "vscode": {
     "languageId": "polyglot-notebook"
    }
   },
   "outputs": [],
   "source": [
    "\n",
    "var structuredQuery = await GetStructuredQueryAsync(userQuery);\n",
    "\n",
    "Console.WriteLine(structuredQuery);"
   ]
  },
  {
   "cell_type": "markdown",
   "metadata": {},
   "source": [
    "### Json data extraction\n",
    "\n",
    "This code uses the structured query, or `json action` to perform filtering and aggregation on the JSON data. The `json action` is a structured JSON object that specifies the operation, path, field, and filters needed to execute the query on the JSON dataset.\n",
    "This supports the following operations:\n",
    "- `sum`: Calculate the sum of the field.\n",
    "- `average`: Calculate the average of the field.\n",
    "- `count`: Count the number of records.\n",
    "\n",
    "As a side note, simple operation such as obtain specific field value based on a filter could use just json path and filter."
   ]
  },
  {
   "cell_type": "code",
   "execution_count": null,
   "metadata": {
    "vscode": {
     "languageId": "polyglot-notebook"
    }
   },
   "outputs": [],
   "source": [
    "using System;\n",
    "using System.Linq;\n",
    "using System.Text.Json;\n",
    "using System.Text.Json.Nodes;\n",
    "using System.Collections.Generic;\n",
    "\n",
    "// Define a method to parse the JSON object and perform the operation specified in the structured query\n",
    "public static string ExecuteStructuredQuery(string jsonObject, string structuredQuery)\n",
    "{\n",
    "    var jsonData = JsonNode.Parse(jsonObject);\n",
    "    var query = JsonNode.Parse(structuredQuery);\n",
    "\n",
    "    // Function to get a JsonArray from a dynamic path\n",
    "    JsonArray GetJsonArrayFromPath(JsonNode node, string path)\n",
    "    {\n",
    "        var parts = path.Split('.');\n",
    "        foreach (var part in parts)\n",
    "        {\n",
    "            node = node[part];\n",
    "        }\n",
    "        return node.AsArray();\n",
    "    }\n",
    "\n",
    "    // Extract the relevant data using the specified path\n",
    "    var jsonPath = query[\"path\"].GetValue<string>();\n",
    "    var data = GetJsonArrayFromPath(jsonData, jsonPath);\n",
    "\n",
    "    // Function to apply filters\n",
    "    IEnumerable<JsonNode> ApplyFilters(IEnumerable<JsonNode> data, JsonArray filters)\n",
    "    {\n",
    "        foreach (var filter in filters)\n",
    "        {\n",
    "            var field = filter[\"field\"].GetValue<string>();\n",
    "            var operator_ = filter[\"operator\"].GetValue<string>();\n",
    "            var value = filter[\"value\"];\n",
    "\n",
    "            data = data.Where(item => \n",
    "            {\n",
    "                var itemValue = item[field];\n",
    "                return operator_ switch\n",
    "                {\n",
    "                    \"==\" => itemValue.GetValue<int>() == value.GetValue<int>(),\n",
    "                    \"!=\" => itemValue.GetValue<int>() != value.GetValue<int>(),\n",
    "                    \">\" => itemValue.GetValue<decimal>() > value.GetValue<decimal>(),\n",
    "                    \"<\" => itemValue.GetValue<decimal>() < value.GetValue<decimal>(),\n",
    "                    \">=\" => itemValue.GetValue<decimal>() >= value.GetValue<decimal>(),\n",
    "                    \"<=\" => itemValue.GetValue<decimal>() <= value.GetValue<decimal>(),\n",
    "                    _ => throw new NotSupportedException($\"Operator {operator_} is not supported\")\n",
    "                };\n",
    "            });\n",
    "        }\n",
    "        return data;\n",
    "    }\n",
    "\n",
    "    // Apply filters from the query\n",
    "    var filters = query[\"filters\"].AsArray();\n",
    "    var filteredData = ApplyFilters(data, filters);\n",
    "\n",
    "    // Perform the specified aggregation\n",
    "    var field = query[\"field\"].GetValue<string>();\n",
    "    var operation = query[\"operation\"].GetValue<string>();\n",
    "    var result = operation switch\n",
    "    {\n",
    "        \"sum\" => filteredData.Sum(item => item[field].GetValue<decimal>()),\n",
    "        \"average\" => filteredData.Average(item => item[field].GetValue<decimal>()),\n",
    "        \"count\" => filteredData.Count(),\n",
    "        _ => throw new NotSupportedException($\"Operation {operation} is not supported\")\n",
    "    };\n",
    "\n",
    "    return result.ToString();\n",
    "}"
   ]
  },
  {
   "cell_type": "code",
   "execution_count": null,
   "metadata": {
    "vscode": {
     "languageId": "polyglot-notebook"
    }
   },
   "outputs": [],
   "source": [
    "var structuredQuery = await GetStructuredQueryAsync(userQuery);\n",
    "\n",
    "Console.WriteLine($\"Structured Query: {structuredQuery}\");\n",
    "\n",
    "var result = ExecuteStructuredQuery(jsonObject, structuredQuery);\n",
    "Console.WriteLine($\"Result: {result}\");"
   ]
  }
 ],
 "metadata": {
  "kernelspec": {
   "display_name": ".NET (C#)",
   "language": "C#",
   "name": ".net-csharp"
  },
  "language_info": {
   "name": "python"
  },
  "polyglot_notebook": {
   "kernelInfo": {
    "defaultKernelName": "csharp",
    "items": [
     {
      "aliases": [],
      "name": "csharp"
     }
    ]
   }
  }
 },
 "nbformat": 4,
 "nbformat_minor": 2
}
