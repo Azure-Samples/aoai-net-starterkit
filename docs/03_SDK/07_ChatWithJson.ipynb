{
 "cells": [
  {
   "cell_type": "markdown",
   "metadata": {},
   "source": [
    "# 03 SDK | 07 Chat with Json\n",
    "\n",
    "## Use case\n",
    "\n",
    "Your data is represented by medium to large JSON objects, you want to enable your customers to interact with your data in a conversational manner. You want to enable your customers to ask questions about your data and get responses in a conversational manner. There are few options to implement this:\n",
    "\n",
    "- **Incorporating a Full-Text Search Engine**:\n",
    "   - **Elasticsearch or Azure Cognitive Search**: Index the JSON file content using Elasticsearch or Azure Cognitive Search.\n",
    "   - **ASP.NET Core Web API**: Build a web API to accept natural language queries, process them, and query the search engine for relevant results.\n",
    "\n",
    "- **Building a Custom Solution with Language Models**:\n",
    "   - **OpenAI API or Azure OpenAI Service**: Integrate a pre-trained language model to understand user queries\n",
    "   - **ASP.NET Core Web API**: Create an API to handle user inputs, query the JSON data, and return responses.\n",
    "\n",
    "This notebook, focuses on the second option, while we will not create a full-fledged solution here, the outline of the solution is provided.\n",
    "\n",
    "## Solution Approach\n",
    "\n",
    "In order to be extract dynamic content from `json` objects, we would first need to have the schema and the user query. A prompt to LLM with the schema and the user query would return the response. The response (`Structured Query`) would be parsed to extract the relevant information.\n",
    "\n",
    "### Domain Specific Query Language\n",
    "\n",
    "The structured query format we use is a domain-specific query language (DSL) tailored for querying JSON datasets. This DSL allows for clear and concise representation of operations such as retrieval, summation, averaging, and filtering of data. It abstracts the complexity of JSON manipulation and provides a human-readable way to describe queries.\n",
    "\n",
    "For example consider this natural language query: \"I need the total for all invoices in year 2021.\" The equivalent structured query would be:\n",
    "\n",
    "```json\n",
    "{\n",
    "  \"operation\": \"sum\",\n",
    "  \"path\": \"financials.monthlyFinancials\",\n",
    "  \"fields\": [\"invoices\"],\n",
    "  \"filters\": [\n",
    "    {\n",
    "      \"field\": \"year\",\n",
    "      \"operator\": \"==\",\n",
    "      \"value\": 2021\n",
    "    }\n",
    "  ]\n",
    "}\n",
    "```\n",
    "\n",
    "## Prerequisites"
   ]
  },
  {
   "cell_type": "code",
   "execution_count": 13,
   "metadata": {
    "dotnet_interactive": {
     "language": "csharp"
    },
    "polyglot_notebook": {
     "kernelName": "csharp"
    },
    "vscode": {
     "languageId": "polyglot-notebook"
    }
   },
   "outputs": [
    {
     "data": {
      "text/html": [
       "<div><div></div><div></div><div><strong>Installed Packages</strong><ul><li><span>Azure.AI.OpenAI, 1.0.0-beta.12</span></li><li><span>DotNetEnv, 2.5.0</span></li><li><span>System.Linq, 4.3.0</span></li><li><span>System.Text.Json, 8.0.0</span></li></ul></div></div>"
      ]
     },
     "metadata": {},
     "output_type": "display_data"
    }
   ],
   "source": [
    "#r \"nuget: Azure.AI.OpenAI, 1.0.0-beta.12\"\n",
    "#r \"nuget: DotNetEnv, 2.5.0\"\n",
    "#r \"nuget: System.Linq\"\n",
    "#r \"nuget: System.Text.Json, 8.0.0\""
   ]
  },
  {
   "cell_type": "markdown",
   "metadata": {},
   "source": [
    "### Instantiate OpenAI API"
   ]
  },
  {
   "cell_type": "code",
   "execution_count": 14,
   "metadata": {
    "dotnet_interactive": {
     "language": "csharp"
    },
    "polyglot_notebook": {
     "kernelName": "csharp"
    },
    "vscode": {
     "languageId": "polyglot-notebook"
    }
   },
   "outputs": [
    {
     "name": "stdout",
     "output_type": "stream",
     "text": [
      "OpenAI Client created...\n"
     ]
    }
   ],
   "source": [
    "using Azure; \n",
    "using Azure.AI.OpenAI;\n",
    "using DotNetEnv;\n",
    "using System.IO;\n",
    "using System.Text.Json; \n",
    "\n",
    "static string _configurationFile = @\"../01_DemoEnvironment/conf/application.env\";\n",
    "Env.Load(_configurationFile);\n",
    "\n",
    "\n",
    "string assetsFolder = Path.Combine(Directory.GetCurrentDirectory(), \"..\", \"..\", \"assets\");\n",
    "\n",
    "string oAiApiKey = Environment.GetEnvironmentVariable(\"SKIT_AOAI_APIKEY\") ?? \"SKIT_AOAI_APIKEY not found\";\n",
    "string oAiEndpoint = Environment.GetEnvironmentVariable(\"SKIT_AOAI_ENDPOINT\") ?? \"SKIT_AOAI_ENDPOINT not found\";\n",
    "string chatCompletionDeploymentName = Environment.GetEnvironmentVariable(\"SKIT_CHATCOMPLETION_DEPLOYMENTNAME\") ?? \"SKIT_CHATCOMPLETION_DEPLOYMENTNAME not found\";\n",
    "\n",
    "AzureKeyCredential azureKeyCredential = new AzureKeyCredential(oAiApiKey);\n",
    "OpenAIClient openAIClient = new OpenAIClient(new Uri(oAiEndpoint), azureKeyCredential);\n",
    "\n",
    "Console.WriteLine($\"OpenAI Client created...\");"
   ]
  },
  {
   "cell_type": "markdown",
   "metadata": {},
   "source": [
    "### Json Schema, Object, and Query"
   ]
  },
  {
   "cell_type": "code",
   "execution_count": 15,
   "metadata": {
    "dotnet_interactive": {
     "language": "csharp"
    },
    "polyglot_notebook": {
     "kernelName": "csharp"
    },
    "vscode": {
     "languageId": "polyglot-notebook"
    }
   },
   "outputs": [],
   "source": [
    "string userQuery = \"i need a list of all invoices in 2021\";\n",
    "string jsonSchema = File.ReadAllText(Path.Combine(assetsFolder,\"docs\", \"03_SDK\", \"sampleSchema.json\"));\n",
    "\n"
   ]
  },
  {
   "cell_type": "code",
   "execution_count": 16,
   "metadata": {
    "dotnet_interactive": {
     "language": "csharp"
    },
    "polyglot_notebook": {
     "kernelName": "csharp"
    },
    "vscode": {
     "languageId": "polyglot-notebook"
    }
   },
   "outputs": [
    {
     "name": "stdout",
     "output_type": "stream",
     "text": [
      "Time taken to read the JSON file: 7 ms\n"
     ]
    }
   ],
   "source": [
    "using System.Diagnostics;\n",
    "var stopwatch = Stopwatch.StartNew();\n",
    "// string jsonObject = File.ReadAllText(Path.Combine(assetsFolder,\"docs\", \"03_SDK\", \"large_sample.json\"));\n",
    "string jsonObject = File.ReadAllText(Path.Combine(assetsFolder,\"docs\", \"03_SDK\", \"sampleObject.json\"));\n",
    "stopwatch.Stop();\n",
    "Console.WriteLine($\"Time taken to read the JSON file: {stopwatch.ElapsedMilliseconds} ms\");"
   ]
  },
  {
   "cell_type": "markdown",
   "metadata": {},
   "source": [
    "### Prompt to extract intent and entities"
   ]
  },
  {
   "cell_type": "code",
   "execution_count": 5,
   "metadata": {
    "dotnet_interactive": {
     "language": "csharp"
    },
    "polyglot_notebook": {
     "kernelName": "csharp"
    },
    "vscode": {
     "languageId": "polyglot-notebook"
    }
   },
   "outputs": [],
   "source": [
    "var prompt = $@\"\n",
    "You are given a schema of a JSON dataset and a natural language query. Your task is to convert the natural language query into a structured JSON format that specifies the operation, path, fields, and filters needed to execute the query on the JSON dataset.\n",
    "\n",
    "Input Schema:\n",
    "{jsonSchema}\n",
    "\n",
    "Output Schema:\n",
    "{{\n",
    "  \"\"operation\"\": \"\"string\"\",\n",
    "  \"\"path\"\": \"\"string\"\",\n",
    "  \"\"fields\"\": [\"\"string\"\"],\n",
    "  \"\"filters\"\": [\n",
    "    {{\n",
    "      \"\"field\"\": \"\"string\"\",\n",
    "      \"\"operator\"\": \"\"string\"\",\n",
    "      \"\"value\"\": \"\"any\"\"\n",
    "    }}\n",
    "  ]\n",
    "}}\n",
    "\n",
    "Convert the following natural language query into a structured JSON format:\n",
    "\n",
    "Example Query: \"\"I need the total for all invoices in year 2021.\"\"\n",
    "Example Output:\n",
    "{{\n",
    "  \"\"operation\"\": \"\"sum\"\",\n",
    "  \"\"path\"\": \"\"financials.monthlyFinancials\"\",\n",
    "  \"\"fields\"\": [\"\"invoices\"\"],\n",
    "  \"\"filters\"\": [\n",
    "    {{\n",
    "      \"\"field\"\": \"\"year\"\",\n",
    "      \"\"operator\"\": \"\"==\"\",\n",
    "      \"\"value\"\": 2021\n",
    "    }}\n",
    "  ]\n",
    "}}\n",
    "\n",
    "Example Query: \"\"Calculate the average sales for the year 2020.\"\"\n",
    "Example Output:\n",
    "{{\n",
    "  \"\"operation\"\": \"\"average\"\",\n",
    "  \"\"path\"\": \"\"financials.monthlyFinancials\"\",\n",
    "  \"\"fields\"\": [\"\"invoices\"\"],\n",
    "  \"\"filters\"\": [\n",
    "    {{\n",
    "      \"\"field\"\": \"\"year\"\",\n",
    "      \"\"operator\"\": \"\"==\"\",\n",
    "      \"\"value\"\": 2020\n",
    "    }}\n",
    "  ]\n",
    "}}\n",
    "\n",
    "Query: \"\"{userQuery}\"\"\n",
    "Output:\n",
    "\";\n"
   ]
  },
  {
   "cell_type": "markdown",
   "metadata": {},
   "source": [
    "### Method to extract intent using a call to OpenAI API"
   ]
  },
  {
   "cell_type": "code",
   "execution_count": 17,
   "metadata": {
    "dotnet_interactive": {
     "language": "csharp"
    },
    "polyglot_notebook": {
     "kernelName": "csharp"
    },
    "vscode": {
     "languageId": "polyglot-notebook"
    }
   },
   "outputs": [],
   "source": [
    "using System.Text.Json;\n",
    "// using System.Text.Json.Serialization;\n",
    "\n",
    "\n",
    "\n",
    "public async Task<string> GetStructuredQueryAsync(string userQuery)\n",
    "{\n",
    "    string sys_prompt = prompt;\n",
    "    ChatCompletionsOptions simpleOption = new ChatCompletionsOptions()\n",
    "    {\n",
    "    //Request Properties\n",
    "    ResponseFormat = ChatCompletionsResponseFormat.JsonObject,\n",
    "    MaxTokens = 500,\n",
    "    Temperature = 0.7f,\n",
    "    NucleusSamplingFactor = 0.0f,\n",
    "    FrequencyPenalty = 0.0f,\n",
    "    PresencePenalty = 0.0f,\n",
    "    DeploymentName = chatCompletionDeploymentName\n",
    "    };\n",
    "\n",
    "    simpleOption.Messages.Add(new ChatRequestSystemMessage(sys_prompt));\n",
    "    var userMessage = $\"Query: {userQuery}. Output:\";\n",
    "    simpleOption.Messages.Add(new ChatRequestUserMessage( userMessage));\n",
    "\n",
    "    Response<ChatCompletions> simpleResponse = await openAIClient.GetChatCompletionsAsync(simpleOption);\n",
    "\n",
    "    // Get the first choice from the response\n",
    "    ChatCompletions simpleCompletions = simpleResponse.Value;\n",
    "\n",
    "    string responseContent = simpleCompletions.Choices[0].Message.Content;\n",
    "\n",
    "    return simpleCompletions.Choices[0].Message.Content;\n",
    "\n",
    "}"
   ]
  },
  {
   "cell_type": "markdown",
   "metadata": {},
   "source": [
    "### Test intent extraction"
   ]
  },
  {
   "cell_type": "code",
   "execution_count": 19,
   "metadata": {
    "dotnet_interactive": {
     "language": "csharp"
    },
    "polyglot_notebook": {
     "kernelName": "csharp"
    },
    "vscode": {
     "languageId": "polyglot-notebook"
    }
   },
   "outputs": [
    {
     "name": "stdout",
     "output_type": "stream",
     "text": [
      "{\n",
      "  \"operation\": \"list\",\n",
      "  \"path\": \"financials.monthlyFinancials\",\n",
      "  \"fields\": [\"payments\"],\n",
      "  \"filters\": [\n",
      "    {\n",
      "      \"field\": \"year\",\n",
      "      \"operator\": \"==\",\n",
      "      \"value\": 2020\n",
      "    },\n",
      "    {\n",
      "      \"field\": \"payments\",\n",
      "      \"operator\": \">\",\n",
      "      \"value\": 1000\n",
      "    }\n",
      "  ]\n",
      "}\n"
     ]
    }
   ],
   "source": [
    "userQuery = \"my boss wants to see all payments made on the year 20 that were over 1000\";\n",
    "var structuredQuery = await GetStructuredQueryAsync(userQuery);\n",
    "\n",
    "Console.WriteLine(structuredQuery);"
   ]
  },
  {
   "cell_type": "markdown",
   "metadata": {},
   "source": [
    "### Json data extraction\n",
    "\n",
    "This code uses the structured query, or `json action` to perform filtering and aggregation on the JSON data. The `json action` is a structured JSON object that specifies the operation, path, field, and filters needed to execute the query on the JSON dataset.\n",
    "This supports the following operations:\n",
    "- `sum`: Calculate the sum of the field.\n",
    "- `average`: Calculate the average of the field.\n",
    "- `count`: Count the number of records.\n",
    "\n",
    "As a side note, simple operation such as obtain specific field value based on a filter could use just json path and filter."
   ]
  },
  {
   "cell_type": "code",
   "execution_count": 20,
   "metadata": {
    "dotnet_interactive": {
     "language": "csharp"
    },
    "polyglot_notebook": {
     "kernelName": "csharp"
    },
    "vscode": {
     "languageId": "polyglot-notebook"
    }
   },
   "outputs": [],
   "source": [
    "\n",
    "using System;\n",
    "using System.Linq;\n",
    "using System.Text.Json;\n",
    "using System.Text.Json.Nodes;\n",
    "using System.Collections.Generic;\n",
    "\n",
    "// Function to get a JsonArray from a dynamic path\n",
    "public static JsonArray GetJsonArrayFromPath(JsonNode node, string path)\n",
    "{\n",
    "    if (string.IsNullOrEmpty(path))\n",
    "    {\n",
    "        Console.WriteLine(\"Path is empty. Returning the root node.\");\n",
    "        if (node is JsonArray rootArray)\n",
    "        {\n",
    "            return rootArray;\n",
    "        }\n",
    "        else\n",
    "        {\n",
    "            rootArray = new JsonArray { node };\n",
    "            return rootArray;\n",
    "        }\n",
    "    }\n",
    "\n",
    "    var parts = path.Split('.');\n",
    "    foreach (var part in parts)\n",
    "    {\n",
    "        node = node[part];\n",
    "        if (node == null)\n",
    "        {\n",
    "            throw new InvalidOperationException($\"The path '{path}' does not exist in the JSON object.\");\n",
    "        }\n",
    "    }\n",
    "\n",
    "    if (node is JsonArray arrayNode)\n",
    "    {\n",
    "        return arrayNode;\n",
    "    }\n",
    "    else\n",
    "    {\n",
    "        throw new InvalidOperationException($\"The node at path '{path}' is not an array.\");\n",
    "    }\n",
    "}\n",
    "\n",
    "// Function to apply filters\n",
    "public static IEnumerable<JsonNode> ApplyFilters(IEnumerable<JsonNode> data, JsonArray filters)\n",
    "{\n",
    "    foreach (var filter in filters)\n",
    "    {\n",
    "        var field = filter[\"field\"].GetValue<string>();\n",
    "        var operator_ = filter[\"operator\"].GetValue<string>();\n",
    "        var value = filter[\"value\"];\n",
    "\n",
    "        data = data.Where(item => \n",
    "        {\n",
    "            var itemValue = item[field];\n",
    "            try\n",
    "            {\n",
    "                // Console.WriteLine($\"Applying filter: {field} {operator_} {value}\");\n",
    "                switch (operator_)\n",
    "                {\n",
    "                    case \"==\":\n",
    "                        return itemValue.GetValue<decimal>() == value.GetValue<decimal>();\n",
    "                    case \"!=\":\n",
    "                        return itemValue.GetValue<decimal>() != value.GetValue<decimal>();\n",
    "                    case \">\":\n",
    "                        return itemValue.GetValue<decimal>() > value.GetValue<decimal>();\n",
    "                    case \"<\":\n",
    "                        return itemValue.GetValue<decimal>() < value.GetValue<decimal>();\n",
    "                    case \">=\":\n",
    "                        return itemValue.GetValue<decimal>() >= value.GetValue<decimal>();\n",
    "                    case \"<=\":\n",
    "                        return itemValue.GetValue<decimal>() <= value.GetValue<decimal>();\n",
    "                    default:\n",
    "                        throw new NotSupportedException($\"Operator {operator_} is not supported\");\n",
    "                }\n",
    "            }\n",
    "            catch (FormatException ex)\n",
    "            {\n",
    "                Console.WriteLine($\"FormatException: {ex.Message}\");\n",
    "                throw;\n",
    "            }\n",
    "            catch (Exception ex)\n",
    "            {\n",
    "                Console.WriteLine($\"Exception: {ex.Message}\");\n",
    "                throw;\n",
    "            }\n",
    "        });\n",
    "    }\n",
    "    return data;\n",
    "}\n",
    "\n",
    "\n",
    "// Method to find specific fields based on filters\n",
    "public static List<Dictionary<string, object>> FindFields(string jsonObject, JsonNode query)\n",
    "{\n",
    "    var jsonData = JsonNode.Parse(jsonObject);\n",
    "    var jsonPath = query[\"path\"].GetValue<string>();\n",
    "    JsonNode dataNode;\n",
    "\n",
    "    if (string.IsNullOrEmpty(jsonPath))\n",
    "    {\n",
    "        dataNode = jsonData;\n",
    "    }\n",
    "    else\n",
    "    {\n",
    "        var parts = jsonPath.Split('.');\n",
    "        dataNode = jsonData;\n",
    "        foreach (var part in parts)\n",
    "        {\n",
    "            dataNode = dataNode[part];\n",
    "            if (dataNode == null)\n",
    "            {\n",
    "                throw new InvalidOperationException($\"The path '{jsonPath}' does not exist in the JSON object.\");\n",
    "            }\n",
    "        }\n",
    "    }\n",
    "\n",
    "    var results = new List<Dictionary<string, object>>();\n",
    "    var fields = query[\"fields\"].AsArray().Select(f => f.GetValue<string>()).ToList();\n",
    "\n",
    "    if (dataNode is JsonArray arrayNode)\n",
    "    {\n",
    "        foreach (var item in arrayNode)\n",
    "        {\n",
    "            var result = new Dictionary<string, object>();\n",
    "            foreach (var field in fields)\n",
    "            {\n",
    "                result[field] = item[field];\n",
    "            }\n",
    "            results.Add(result);\n",
    "        }\n",
    "    }\n",
    "    else if (dataNode is JsonObject objectNode)\n",
    "    {\n",
    "        var result = new Dictionary<string, object>();\n",
    "        foreach (var field in fields)\n",
    "        {\n",
    "            result[field] = objectNode[field];\n",
    "        }\n",
    "        results.Add(result);\n",
    "    }\n",
    "    else\n",
    "    {\n",
    "        throw new InvalidOperationException($\"The node at path '{jsonPath}' is neither an array nor an object.\");\n",
    "    }\n",
    "\n",
    "    return results;\n",
    "}\n",
    "\n",
    "\n",
    "// Method to sum specific fields based on filters\n",
    "public static Dictionary<string, decimal> SumFields(string jsonObject, JsonNode query)\n",
    "{\n",
    "    var jsonData = JsonNode.Parse(jsonObject);\n",
    "    var jsonPath = query[\"path\"].GetValue<string>();\n",
    "    var data = GetJsonArrayFromPath(jsonData, jsonPath);\n",
    "    var filters = query[\"filters\"].AsArray();\n",
    "    var filteredData = ApplyFilters(data, filters);\n",
    "    var fields = query[\"fields\"].AsArray().Select(f => f.GetValue<string>()).ToList();\n",
    "    var results = new Dictionary<string, decimal>();\n",
    "\n",
    "    foreach (var field in fields)\n",
    "    {\n",
    "        results[field] = filteredData.Sum(item => item[field].GetValue<decimal>());\n",
    "    }\n",
    "\n",
    "    return results;\n",
    "}\n",
    "\n",
    "// Method to average specific fields based on filters\n",
    "public static Dictionary<string, decimal> AverageFields(string jsonObject, JsonNode query)\n",
    "{\n",
    "    var jsonData = JsonNode.Parse(jsonObject);\n",
    "    var jsonPath = query[\"path\"].GetValue<string>();\n",
    "    var data = GetJsonArrayFromPath(jsonData, jsonPath);\n",
    "    var filters = query[\"filters\"].AsArray();\n",
    "    var filteredData = ApplyFilters(data, filters);\n",
    "    var fields = query[\"fields\"].AsArray().Select(f => f.GetValue<string>()).ToList();\n",
    "    var results = new Dictionary<string, decimal>();\n",
    "\n",
    "    foreach (var field in fields)\n",
    "    {\n",
    "        results[field] = filteredData.Average(item => item[field].GetValue<decimal>());\n",
    "    }\n",
    "\n",
    "    return results;\n",
    "}\n",
    "\n",
    "// Method to count specific fields based on filters\n",
    "public static int CountFields(string jsonObject, JsonNode query)\n",
    "{\n",
    "    var jsonData = JsonNode.Parse(jsonObject);\n",
    "    var jsonPath = query[\"path\"].GetValue<string>();\n",
    "    var data = GetJsonArrayFromPath(jsonData, jsonPath);\n",
    "    var filters = query[\"filters\"].AsArray();\n",
    "    var filteredData = ApplyFilters(data, filters);\n",
    "    return filteredData.Count();\n",
    "}\n",
    "\n",
    "// General method to execute the structured query and call the appropriate method\n",
    "public static object ExecuteStructuredQuery(string jsonObject, string structuredQuery)\n",
    "{\n",
    "    var query = JsonNode.Parse(structuredQuery);\n",
    "    var operation = query[\"operation\"]?.GetValue<string>() ?? \"list\";\n",
    "\n",
    "    return operation switch\n",
    "    {\n",
    "        \"find\" or \"retrieve\" => FindFields(jsonObject, query),\n",
    "        \"sum\" => SumFields(jsonObject, query),\n",
    "        \"average\" => AverageFields(jsonObject, query),\n",
    "        \"count\" => CountFields(jsonObject, query),\n",
    "        \"list\" => FindFields(jsonObject, query), // Default case is to list (find) fields\n",
    "        _ => throw new NotSupportedException($\"Operation {operation} is not supported\")\n",
    "    };\n",
    "}"
   ]
  },
  {
   "cell_type": "code",
   "execution_count": 24,
   "metadata": {
    "dotnet_interactive": {
     "language": "csharp"
    },
    "polyglot_notebook": {
     "kernelName": "csharp"
    },
    "vscode": {
     "languageId": "polyglot-notebook"
    }
   },
   "outputs": [
    {
     "name": "stdout",
     "output_type": "stream",
     "text": [
      "Structured Query: {\n",
      "  \"operation\": \"sum\",\n",
      "  \"path\": \"financials.monthlyFinancials\",\n",
      "  \"fields\": [\"payments\", \"invoices\"],\n",
      "  \"filters\": [\n",
      "    {\n",
      "      \"field\": \"year\",\n",
      "      \"operator\": \"==\",\n",
      "      \"value\": 2020\n",
      "    }\n",
      "  ]\n",
      "}\n"
     ]
    }
   ],
   "source": [
    "string userQuery = \"i need a total of all payments and invoices made on 2020\";\n",
    "var structuredQuery = await GetStructuredQueryAsync(userQuery);\n",
    "Console.WriteLine($\"Structured Query: {structuredQuery}\");"
   ]
  },
  {
   "cell_type": "code",
   "execution_count": 25,
   "metadata": {
    "dotnet_interactive": {
     "language": "csharp"
    },
    "polyglot_notebook": {
     "kernelName": "csharp"
    },
    "vscode": {
     "languageId": "polyglot-notebook"
    }
   },
   "outputs": [
    {
     "name": "stdout",
     "output_type": "stream",
     "text": [
      "Time taken to extract data from JSON object: 1 ms\n"
     ]
    }
   ],
   "source": [
    "var stopwatch = Stopwatch.StartNew();\n",
    "var results = ExecuteStructuredQuery(jsonObject, structuredQuery);\n",
    "stopwatch.Stop();\n",
    "Console.WriteLine($\"Time taken to extract data from JSON object: {stopwatch.ElapsedMilliseconds} ms\");"
   ]
  },
  {
   "cell_type": "markdown",
   "metadata": {},
   "source": [
    "## Print out the results\n",
    "\n",
    "Since the return object may have dynamic fields populated based on the query, we traverse the object and print out the results."
   ]
  },
  {
   "cell_type": "code",
   "execution_count": 26,
   "metadata": {
    "dotnet_interactive": {
     "language": "csharp"
    },
    "polyglot_notebook": {
     "kernelName": "csharp"
    },
    "vscode": {
     "languageId": "polyglot-notebook"
    }
   },
   "outputs": [
    {
     "name": "stdout",
     "output_type": "stream",
     "text": [
      "payments: 469030.39\n",
      "invoices: 262753.09\n"
     ]
    }
   ],
   "source": [
    "if (results is List<Dictionary<string, object>> listResults)\n",
    "{\n",
    "    foreach (var result in listResults)\n",
    "    {\n",
    "        Console.WriteLine(string.Join(\", \", result.Select(kvp => $\"{kvp.Key}: {kvp.Value}\")));\n",
    "    }\n",
    "}\n",
    "else if (results is Dictionary<string, decimal> aggregateResults)\n",
    "{\n",
    "    foreach (var result in aggregateResults)\n",
    "    {\n",
    "        Console.WriteLine($\"{result.Key}: {result.Value}\");\n",
    "    }\n",
    "}\n",
    "else if (results is int countResult)\n",
    "{\n",
    "    Console.WriteLine($\"Count: {countResult}\");\n",
    "}"
   ]
  },
  {
   "cell_type": "markdown",
   "metadata": {},
   "source": [
    "## Creating JSON file based on the schema"
   ]
  },
  {
   "cell_type": "code",
   "execution_count": null,
   "metadata": {
    "dotnet_interactive": {
     "language": "csharp"
    },
    "polyglot_notebook": {
     "kernelName": "csharp"
    },
    "vscode": {
     "languageId": "polyglot-notebook"
    }
   },
   "outputs": [],
   "source": [
    "#r \"nuget: System.Text.Json\"\n",
    "\n",
    "using System;\n",
    "using System.IO;\n",
    "using System.Text.Json;\n",
    "using System.Text.Json.Serialization;\n",
    "\n",
    "var random = new Random();\n",
    "\n",
    "var largeJson = new\n",
    "{\n",
    "    address = new {\n",
    "        city = \"Sample City\",\n",
    "        country = \"Sample Country\",\n",
    "        postalCode = \"12345\",\n",
    "        state = \"Sample State\",\n",
    "        street = \"Sample Street\"\n",
    "    },\n",
    "    contactDetails = new {\n",
    "        phone = \"123-456-7890\"\n",
    "    },\n",
    "    currency = \"USD\",\n",
    "    customerId = \"CUST123456\",\n",
    "    financials = new {\n",
    "        _12MonthsSales = random.NextDouble() * 100,\n",
    "        add = random.NextDouble() * 100000,\n",
    "        cei = random.NextDouble() * 100000,\n",
    "        creditMemos = random.NextDouble() * 100000,\n",
    "        dso = random.NextDouble() * 100000,\n",
    "        dueInvoices = random.NextDouble() * 100000,\n",
    "        finScore = random.NextDouble() * 100000,\n",
    "        monthlyFinancials = new object[10000], // 10,000->1.8MB - Adjust the number to change the size (its linear)\n",
    "        overDueInvoices = random.NextDouble() * 100000,\n",
    "        totalSales = random.NextDouble() * 1000000\n",
    "    },\n",
    "    firstInvoiceDate = DateTime.UtcNow.ToString(\"o\"),\n",
    "    foreignId = \"FOR123456\",\n",
    "    name = \"Sample Name\",\n",
    "    sectorNaicsDescription = \"Sample Description\",\n",
    "    sectorNaicsId = \"NAICS123456\",\n",
    "    taxId = \"TAX123456\",\n",
    "    verifiedName = \"Verified Sample Name\"\n",
    "};\n",
    "\n",
    "// Populate the monthlyFinancials array with random data\n",
    "for (int i = 0; i < largeJson.financials.monthlyFinancials.Length; i++)\n",
    "{\n",
    "    largeJson.financials.monthlyFinancials[i] = new {\n",
    "        add = random.NextDouble() * 100000,\n",
    "        cei = random.NextDouble() * 100000,\n",
    "        dso = random.NextDouble() * 100000,\n",
    "        invoices = random.NextDouble() * 100000,\n",
    "        month = random.Next(1, 13),\n",
    "        openAR = random.NextDouble() * 100000,\n",
    "        payments = random.NextDouble() * 100000,\n",
    "        year = random.Next(2000, 2024)\n",
    "    };\n",
    "}\n",
    "\n",
    "string json = JsonSerializer.Serialize(largeJson, new JsonSerializerOptions { WriteIndented = false });\n",
    "\n",
    "// Save the generated JSON to a file\n",
    "File.WriteAllText(\"medium_sample.json\", json);\n",
    "\n",
    "Console.WriteLine(\"Large sample JSON file generated successfully.\");\n"
   ]
  }
 ],
 "metadata": {
  "kernelspec": {
   "display_name": ".NET (C#)",
   "language": "C#",
   "name": ".net-csharp"
  },
  "language_info": {
   "name": "python"
  },
  "polyglot_notebook": {
   "kernelInfo": {
    "defaultKernelName": "csharp",
    "items": [
     {
      "aliases": [],
      "name": "csharp"
     }
    ]
   }
  }
 },
 "nbformat": 4,
 "nbformat_minor": 2
}
