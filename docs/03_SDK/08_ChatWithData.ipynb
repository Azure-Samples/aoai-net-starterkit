{
 "cells": [
  {
   "cell_type": "markdown",
   "metadata": {},
   "source": [
    "# 03 SDK | 08 Chat with Data\n",
    "\n",
    "## Use Case\n",
    "\n",
    "Businesses often face challenges when interacting with structured data, such as financial records or customer databases. A common scenario is the need for non-technical users to query and analyze this data without the expertise required to write complex SQL queries. For instance, an operations manager might want to quickly find out how many invoices exceeded a certain amount in a given year, but they are unfamiliar with SQL.\n",
    "\n",
    "The use case revolves around enabling these users to \"chat\" with their data using natural language. By translating their questions into structured queries and executing them efficiently, businesses can make data more accessible and actionable, improving decision-making processes and reducing the reliance on technical teams.\n",
    "\n",
    "## Solution Approach\n",
    "\n",
    "This solution leverages Large Language Model (LLM) to translate user queries into SQL commands, which are then executed against a local database. The approach involves:\n",
    "\n",
    "- **LLM Integration**: Using an LLM model to understand and convert the user's natural language query into a structured SQL query that the system can execute.\n",
    "   \n",
    "- **Client-Side Processing**: Executing the generated SQL queries on a lightweight, local database (e.g., SQLite) hosted on the client’s machine. This reduces server load and enhances the scalability of the solution.\n",
    "   \n",
    "- **Data Access and Query Execution**: The local database is populated with relevant data, ensuring that users can query and interact with the most up-to-date information. This data is isolated per user or tenant, ensuring security and customization.\n",
    "\n",
    "By combining NLP with client-side compute, this solution enables efficient, scalable, and user-friendly data interaction, allowing businesses to offer robust data querying capabilities without the overhead of managing large-scale, server-based infrastructures.\n",
    "\n",
    "## Prerequisites"
   ]
  },
  {
   "cell_type": "code",
   "execution_count": 1,
   "metadata": {
    "dotnet_interactive": {
     "language": "csharp"
    },
    "polyglot_notebook": {
     "kernelName": "csharp"
    },
    "vscode": {
     "languageId": "polyglot-notebook"
    }
   },
   "outputs": [
    {
     "data": {
      "text/html": [
       "<div><div></div><div></div><div><strong>Installed Packages</strong><ul><li><span>Azure.AI.OpenAI, 1.0.0-beta.12</span></li><li><span>DotNetEnv, 2.5.0</span></li><li><span>Microsoft.Data.Sqlite, 8.0.6</span></li><li><span>System.Linq, 4.3.0</span></li><li><span>System.Text.Json, 8.0.0</span></li></ul></div></div>"
      ]
     },
     "metadata": {},
     "output_type": "display_data"
    }
   ],
   "source": [
    "#r \"nuget: Azure.AI.OpenAI, 1.0.0-beta.12\"\n",
    "#r \"nuget: DotNetEnv, 2.5.0\"\n",
    "#r \"nuget: System.Linq\"\n",
    "#r \"nuget: Microsoft.Data.Sqlite, 8.0.6\"\n",
    "#r \"nuget: System.Text.Json, 8.0.0\""
   ]
  },
  {
   "cell_type": "markdown",
   "metadata": {},
   "source": [
    "### Instantiate OpenAI API"
   ]
  },
  {
   "cell_type": "code",
   "execution_count": 2,
   "metadata": {
    "dotnet_interactive": {
     "language": "csharp"
    },
    "polyglot_notebook": {
     "kernelName": "csharp"
    },
    "vscode": {
     "languageId": "polyglot-notebook"
    }
   },
   "outputs": [
    {
     "name": "stdout",
     "output_type": "stream",
     "text": [
      "OpenAI Client created...\n"
     ]
    }
   ],
   "source": [
    "using Azure; \n",
    "using Azure.AI.OpenAI;\n",
    "using DotNetEnv;\n",
    "using System.IO;\n",
    "using System.Text.Json; \n",
    "\n",
    "static string _configurationFile = @\"../01_DemoEnvironment/conf/application.env\";\n",
    "Env.Load(_configurationFile);\n",
    "\n",
    "\n",
    "string assetsFolder = Path.Combine(Directory.GetCurrentDirectory(), \"..\", \"..\", \"assets\");\n",
    "\n",
    "string oAiApiKey = Environment.GetEnvironmentVariable(\"SKIT_AOAI_APIKEY\") ?? \"SKIT_AOAI_APIKEY not found\";\n",
    "string oAiEndpoint = Environment.GetEnvironmentVariable(\"SKIT_AOAI_ENDPOINT\") ?? \"SKIT_AOAI_ENDPOINT not found\";\n",
    "string chatCompletionDeploymentName = Environment.GetEnvironmentVariable(\"SKIT_CHATCOMPLETION_DEPLOYMENTNAME\") ?? \"SKIT_CHATCOMPLETION_DEPLOYMENTNAME not found\";\n",
    "\n",
    "AzureKeyCredential azureKeyCredential = new AzureKeyCredential(oAiApiKey);\n",
    "OpenAIClient openAIClient = new OpenAIClient(new Uri(oAiEndpoint), azureKeyCredential);\n",
    "\n",
    "Console.WriteLine($\"OpenAI Client created...\");"
   ]
  },
  {
   "cell_type": "code",
   "execution_count": 3,
   "metadata": {
    "dotnet_interactive": {
     "language": "csharp"
    },
    "polyglot_notebook": {
     "kernelName": "csharp"
    },
    "vscode": {
     "languageId": "polyglot-notebook"
    }
   },
   "outputs": [],
   "source": [
    "        string userQuery = \"i need a list of all invoices in 2021\";\n",
    "        string jsonSchema = File.ReadAllText(Path.Combine(assetsFolder,\"docs\", \"03_SDK\", \"sampleSchema.json\"));\n",
    "        var prompt = $@\"\n",
    "        You are an assistant that helps users translate their natural language queries into SQL queries for a specific database schema. Below is the schema of the database:\n",
    "\n",
    "        Tables and Their Columns:\n",
    "\n",
    "        1. financials\n",
    "           - year (INTEGER)\n",
    "           - month (INTEGER)\n",
    "           - invoices (REAL)\n",
    "           - payments (REAL)\n",
    "\n",
    "        2. address\n",
    "           - street (TEXT)\n",
    "           - city (TEXT)\n",
    "           - postalCode (TEXT)\n",
    "\n",
    "        3. userInfo\n",
    "           - name (TEXT)\n",
    "           - email (TEXT)\n",
    "           - taxId (TEXT)\n",
    "\n",
    "        Please translate the following natural language queries into SQL queries and return the results in the following JSON format:\n",
    "\n",
    "        ```json\n",
    "        {{\n",
    "          \"\"query\"\": \"\"<generated SQL query>\"\",\n",
    "          \"\"error\"\": \"\"<error message if any>\"\"\n",
    "        }}\n",
    "        ```\n",
    "\n",
    "        Example Queries:\n",
    "        1. \"\"Show me all the invoices for the year 2021.\"\"\n",
    "           ```json\n",
    "           {{\n",
    "             \"\"query\"\": \"\"SELECT * FROM financials WHERE year = 2021;\"\",\n",
    "             \"\"error\"\": null\n",
    "           }}\n",
    "           ```\n",
    "\n",
    "        2. \"\"How many months had invoices greater than 500?\"\"\n",
    "           ```json\n",
    "           {{\n",
    "             \"\"query\"\": \"\"SELECT COUNT(DISTINCT month) FROM financials WHERE invoices > 500;\"\",\n",
    "             \"\"error\"\": null\n",
    "           }}\n",
    "           ```\n",
    "\n",
    "        3. \"\"What is the email address of the user named John Doe?\"\"\n",
    "           ```json\n",
    "           {{\n",
    "             \"\"query\"\": \"\"SELECT email FROM userInfo WHERE name = 'John Doe';\"\",\n",
    "             \"\"error\"\": null\n",
    "           }}\n",
    "           ```\n",
    "\n",
    "        4. \"\"List all the postal codes.\"\"\n",
    "           ```json\n",
    "           {{\n",
    "             \"\"query\"\": \"\"SELECT postalCode FROM address;\"\",\n",
    "             \"\"error\"\": null\n",
    "           }}\n",
    "           ```\n",
    "\n",
    "        Now, translate the following query:\n",
    "\n",
    "        Query: \"\"{userQuery}\"\"\n",
    "        Output:\n",
    "        \";"
   ]
  },
  {
   "cell_type": "code",
   "execution_count": 18,
   "metadata": {
    "dotnet_interactive": {
     "language": "csharp"
    },
    "polyglot_notebook": {
     "kernelName": "csharp"
    },
    "vscode": {
     "languageId": "polyglot-notebook"
    }
   },
   "outputs": [],
   "source": [
    "using System.Text.Json;\n",
    "using System.Text.Json.Serialization;\n",
    "using System.Diagnostics;\n",
    "\n",
    "public class StructuredQueryResponse\n",
    "{\n",
    "    [JsonPropertyName(\"query\")]\n",
    "    public string Query { get; set; }\n",
    "\n",
    "    [JsonPropertyName(\"error\")]\n",
    "    public string Error { get; set; }\n",
    "\n",
    "    public string toString()\n",
    "    {\n",
    "        return $\"Query: {Query}, Error: {Error}\";\n",
    "    }\n",
    "}\n",
    "\n",
    "public async Task<StructuredQueryResponse> GetStructuredQueryAsync(string userQuery)\n",
    "{\n",
    "    string sys_prompt = prompt;\n",
    "    ChatCompletionsOptions simpleOption = new ChatCompletionsOptions()\n",
    "    {\n",
    "    //Request Properties\n",
    "    ResponseFormat = ChatCompletionsResponseFormat.JsonObject,\n",
    "    MaxTokens = 500,\n",
    "    Temperature = 0.7f,\n",
    "    NucleusSamplingFactor = 0.0f,\n",
    "    FrequencyPenalty = 0.0f,\n",
    "    PresencePenalty = 0.0f,\n",
    "    DeploymentName = chatCompletionDeploymentName\n",
    "    };\n",
    "\n",
    "    simpleOption.Messages.Add(new ChatRequestSystemMessage(sys_prompt));\n",
    "    var userMessage = $\"Query: {userQuery}. Output:\";\n",
    "    simpleOption.Messages.Add(new ChatRequestUserMessage( userMessage));\n",
    "\n",
    "    Response<ChatCompletions> simpleResponse = await openAIClient.GetChatCompletionsAsync(simpleOption);\n",
    "\n",
    "    // Get the first choice from the response\n",
    "    ChatCompletions simpleCompletions = simpleResponse.Value;\n",
    "\n",
    "    string responseContent = simpleCompletions.Choices[0].Message.Content;\n",
    "\n",
    "    // Deserialize the JSON response into a StructuredQueryResponse object\n",
    "    StructuredQueryResponse structuredQueryResponse;\n",
    "    try\n",
    "    {\n",
    "        structuredQueryResponse = JsonSerializer.Deserialize<StructuredQueryResponse>(responseContent);\n",
    "    }\n",
    "    catch (JsonException)\n",
    "    {\n",
    "        // Handle JSON parsing error\n",
    "        structuredQueryResponse = new StructuredQueryResponse\n",
    "        {\n",
    "            Query = null,\n",
    "            Error = \"Failed to parse the response from the language model.\"\n",
    "        };\n",
    "    }\n",
    "\n",
    "    return structuredQueryResponse;\n",
    "\n",
    "}"
   ]
  },
  {
   "cell_type": "code",
   "execution_count": 19,
   "metadata": {
    "dotnet_interactive": {
     "language": "csharp"
    },
    "polyglot_notebook": {
     "kernelName": "csharp"
    },
    "vscode": {
     "languageId": "polyglot-notebook"
    }
   },
   "outputs": [
    {
     "name": "stdout",
     "output_type": "stream",
     "text": [
      "Time taken to read the JSON file: 36 ms\n"
     ]
    }
   ],
   "source": [
    "\n",
    "var stopwatch = Stopwatch.StartNew();\n",
    "// string jsonObject = File.ReadAllText(Path.Combine(assetsFolder,\"docs\", \"03_SDK\", \"large_sample.json\"));\n",
    "string jsonObject = File.ReadAllText(Path.Combine(assetsFolder,\"docs\", \"03_SDK\", \"large_sample.json\"));\n",
    "stopwatch.Stop();\n",
    "Console.WriteLine($\"Time taken to read the JSON file: {stopwatch.ElapsedMilliseconds} ms\");"
   ]
  },
  {
   "cell_type": "markdown",
   "metadata": {},
   "source": [
    "## Using sqllite\n"
   ]
  },
  {
   "cell_type": "code",
   "execution_count": 20,
   "metadata": {
    "dotnet_interactive": {
     "language": "csharp"
    },
    "polyglot_notebook": {
     "kernelName": "csharp"
    },
    "vscode": {
     "languageId": "polyglot-notebook"
    }
   },
   "outputs": [],
   "source": [
    "\n",
    "using System;\n",
    "using Microsoft.Data.Sqlite;\n",
    "using System.IO;\n",
    "using System.Text.Json;\n",
    "using System.Text.Json.Nodes;"
   ]
  },
  {
   "cell_type": "code",
   "execution_count": 21,
   "metadata": {
    "dotnet_interactive": {
     "language": "csharp"
    },
    "polyglot_notebook": {
     "kernelName": "csharp"
    },
    "vscode": {
     "languageId": "polyglot-notebook"
    }
   },
   "outputs": [],
   "source": [
    "public void SaveFinancialsTable(JsonNode jsonData, SqliteConnection connection)\n",
    "{\n",
    "    var financials = jsonData[\"financials\"][\"monthlyFinancials\"].AsArray();\n",
    "    using (var command = connection.CreateCommand())\n",
    "    {\n",
    "        command.CommandText = @\"\n",
    "        CREATE TABLE IF NOT EXISTS financials (\n",
    "            year INTEGER,\n",
    "            month INTEGER,\n",
    "            invoices REAL,\n",
    "            payments REAL\n",
    "        )\";\n",
    "        command.ExecuteNonQuery();\n",
    "\n",
    "        foreach (var item in financials)\n",
    "        {\n",
    "            command.CommandText = @\"\n",
    "            INSERT INTO financials (year, month, invoices, payments) \n",
    "            VALUES (@year, @month, @invoices, @payments)\";\n",
    "            command.Parameters.Clear();\n",
    "            command.Parameters.AddWithValue(\"@year\", item[\"year\"].GetValue<int>());\n",
    "            command.Parameters.AddWithValue(\"@month\", item[\"month\"].GetValue<int>());\n",
    "            command.Parameters.AddWithValue(\"@invoices\", item[\"invoices\"].GetValue<decimal>());\n",
    "            command.Parameters.AddWithValue(\"@payments\", item[\"payments\"].GetValue<decimal>());\n",
    "            command.ExecuteNonQuery();\n",
    "        }\n",
    "    }\n",
    "}"
   ]
  },
  {
   "cell_type": "code",
   "execution_count": 8,
   "metadata": {
    "dotnet_interactive": {
     "language": "csharp"
    },
    "polyglot_notebook": {
     "kernelName": "csharp"
    },
    "vscode": {
     "languageId": "polyglot-notebook"
    }
   },
   "outputs": [],
   "source": [
    "public void SaveAddressTable(JsonNode jsonData, SqliteConnection connection)\n",
    "{\n",
    "    var address = jsonData[\"address\"];\n",
    "    using (var command = connection.CreateCommand())\n",
    "    {\n",
    "        command.CommandText = @\"\n",
    "        CREATE TABLE IF NOT EXISTS address (\n",
    "            street TEXT,\n",
    "            city TEXT,\n",
    "            postalCode TEXT\n",
    "        )\";\n",
    "        command.ExecuteNonQuery();\n",
    "\n",
    "        command.CommandText = @\"\n",
    "        INSERT INTO address (street, city, postalCode) \n",
    "        VALUES (@street, @city, @postalCode)\";\n",
    "        command.Parameters.Clear();\n",
    "        command.Parameters.AddWithValue(\"@street\", address[\"street\"].GetValue<string>());\n",
    "        command.Parameters.AddWithValue(\"@city\", address[\"city\"].GetValue<string>());\n",
    "        command.Parameters.AddWithValue(\"@postalCode\", address[\"postalCode\"].GetValue<string>());\n",
    "        command.ExecuteNonQuery();\n",
    "    }\n",
    "}\n"
   ]
  },
  {
   "cell_type": "code",
   "execution_count": 22,
   "metadata": {
    "dotnet_interactive": {
     "language": "csharp"
    },
    "polyglot_notebook": {
     "kernelName": "csharp"
    },
    "vscode": {
     "languageId": "polyglot-notebook"
    }
   },
   "outputs": [],
   "source": [
    "public void SaveUserInfoTable(JsonNode jsonData, SqliteConnection connection)\n",
    "{\n",
    "    var userInfo = jsonData[\"contactDetails\"];\n",
    "    var customerId = jsonData[\"customerId\"].GetValue<string>();\n",
    "    var taxId = jsonData[\"taxId\"].GetValue<string>();\n",
    "    var name = jsonData[\"name\"].GetValue<string>();\n",
    "    var currency = jsonData[\"currency\"].GetValue<string>();\n",
    "    var firstInvoiceDate = jsonData[\"firstInvoiceDate\"].GetValue<string>();\n",
    "    var foreignId = jsonData[\"foreignId\"].GetValue<string>();\n",
    "\n",
    "    using (var command = connection.CreateCommand())\n",
    "    {\n",
    "        command.CommandText = @\"\n",
    "        CREATE TABLE IF NOT EXISTS userInfo (\n",
    "            customerId TEXT,\n",
    "            phone TEXT,\n",
    "            taxId TEXT,\n",
    "            currency TEXT,\n",
    "            firstInvoiceDate TEXT,\n",
    "            foreignId TEXT,\n",
    "            name TEXT\n",
    "        )\";\n",
    "        command.ExecuteNonQuery();\n",
    "\n",
    "        command.CommandText = @\"\n",
    "        INSERT INTO userInfo (customerId, phone, taxId, currency, firstInvoiceDate, foreignId, name) \n",
    "        VALUES (@customerId, @phone, @taxId, @currency, @firstInvoiceDate, @foreignId, @name)\";\n",
    "        command.Parameters.Clear();\n",
    "        command.Parameters.AddWithValue(\"@customerId\", customerId);\n",
    "        command.Parameters.AddWithValue(\"@phone\", userInfo[\"phone\"].GetValue<string>());\n",
    "        command.Parameters.AddWithValue(\"@taxId\", taxId);\n",
    "        command.Parameters.AddWithValue(\"@currency\", currency);\n",
    "        command.Parameters.AddWithValue(\"@firstInvoiceDate\", firstInvoiceDate);\n",
    "        command.Parameters.AddWithValue(\"@foreignId\", foreignId);\n",
    "        command.Parameters.AddWithValue(\"@name\", name);\n",
    "        command.ExecuteNonQuery();\n",
    "    }\n",
    "}\n"
   ]
  },
  {
   "cell_type": "code",
   "execution_count": 23,
   "metadata": {
    "dotnet_interactive": {
     "language": "csharp"
    },
    "polyglot_notebook": {
     "kernelName": "csharp"
    },
    "vscode": {
     "languageId": "polyglot-notebook"
    }
   },
   "outputs": [],
   "source": [
    "public void SaveJsonToSQLite(string jsonString)\n",
    "{\n",
    "    JsonNode jsonData = JsonNode.Parse(jsonString);\n",
    "\n",
    "    string dbFilePath = Path.Combine(Directory.GetCurrentDirectory(), \"data.db\");\n",
    "\n",
    "    using (var memoryConnection = new SqliteConnection(\"Data Source=:memory:\"))\n",
    "    {\n",
    "        var stopwatch = Stopwatch.StartNew();\n",
    "        memoryConnection.Open();\n",
    "        SaveFinancialsTable(jsonData, memoryConnection);\n",
    "        SaveAddressTable(jsonData, memoryConnection);\n",
    "        SaveUserInfoTable(jsonData, memoryConnection);\n",
    "        stopwatch.Stop();\n",
    "        Console.WriteLine($\"Time taken to create the in memory sqllite: {stopwatch.ElapsedMilliseconds} ms\");\n",
    "\n",
    "        // Backup the in-memory database to a file\n",
    "        using (var fileConnection = new SqliteConnection($\"Data Source={dbFilePath}\"))\n",
    "        {\n",
    "            fileConnection.Open();\n",
    "            memoryConnection.BackupDatabase(fileConnection);\n",
    "        }\n",
    "\n",
    "        memoryConnection.Close();\n",
    "    }\n",
    "\n",
    "    // Check if the file exists to confirm persistence\n",
    "    if (File.Exists(dbFilePath))\n",
    "    {\n",
    "        Console.WriteLine($\"Database successfully saved to {dbFilePath}\");\n",
    "    }\n",
    "    else\n",
    "    {\n",
    "        Console.WriteLine($\"Failed to save the database to {dbFilePath}\");\n",
    "    }\n",
    "}"
   ]
  },
  {
   "cell_type": "code",
   "execution_count": 24,
   "metadata": {
    "dotnet_interactive": {
     "language": "csharp"
    },
    "polyglot_notebook": {
     "kernelName": "csharp"
    },
    "vscode": {
     "languageId": "polyglot-notebook"
    }
   },
   "outputs": [
    {
     "name": "stdout",
     "output_type": "stream",
     "text": [
      "Time taken to create the in memory sqllite: 418 ms\n",
      "Database successfully saved to /Users/yoavdobrin/workspace/fta/Azure-Samples/aoai-net-starterkit/docs/03_SDK/data.db\n",
      "Time taken to create and persist the sqllite: 505 ms\n"
     ]
    }
   ],
   "source": [
    "\n",
    "var stopwatch = Stopwatch.StartNew();\n",
    "\n",
    "SaveJsonToSQLite(jsonObject);\n",
    "stopwatch.Stop();\n",
    "Console.WriteLine($\"Time taken to create and persist the sqllite: {stopwatch.ElapsedMilliseconds} ms\");\n",
    "\n"
   ]
  },
  {
   "cell_type": "code",
   "execution_count": 25,
   "metadata": {
    "dotnet_interactive": {
     "language": "csharp"
    },
    "polyglot_notebook": {
     "kernelName": "csharp"
    },
    "vscode": {
     "languageId": "polyglot-notebook"
    }
   },
   "outputs": [],
   "source": [
    "public static void ExecuteSQLQuery(string dbFilePath, string sqlQuery)\n",
    "{\n",
    "    using (var connection = new SqliteConnection($\"Data Source={dbFilePath}\"))\n",
    "    {\n",
    "        connection.Open();\n",
    "        using (var command = new SqliteCommand(sqlQuery, connection))\n",
    "        {\n",
    "            using (var reader = command.ExecuteReader())\n",
    "            {\n",
    "                while (reader.Read())\n",
    "                {\n",
    "                    for (int i = 0; i < reader.FieldCount; i++)\n",
    "                    {\n",
    "                        Console.Write($\"{reader.GetName(i)}: {reader[i]} \");\n",
    "                    }\n",
    "                    Console.WriteLine();\n",
    "                }\n",
    "            }\n",
    "        }\n",
    "    }\n",
    "}"
   ]
  },
  {
   "cell_type": "code",
   "execution_count": 26,
   "metadata": {
    "dotnet_interactive": {
     "language": "csharp"
    },
    "polyglot_notebook": {
     "kernelName": "csharp"
    },
    "vscode": {
     "languageId": "polyglot-notebook"
    }
   },
   "outputs": [
    {
     "name": "stdout",
     "output_type": "stream",
     "text": [
      "Time for SQL Query 1484: SELECT COUNT(*) FROM financials WHERE invoices > 20000 AND year = 2021;\n",
      "COUNT(*): 3252 \n",
      "Time taken to run the query: 8 ms\n"
     ]
    }
   ],
   "source": [
    "string userQuery = \"i wonder how many invoices were over 20000 in the year 21\";\n",
    "string dbFilePath = \"data.db\";\n",
    "var stopwatch = Stopwatch.StartNew();\n",
    "StructuredQueryResponse sqlQuery = await GetStructuredQueryAsync(userQuery);\n",
    "stopwatch.Stop();\n",
    "Console.WriteLine($\"Time for SQL Query {stopwatch.ElapsedMilliseconds}: {sqlQuery.Query}\");\n",
    "stopwatch = Stopwatch.StartNew();\n",
    "ExecuteSQLQuery(dbFilePath, sqlQuery.Query);\n",
    "stopwatch.Stop();\n",
    "Console.WriteLine($\"Time taken to run the query: {stopwatch.ElapsedMilliseconds} ms\");"
   ]
  },
  {
   "cell_type": "markdown",
   "metadata": {},
   "source": [
    "## Conclusion\n",
    "\n",
    "This notebook demonstrates a practical approach to enhancing data accessibility through the use of LLM and client-side compute. By translating user queries into SQL commands and executing them locally, we've shown how businesses can empower non-technical users to interact with structured data effectively.\n",
    "\n",
    "The solution not only simplifies the querying process but also addresses key challenges such as: **server load, scalability, and cost efficiency**. By offloading the computational work to client devices and leveraging lightweight databases like SQLite, organizations can provide a responsive and energy-efficient data interaction experience.\n",
    "\n",
    "This approach is particularly beneficial for ISVs and small to medium-sized businesses that need to offer robust data querying capabilities without the complexity and expense of maintaining large-scale server infrastructure. As businesses continue to seek more efficient and user-friendly ways to interact with their data, solutions like this will play a crucial role in bridging the gap between technical and non-technical users.\n",
    "\n"
   ]
  }
 ],
 "metadata": {
  "kernelspec": {
   "display_name": ".NET (C#)",
   "language": "C#",
   "name": ".net-csharp"
  },
  "language_info": {
   "name": "python"
  },
  "polyglot_notebook": {
   "kernelInfo": {
    "defaultKernelName": "csharp",
    "items": [
     {
      "aliases": [],
      "name": "csharp"
     }
    ]
   }
  }
 },
 "nbformat": 4,
 "nbformat_minor": 2
}
