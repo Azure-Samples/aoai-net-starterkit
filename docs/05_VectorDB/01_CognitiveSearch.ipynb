{
 "cells": [
  {
   "cell_type": "markdown",
   "metadata": {},
   "source": [
    "# 05 Vector DB | 01 Azure Cognitive Search\n",
    "\n",
    "## Azure Environment\n",
    "\n",
    "You can create the necessary instance of Azure OpenAI and deploy an embedding model by executing one of the deployment options [mentioned here](../../create_env/src/AzureCLI/CreateEnv.azcli). To execute the sample code service specific information is needed ([Details and instructions here](../01_DemoEnvironment/01_Environment.ipynb)) \n",
    "\n",
    "## Step 1: Create OpenAIClient\n",
    "\n",
    "The OpenAIClient from Azure.AI.OpenAI is a .NET client library that acts as the centralized point for all .NET functionality that want to interact with a deployed Azure OpenAI Large Language Model. It provides methods to access the OpenAI REST APIs for various tasks such as text completion, text embedding, and chat completion, etc.. It also allows developers to specify the model, engine, and options for each request, such as temperature, frequency penalty, presence penalty, and stop sequences. \n",
    "\n",
    "The OpenAIClient can connect to any Azure OpenAI resource or to the non-Azure OpenAI inference endpoint, making it a versatile and powerful tool for .NET development with OpenAI."
   ]
  },
  {
   "cell_type": "code",
   "execution_count": null,
   "metadata": {
    "dotnet_interactive": {
     "language": "csharp"
    },
    "polyglot_notebook": {
     "kernelName": "csharp"
    }
   },
   "outputs": [],
   "source": [
    "#r \"nuget: Azure.AI.OpenAI, 1.0.0-beta.8\"\n",
    "#r \"nuget: DotNetEnv, 2.5.0\"\n",
    "#r \"nuget: Azure.Search.Documents, 11.5.0-beta.4\"\n",
    "\n",
    "using Azure;\n",
    "using Azure.AI.OpenAI;\n",
    "using Azure.Search.Documents;\n",
    "using Azure.Search.Documents.Indexes;\n",
    "using Azure.Search.Documents.Indexes.Models;\n",
    "using Azure.Search.Documents.Models;\n",
    "using DotNetEnv;\n",
    "\n",
    "\n",
    "static string _configurationFile = @\"../01_DemoEnvironment/conf/application.env\";\n",
    "Env.Load(_configurationFile);\n",
    "\n",
    "string oAiApiKey = Environment.GetEnvironmentVariable(\"SKIT_AOAI_APIKEY\") ?? \"SKIT_AOAI_APIKEY not found\";\n",
    "string oAiEndpoint = Environment.GetEnvironmentVariable(\"SKIT_AOAI_ENDPOINT\") ?? \"SKIT_AOAI_ENDPOINT not found\";\n",
    "string embeddingDeploymentName = Environment.GetEnvironmentVariable(\"SKIT_EMBEDDING_DEPLOYMENTNAME\") ?? \"SKIT_EMBEDDING_DEPLOYMENTNAME not found\";\n",
    "\n",
    "string cognitiveSearchEndpoint = Environment.GetEnvironmentVariable(\"SKIT_SEARCH_ENDPOINT\") ?? \"\";\n",
    "string cognitiveSearchApiKey = Environment.GetEnvironmentVariable(\"SKIT_SEARCH_APIKEY\") ?? \"\";\n",
    "\n",
    "AzureKeyCredential azureKeyCredential = new AzureKeyCredential(oAiApiKey);\n",
    "OpenAIClient openAIClient = new OpenAIClient(new Uri(oAiEndpoint), azureKeyCredential);\n",
    "\n",
    "AzureKeyCredential searchCredential = new AzureKeyCredential(cognitiveSearchApiKey);\n",
    "SearchIndexClient searchIndexClient = new SearchIndexClient(new Uri(cognitiveSearchEndpoint), searchCredential);\n",
    "\n",
    "Console.WriteLine(\"Azure OpenAI client created...\");\n",
    "Console.WriteLine(\"Cognitive Search client created...\");    \n"
   ]
  },
  {
   "cell_type": "markdown",
   "metadata": {},
   "source": [
    "Expected output:\n",
    "```\n",
    "Installed Packages\n",
    "    Azure.AI.OpenAI, 1.0.0-beta.8\n",
    "    Azure.Search.Documents, 11.5.0-beta.4\n",
    "    DotNetEnv, 2.5.0\n",
    "Azure OpenAI client created...\n",
    "Cognitive Search client created...\n",
    "```\n"
   ]
  },
  {
   "cell_type": "markdown",
   "metadata": {},
   "source": [
    "## Step 2 - Create Search Index"
   ]
  },
  {
   "cell_type": "code",
   "execution_count": null,
   "metadata": {
    "dotnet_interactive": {
     "language": "csharp"
    },
    "polyglot_notebook": {
     "kernelName": "csharp"
    }
   },
   "outputs": [],
   "source": [
    "//Create search index\n",
    "string indexName = \"fact-index\"; \n",
    "string searchConfigName = \"fact-config\";\n",
    "\n",
    "int modelDimensions = 1536;\n",
    "SearchIndex searchIndex = new(indexName)\n",
    "{\n",
    "    Fields =\n",
    "    {\n",
    "        new SimpleField(\"FactId\", SearchFieldDataType.String) { IsKey = true, IsFilterable = true, IsSortable = true, IsFacetable = true },\n",
    "        new SearchableField(\"FactName\") { IsFilterable = true, IsSortable = true },\n",
    "        new SearchableField(\"FactDescription\") { IsFilterable = true },\n",
    "        new SearchField(\"FactVector\", SearchFieldDataType.Collection(SearchFieldDataType.Single))\n",
    "        {\n",
    "            IsSearchable = true,\n",
    "            VectorSearchDimensions = modelDimensions,\n",
    "            VectorSearchConfiguration = searchConfigName\n",
    "        },\n",
    "    },\n",
    "    VectorSearch = new()\n",
    "    {\n",
    "        AlgorithmConfigurations =\n",
    "        {\n",
    "            new HnswVectorSearchAlgorithmConfiguration(searchConfigName)\n",
    "        }\n",
    "    }\n",
    "}; \n",
    "\n",
    "try { await searchIndexClient.DeleteIndexAsync(indexName); } catch {}\n",
    "await searchIndexClient.CreateIndexAsync(searchIndex);   \n",
    "Console.WriteLine(\"Search index created...\");\n"
   ]
  },
  {
   "cell_type": "markdown",
   "metadata": {},
   "source": [
    "Expected output:\n",
    "```\n",
    "Search Index created...\n",
    "```"
   ]
  },
  {
   "cell_type": "markdown",
   "metadata": {},
   "source": [
    "## Step 3 - Define facts\n",
    "\n",
    "Technical facts are precise pieces of information or data related to a specific technical domain or subject. They can encompass a wide range of topics including software specifications, hardware configurations, algorithm behaviors, coding standards, or any other technical attributes and characteristics. These facts are typically derived from technical documentation, product manuals, technical research papers, or direct observations and measurements.\n",
    "\n",
    "The use case for having a list of technical facts and enabling semantic search on these facts is manifold. It can significantly aid in:\n",
    "\n",
    "1. **Knowledge Retrieval**: Quickly retrieving relevant technical information needed for decision-making, problem-solving, or understanding a particular technical concept or system.\n",
    "2. **Technical Support and Troubleshooting**: Assisting in identifying solutions to technical issues or providing guidance based on the technical facts available.\n",
    "3. **Product Development and Improvement**: Facilitating a deeper understanding of technical specifications and requirements which in turn can guide product development and improvement efforts.\n",
    "4. **Research and Innovation**: Providing a foundation for research and innovation by offering a rich source of technical data that can be explored and analyzed.\n",
    "5. **Educational Purposes**: Serving as a valuable resource for educational purposes, helping learners, and professionals to grasp technical concepts and stay updated on technical advancements.\n",
    "\n",
    "By having a semantic search capability on these technical facts, users can go beyond simple keyword searches and leverage the power of semantic understanding to find more relevant and contextual results. This makes the search process much more effective and insightful, especially in scenarios where precision and context are crucial.\n"
   ]
  },
  {
   "cell_type": "code",
   "execution_count": null,
   "metadata": {
    "dotnet_interactive": {
     "language": "csharp"
    },
    "polyglot_notebook": {
     "kernelName": "csharp"
    }
   },
   "outputs": [],
   "source": [
    "//Define facts\n",
    "public class Fact\n",
    "{\n",
    "    public string FactId { get; set; } = \"\";\n",
    "    public string FactName { get; set; } = \"\";\n",
    "    public string FactDescription { get; set; } = \"\";\n",
    "    public IReadOnlyList<float> FactVector { get; set; } = new List<float>(); \n",
    "}\n",
    "\n",
    "Fact[] facts = new[]\n",
    "{\n",
    "    new Fact()\n",
    "    {\n",
    "        FactId = \"1\",\n",
    "        FactName = \"Company Music\",\n",
    "        FactDescription = @\"Firma Musik is one of the world's leading record labels. \n",
    "                            It has signed famous singers and is very profitable! \n",
    "                            The flagship of Contoso Music is a group that performs under the name 'Contoso Only'!\",\n",
    "        FactVector = new float[1536],\n",
    "    },\n",
    "    new Fact()\n",
    "    {\n",
    "        FactId = \"2\",\n",
    "        FactName = \"Company Maritim\",\n",
    "        FactDescription = @\"Company Heavy Industry Maritime products. \n",
    "                        The current bestseller is the container transporter 'Contoso XL Heavy 2000'.\",\n",
    "        FactVector = new float[1536],\n",
    "    },\n",
    "    new Fact()\n",
    "    {\n",
    "        FactId = \"3\",\n",
    "        FactName = \"Company Agriculture\",\n",
    "        FactDescription = @\"Company Agriculture is a German start-up that focuses on the production of milk and grain. \n",
    "                            Since this is a start-up, no further information is available!\",\n",
    "        FactVector = new float[1536], \n",
    "    },\n",
    "};\n",
    "\n",
    "Console.WriteLine(\"Facts defined...\");"
   ]
  },
  {
   "cell_type": "markdown",
   "metadata": {},
   "source": [
    "Expected output:\n",
    "```\n",
    "Facts defined...\n",
    "```"
   ]
  },
  {
   "cell_type": "markdown",
   "metadata": {},
   "source": [
    "## Step 4 - Upload facts to Azure Cognitive Search\n",
    "\n",
    "In this sept we calculate the embeddings for the facts and upload them to Azure Cognitive Search."
   ]
  },
  {
   "cell_type": "code",
   "execution_count": null,
   "metadata": {
    "dotnet_interactive": {
     "language": "csharp"
    },
    "polyglot_notebook": {
     "kernelName": "csharp"
    }
   },
   "outputs": [],
   "source": [
    "foreach(Fact fact in facts) {\n",
    "    EmbeddingsOptions factEmbeddingsOptions = new EmbeddingsOptions(fact.FactDescription);\n",
    "    var factEmbedding = await openAIClient.GetEmbeddingsAsync(embeddingDeploymentName, factEmbeddingsOptions);\n",
    "    float[] embeddingData = factEmbedding.Value.Data[0].Embedding.ToArray<float>();\n",
    "    fact.FactVector = embeddingData;\n",
    "}\n",
    "\n",
    "SearchClient searchClient = searchIndexClient.GetSearchClient(indexName);\n",
    "await searchClient.IndexDocumentsAsync(IndexDocumentsBatch.Upload(facts));\n",
    "\n",
    "Console.WriteLine(\"Fact documents uploaded...\");"
   ]
  },
  {
   "cell_type": "markdown",
   "metadata": {},
   "source": [
    "Expected output:\n",
    "```\n",
    "Facts documents uploaded...\n",
    "```"
   ]
  },
  {
   "cell_type": "markdown",
   "metadata": {},
   "source": [
    "## Step 5 - Vector search\n",
    "\n",
    "In this step we use the Azure Cognitive Search to search for the most relevant fact based on a user query. The query is converted to an embedding and compared to the embeddings of the facts. The most similar fact is returned."
   ]
  },
  {
   "cell_type": "code",
   "execution_count": null,
   "metadata": {
    "dotnet_interactive": {
     "language": "csharp"
    },
    "polyglot_notebook": {
     "kernelName": "csharp"
    }
   },
   "outputs": [],
   "source": [
    "//Search vectors\n",
    "EmbeddingsOptions embeddingsOptions; \n",
    "embeddingsOptions = new EmbeddingsOptions(\"Who produces Container Ships?\");\n",
    "var embedding = await openAIClient.GetEmbeddingsAsync(embeddingDeploymentName, embeddingsOptions);\n",
    "float[] vectorizedResult = embedding.Value.Data[0].Embedding.ToArray<float>();\n",
    "\n",
    "\n",
    "SearchResults<Fact> response = await searchClient.SearchAsync<Fact>(\n",
    "    null,\n",
    "    new SearchOptions {\n",
    "        Vectors = { new() { Value = vectorizedResult, KNearestNeighborsCount = 1, Fields = { \"FactVector\" } } },\n",
    "    }\n",
    ");\n",
    "\n",
    "Console.WriteLine($\"Single Vector Search Results:\");\n",
    "await foreach (SearchResult<Fact> result in response.GetResultsAsync())\n",
    "{\n",
    "    Console.WriteLine($\"Search result: {result.Document.FactId}: {result.Document.FactName}\");\n",
    "}"
   ]
  },
  {
   "cell_type": "markdown",
   "metadata": {},
   "source": [
    "## Understanding the result\n",
    "\n",
    "First, you can see that the right company was selected based on the user query. The customer was querying about which of the companies defined in the facts is the best fit for his needs. The reason this was selected by the service is since the query and the fact are semantically similar. \n",
    "\n",
    "## Next step\n",
    "\n",
    "The previous notebooks used the Azure OpenAI SDK and specifically the OpenAI Client object to interact with LLMs. Microsoft has open sourced another SDK `Semantic Kernel` which introduces additional concepts like (PlugIns, Memory, Planner, Connectors etc.) to simplify development even further. [Here's and overview](../06_SemanticKernel/README.md) of Semantic Kernel and here are notebooks with demo code to explore the concepts: \n",
    "\n",
    "- [Plugin semantic inline function](../06_SemanticKernel/01_PlugIn_SemanticFunction_Inline.ipynb)\n",
    "- [Plugin semantic function from file](../06_SemanticKernel/02_PlugIn_SemanticFunction_File.ipynb)\n",
    "- [Plugin native function](../06_SemanticKernel/03_PlugIn_NativeFunction.ipynb)\n",
    "- [Demo Memories](../06_SemanticKernel/04_Memory.ipynb)\n",
    "- [Demo Planner](../06_SemanticKernel/05_Planner.ipynb)\n",
    "- [Demo Logs in Semantic Kernel](../06_SemanticKernel/06_Logs.ipynb)\n"
   ]
  }
 ],
 "metadata": {
  "kernelspec": {
   "display_name": ".NET (C#)",
   "language": "C#",
   "name": ".net-csharp"
  },
  "language_info": {
   "name": "polyglot-notebook"
  },
  "polyglot_notebook": {
   "kernelInfo": {
    "defaultKernelName": "csharp",
    "items": [
     {
      "aliases": [],
      "languageName": "csharp",
      "name": "csharp"
     }
    ]
   }
  }
 },
 "nbformat": 4,
 "nbformat_minor": 2
}
