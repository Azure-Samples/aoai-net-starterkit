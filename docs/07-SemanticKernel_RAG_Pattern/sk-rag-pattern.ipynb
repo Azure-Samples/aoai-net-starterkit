{
 "cells": [
  {
   "cell_type": "markdown",
   "metadata": {},
   "source": [
    "# SK RAG pattern implementation\n",
    "\n",
    "Learning objectives:\n",
    "\n",
    "- A simple SK RAG pattern implementation using volatile memory\n",
    "\n",
    "## Setup\n",
    "\n",
    "### Load required .NET packages and supporting constants, classes, etc."
   ]
  },
  {
   "cell_type": "code",
   "execution_count": null,
   "metadata": {
    "dotnet_interactive": {
     "language": "csharp"
    },
    "polyglot_notebook": {
     "kernelName": "csharp"
    }
   },
   "outputs": [],
   "source": [
    "#r \"nuget: Microsoft.SemanticKernel, 1.0.0-beta8\"\n",
    "#r \"nuget: Microsoft.SemanticKernel.Connectors.Memory.Sqlite, 1.0.0-beta8\"\n",
    "#r \"nuget: dotenv.net\"\n",
    "\n",
    "using System;\n",
    "using System.IO;\n",
    "using System.Text;\n",
    "using System.Text.Json;\n",
    "using System.Text.Json.Serialization;\n",
    "using System.ComponentModel;\n",
    "using System.Net.Http;\n",
    "using Microsoft.Extensions.Logging;\n",
    "using Microsoft.SemanticKernel;\n",
    "using Microsoft.SemanticKernel.Connectors.AI.OpenAI;\n",
    "using Microsoft.SemanticKernel.Connectors.AI.OpenAI.TextEmbedding;\n",
    "using Microsoft.SemanticKernel.Memory;\n",
    "using Microsoft.SemanticKernel.Orchestration;\n",
    "using Microsoft.SemanticKernel.Plugins.Memory;\n",
    "using Microsoft.SemanticKernel.Connectors;\n",
    "using Microsoft.SemanticKernel.Connectors.Memory.Sqlite;\n",
    "using dotenv.net;\n",
    "using InteractiveKernel = Microsoft.DotNet.Interactive.Kernel;\n",
    "\n",
    "#!import Models/Models.cs\n",
    "\n",
    "const string MemoryCollectionName = \"LearningsCollection\";"
   ]
  },
  {
   "cell_type": "markdown",
   "metadata": {},
   "source": [
    "### Read the API Key and endpoints from environment variables or the .env file"
   ]
  },
  {
   "cell_type": "code",
   "execution_count": null,
   "metadata": {
    "dotnet_interactive": {
     "language": "csharp"
    },
    "polyglot_notebook": {
     "kernelName": "csharp"
    }
   },
   "outputs": [],
   "source": [
    "// TODO: Create a file named .env in the same directory as this notebook\n",
    "// and add the following lines:\n",
    "// GPT_OPENAI_DEPLOYMENT_NAME=ada\n",
    "// GPT_OPENAI_ENDPOINT=https://api.openai.com\n",
    "// GPT_OPENAI_KEY=<your key>\n",
    "\n",
    "// Load the .env file\n",
    "DotEnv.Load();\n",
    "\n",
    "// Get the OpenAI deployment name, endpoint, and key from the environment variables\n",
    "var deploymentName = Environment.GetEnvironmentVariable(\"GPT_OPENAI_DEPLOYMENT_NAME\");\n",
    "var endpoint = Environment.GetEnvironmentVariable(\"GPT_OPENAI_ENDPOINT\");\n",
    "var apiKey = Environment.GetEnvironmentVariable(\"GPT_OPENAI_KEY\");\n",
    "var adaDeploymentName = \"ada\";"
   ]
  },
  {
   "cell_type": "markdown",
   "metadata": {},
   "source": [
    "### Get a kernel instance configured for text completions and embeddings"
   ]
  },
  {
   "cell_type": "code",
   "execution_count": null,
   "metadata": {
    "dotnet_interactive": {
     "language": "csharp"
    },
    "polyglot_notebook": {
     "kernelName": "csharp"
    }
   },
   "outputs": [],
   "source": [
    "// I'm using a RAM stored Vector DB, but I can switch providers like Azure Search, DuckDB, SQLite, etc.\n",
    "var ramStore = new VolatileMemoryStore();\n",
    "var sqliteStore = await SqliteMemoryStore.ConnectAsync(\"./vectors.sqlite\");\n",
    "\n",
    "var kernel = new KernelBuilder()\n",
    "            .WithAzureOpenAIChatCompletionService(deploymentName, endpoint, apiKey)\n",
    "            .WithAzureOpenAITextEmbeddingGenerationService(\"ada\", endpoint, apiKey)\n",
    "            .Build();\n",
    "            \n",
    "var embeddingGenerator = new AzureOpenAITextEmbeddingGeneration(adaDeploymentName, endpoint, apiKey,null,null,null);\n",
    "SemanticTextMemory textMemory = new(ramStore, embeddingGenerator);\n",
    "\n",
    "var skRagFuncDef = \"{{$query}}\\n\\nUsing only the following text:\\n\\\"\\\"\\\"\\n{{$input}}\\n\\\"\\\"\\\"\";"
   ]
  },
  {
   "cell_type": "markdown",
   "metadata": {},
   "source": [
    "## Ingestion\n",
    "\n",
    "### Read and deserialize the JSON learnings data file"
   ]
  },
  {
   "cell_type": "code",
   "execution_count": null,
   "metadata": {
    "dotnet_interactive": {
     "language": "csharp"
    },
    "polyglot_notebook": {
     "kernelName": "csharp"
    }
   },
   "outputs": [],
   "source": [
    "var jsonFileContents = File.ReadAllText(\"data/learnings.json\");\n",
    "var learnings = System.Text.Json.JsonSerializer.Deserialize<List<Learning>>(jsonFileContents);\n",
    "learnings"
   ]
  },
  {
   "cell_type": "markdown",
   "metadata": {},
   "source": [
    "### Chunk the learnings & recommendations\n",
    "\n",
    "**Note:** This is a simple chunker. It chunks by splitting the document into paragraphs. A more realistic chunker would try to optimize the token size limit, chunking smartly (not in the a middle of a paragraph or sentence), etc."
   ]
  },
  {
   "cell_type": "code",
   "execution_count": null,
   "metadata": {
    "dotnet_interactive": {
     "language": "csharp"
    },
    "polyglot_notebook": {
     "kernelName": "csharp"
    }
   },
   "outputs": [],
   "source": [
    "// Keep a list of chunks\n",
    "var chunks = new List<Chunk>();\n",
    "\n",
    "// For each learning process the chunks\n",
    "foreach(var learning in learnings)\n",
    "{\n",
    "    // Break the learnings into paragraphs\n",
    "    var paragraphs = learning.Content.Split(\"\\n\\n\");\n",
    "    \n",
    "    // For each paragraph create a chunk\n",
    "    for(var i=0;i<paragraphs.Length;i++)\n",
    "    {\n",
    "        // Add the chunk to the list\n",
    "        chunks.Add(new Chunk(learning.Id+\"-\"+(i+1),paragraphs[i]));\n",
    "    }\n",
    "}"
   ]
  },
  {
   "cell_type": "markdown",
   "metadata": {},
   "source": [
    "### Save memories for every chunk"
   ]
  },
  {
   "cell_type": "code",
   "execution_count": null,
   "metadata": {
    "dotnet_interactive": {
     "language": "csharp"
    },
    "polyglot_notebook": {
     "kernelName": "csharp"
    }
   },
   "outputs": [],
   "source": [
    "foreach(var chunk in chunks)\n",
    "{    \n",
    "    await textMemory.SaveInformationAsync(MemoryCollectionName, id: chunk.Id, text: chunk.Text);\n",
    "}"
   ]
  },
  {
   "cell_type": "markdown",
   "metadata": {},
   "source": [
    "## Grounding\n",
    "\n",
    "### Retrieve the memory based on a query"
   ]
  },
  {
   "cell_type": "code",
   "execution_count": null,
   "metadata": {
    "dotnet_interactive": {
     "language": "csharp"
    },
    "polyglot_notebook": {
     "kernelName": "csharp"
    }
   },
   "outputs": [],
   "source": [
    "var query = await InteractiveKernel.GetInputAsync(\"What is your query?\");\n",
    "\n",
    "IAsyncEnumerable<MemoryQueryResult> queryResults =\n",
    "                textMemory.SearchAsync(MemoryCollectionName, query, limit: 3, minRelevanceScore: 0.77);"
   ]
  },
  {
   "cell_type": "markdown",
   "metadata": {},
   "source": [
    "\n",
    "### Find memories based on query, and collect the text in the memories to augment the prompt"
   ]
  },
  {
   "cell_type": "code",
   "execution_count": null,
   "metadata": {
    "dotnet_interactive": {
     "language": "csharp"
    },
    "polyglot_notebook": {
     "kernelName": "csharp"
    }
   },
   "outputs": [],
   "source": [
    "// Keep a list of the memories\n",
    "StringBuilder promptData = new StringBuilder();\n",
    "\n",
    "await foreach (MemoryQueryResult r in queryResults)\n",
    "{\n",
    "    promptData.Append(r.Metadata.Text+\"\\n\\n\");\n",
    "}\n",
    "\n",
    "// Final augmented text\n",
    "var augmentedText = promptData.ToString();\n",
    "Console.WriteLine($\"User:\\n{query}\\n\\nNearest results:\\n{augmentedText}\")"
   ]
  },
  {
   "cell_type": "markdown",
   "metadata": {},
   "source": [
    "## Process Prompt & Completion"
   ]
  },
  {
   "cell_type": "markdown",
   "metadata": {},
   "source": [
    "### Create a SK function to process the prompt<br/>and execute the function"
   ]
  },
  {
   "cell_type": "code",
   "execution_count": null,
   "metadata": {
    "dotnet_interactive": {
     "language": "csharp"
    },
    "polyglot_notebook": {
     "kernelName": "csharp"
    }
   },
   "outputs": [],
   "source": [
    "const string ragFunctionDefinition = \"{{$input}}\\n\\nText:\\n\\\"\\\"\\\"{{$data}}\\n\\\"\\\"\\\"\";\n",
    "var ragFunction = kernel.CreateSemanticFunction(ragFunctionDefinition);\n",
    "\n",
    "var result = await kernel.RunAsync(ragFunction, new(query)\n",
    "{\n",
    "    [\"data\"] = augmentedText    \n",
    "});\n",
    "\n",
    "Console.WriteLine(result);"
   ]
  }
 ],
 "metadata": {
  "kernelspec": {
   "display_name": ".NET (C#)",
   "language": "C#",
   "name": ".net-csharp"
  },
  "language_info": {
   "name": "polyglot-notebook"
  },
  "polyglot_notebook": {
   "kernelInfo": {
    "defaultKernelName": "csharp",
    "items": [
     {
      "aliases": [],
      "languageName": "csharp",
      "name": "csharp"
     }
    ]
   }
  }
 },
 "nbformat": 4,
 "nbformat_minor": 2
}
